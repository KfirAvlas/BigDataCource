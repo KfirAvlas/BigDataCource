{
 "cells": [
  {
   "cell_type": "markdown",
   "metadata": {},
   "source": [
    "## Big Data - Ex2 \n",
    "\n",
    "Kfir Avlas \n",
    "060519071"
   ]
  },
  {
   "cell_type": "markdown",
   "metadata": {},
   "source": [
    "## Association rule learning\n",
    "\n",
    "Association rule learning is a rule-based machine learning method for discovering interesting relations between variables in large databases.\n",
    "It is intended to identify strong rules discovered in databases using some measures of interestingness.\n"
   ]
  },
  {
   "cell_type": "markdown",
   "metadata": {},
   "source": [
    "My algorithm :\n",
    "\n",
    "Step1: - Read data file\n",
    "       - Clean and arrange data\n",
    "      \n",
    "Step2: - Arrange the data as key-value pairs with key = user Id, value = query\n",
    "       - Remove duplicates ( same query of the same user)\n",
    "\n",
    "       [(user_id_1 , query_1) , (user_id_1 , query_2), ..., (user_id_n, query_m) ]\n",
    "\n",
    "Step3: - Save total transactions number\n",
    "\n",
    "Step4: - Invert the data, this is needed in order to save query repetities for calculating the support value\n",
    "         Save queries as a key in order to check how many users search for it\n",
    "       - Arrange it as key-value pairs with key = query, value = user id\n",
    "       \n",
    "       [( query_1 , user_id_1) , (query_2 , user_id_1), ..., (query_m , user_id_n) ]\n",
    "\n",
    "Step5: - Save item (query) counts as an Hashmap, in order to use it later for calculating the support value\n",
    "\n",
    "Step6: - Set minimum support parameter and alculates the minimum query count \n",
    "       - Remove rare quries accoring the minimum support value  \n",
    "\n",
    "Step7: - Reduce data , arrange it as a key-value pairs with key = user_id, value = list of user queries\n",
    "\n",
    "        [( user_id_1 , [query_1 , query2 ,..] ) , ( user_id_2 , [query_3 , query4 ,..] ) , .... ] \n",
    "        \n",
    "Step8: - Map all possible query pair combinations \n",
    "       - Use flat map in order to return more than one value for each data line\n",
    "       - Foreach pair save its repetities number \n",
    "       \n",
    "       [ ((query1 , query2), count1) , ((query1 , query3), count2), ... , ) ]\n",
    "      \n",
    "Step9: - For given confidence value, filter quries in order to discovering interesting relations\n",
    "\n",
    "Step10: - Save results in  a file\n",
    "        "
   ]
  },
  {
   "cell_type": "code",
   "execution_count": 1,
   "metadata": {},
   "outputs": [],
   "source": [
    "# Read data file as csv\n",
    "\n",
    "def read_file(p_path: str):\n",
    "    return spark.read.csv(p_path, sep = \"\\t\", inferSchema=True, header=True)"
   ]
  },
  {
   "cell_type": "code",
   "execution_count": 2,
   "metadata": {},
   "outputs": [],
   "source": [
    "# Read data\n",
    "\n",
    "path = \"/home/spark-vm/PycharmProjects/BigDataCource/user-ct-test-collection-01.txt\"\n",
    "main_data = read_file(path)"
   ]
  },
  {
   "cell_type": "code",
   "execution_count": 3,
   "metadata": {},
   "outputs": [
    {
     "data": {
      "text/plain": [
       "DataFrame[AnonID: int, Query: string, QueryTime: timestamp, ItemRank: int, ClickURL: string]"
      ]
     },
     "execution_count": 3,
     "metadata": {},
     "output_type": "execute_result"
    }
   ],
   "source": [
    "main_data"
   ]
  },
  {
   "cell_type": "code",
   "execution_count": 4,
   "metadata": {},
   "outputs": [
    {
     "data": {
      "text/plain": [
       "[Row(AnonID=142, Query='rentdirect.com', QueryTime=datetime.datetime(2006, 3, 1, 7, 17, 12), ItemRank=None, ClickURL=None),\n",
       " Row(AnonID=142, Query='www.prescriptionfortime.com', QueryTime=datetime.datetime(2006, 3, 12, 12, 31, 6), ItemRank=None, ClickURL=None),\n",
       " Row(AnonID=142, Query='staple.com', QueryTime=datetime.datetime(2006, 3, 17, 21, 19, 29), ItemRank=None, ClickURL=None),\n",
       " Row(AnonID=142, Query='staple.com', QueryTime=datetime.datetime(2006, 3, 17, 21, 19, 45), ItemRank=None, ClickURL=None),\n",
       " Row(AnonID=142, Query='www.newyorklawyersite.com', QueryTime=datetime.datetime(2006, 3, 18, 8, 2, 58), ItemRank=None, ClickURL=None)]"
      ]
     },
     "execution_count": 4,
     "metadata": {},
     "output_type": "execute_result"
    }
   ],
   "source": [
    "main_data.take(5)"
   ]
  },
  {
   "cell_type": "code",
   "execution_count": 5,
   "metadata": {},
   "outputs": [],
   "source": [
    "# Check if query is meaningful\n",
    "\n",
    "def is_valid_query(t):\n",
    "    query = str(t[\"Query\"])\n",
    "    \n",
    "    if (query == \"-\" or query == \"\"):\n",
    "        return False\n",
    "    else:\n",
    "        return True"
   ]
  },
  {
   "cell_type": "code",
   "execution_count": 6,
   "metadata": {},
   "outputs": [],
   "source": [
    "# Clean data\n",
    "\n",
    "# We will use filter transformation before map in order to improve efficiency \n",
    "# because map is pass on the data line by line\n",
    "\n",
    "# Filter empty queries \n",
    "\n",
    "main_data = main_data.rdd.filter(is_valid_query)"
   ]
  },
  {
   "cell_type": "code",
   "execution_count": 7,
   "metadata": {},
   "outputs": [],
   "source": [
    "# Use userId and query columns, remove duplicate queries for the same userId\n",
    "\n",
    "trx_item = main_data.map(lambda x: (int(x[0]), str(x[1]))).distinct()"
   ]
  },
  {
   "cell_type": "code",
   "execution_count": 8,
   "metadata": {},
   "outputs": [
    {
     "data": {
      "text/plain": [
       "PythonRDD[23] at RDD at PythonRDD.scala:53"
      ]
     },
     "execution_count": 8,
     "metadata": {},
     "output_type": "execute_result"
    }
   ],
   "source": [
    "trx_item"
   ]
  },
  {
   "cell_type": "code",
   "execution_count": 9,
   "metadata": {},
   "outputs": [
    {
     "data": {
      "text/plain": [
       "[(142, 'rentdirect.com'),\n",
       " (142, 'staple.com'),\n",
       " (142, 'www.newyorklawyersite.com'),\n",
       " (142, '207 ad2d 530'),\n",
       " (142, 'frankmellace.com'),\n",
       " (142, 'ucs.ljx.com'),\n",
       " (142, 'attornyleslie.com'),\n",
       " (142, 'merit release appearance'),\n",
       " (142, 'www.bonsai.wbff.org'),\n",
       " (142, 'loislaw.com'),\n",
       " (217, 'lottery'),\n",
       " (217, 'susheme'),\n",
       " (217, 'united.com'),\n",
       " (217, 'mizuno.com'),\n",
       " (217, 'buddylis'),\n",
       " (217, 'bestasiancompany.com'),\n",
       " (217, 'weather.com'),\n",
       " (217, 'vietnam'),\n",
       " (993, 'googl'),\n",
       " (1268, 'sstack.com')]"
      ]
     },
     "execution_count": 9,
     "metadata": {},
     "output_type": "execute_result"
    }
   ],
   "source": [
    "trx_item.take(20)"
   ]
  },
  {
   "cell_type": "code",
   "execution_count": 10,
   "metadata": {},
   "outputs": [],
   "source": [
    "# Save total transactions number\n",
    "\n",
    "trx_counts = trx_item.countByKey()"
   ]
  },
  {
   "cell_type": "code",
   "execution_count": 11,
   "metadata": {},
   "outputs": [],
   "source": [
    "total_trx = len(trx_counts)"
   ]
  },
  {
   "cell_type": "code",
   "execution_count": 12,
   "metadata": {},
   "outputs": [
    {
     "data": {
      "text/plain": [
       "64942"
      ]
     },
     "execution_count": 12,
     "metadata": {},
     "output_type": "execute_result"
    }
   ],
   "source": [
    "total_trx"
   ]
  },
  {
   "cell_type": "code",
   "execution_count": 13,
   "metadata": {},
   "outputs": [],
   "source": [
    "# Invert the key-value\n",
    "\n",
    "# Save queries (items) as a key in order to check how many users (transactions) search for it\n",
    "\n",
    "items = trx_item.map(lambda x: (x[1],x[0]))"
   ]
  },
  {
   "cell_type": "code",
   "execution_count": 14,
   "metadata": {},
   "outputs": [
    {
     "data": {
      "text/plain": [
       "PythonRDD[26] at RDD at PythonRDD.scala:53"
      ]
     },
     "execution_count": 14,
     "metadata": {},
     "output_type": "execute_result"
    }
   ],
   "source": [
    "items"
   ]
  },
  {
   "cell_type": "code",
   "execution_count": 15,
   "metadata": {},
   "outputs": [
    {
     "data": {
      "text/plain": [
       "[('rentdirect.com', 142),\n",
       " ('staple.com', 142),\n",
       " ('www.newyorklawyersite.com', 142),\n",
       " ('207 ad2d 530', 142),\n",
       " ('frankmellace.com', 142),\n",
       " ('ucs.ljx.com', 142),\n",
       " ('attornyleslie.com', 142),\n",
       " ('merit release appearance', 142),\n",
       " ('www.bonsai.wbff.org', 142),\n",
       " ('loislaw.com', 142),\n",
       " ('lottery', 217),\n",
       " ('susheme', 217),\n",
       " ('united.com', 217),\n",
       " ('mizuno.com', 217),\n",
       " ('buddylis', 217),\n",
       " ('bestasiancompany.com', 217),\n",
       " ('weather.com', 217),\n",
       " ('vietnam', 217),\n",
       " ('googl', 993),\n",
       " ('sstack.com', 1268)]"
      ]
     },
     "execution_count": 15,
     "metadata": {},
     "output_type": "execute_result"
    }
   ],
   "source": [
    "items.take(20)"
   ]
  },
  {
   "cell_type": "code",
   "execution_count": 16,
   "metadata": {},
   "outputs": [],
   "source": [
    "# Save item counts as a Hashmap using countByKey action\n",
    "\n",
    "item_counts = items.countByKey()"
   ]
  },
  {
   "cell_type": "code",
   "execution_count": 17,
   "metadata": {},
   "outputs": [
    {
     "data": {
      "text/plain": [
       "defaultdict(int,\n",
       "            {'rentdirect.com': 3,\n",
       "             'staple.com': 6,\n",
       "             'www.newyorklawyersite.com': 1,\n",
       "             '207 ad2d 530': 1,\n",
       "             'frankmellace.com': 1,\n",
       "             'ucs.ljx.com': 1,\n",
       "             'attornyleslie.com': 1,\n",
       "             'merit release appearance': 1,\n",
       "             'www.bonsai.wbff.org': 1,\n",
       "             'loislaw.com': 2,\n",
       "             'lottery': 127,\n",
       "             'susheme': 1,\n",
       "             'united.com': 44,\n",
       "             'mizuno.com': 6,\n",
       "             'buddylis': 1,\n",
       "             'bestasiancompany.com': 2,\n",
       "             'weather.com': 318,\n",
       "             'vietnam': 14,\n",
       "             'googl': 95,\n",
       "             'sstack.com': 2,\n",
       "             'www.victoriacostumiere.com': 1,\n",
       "             'osteen-schatzberg.com': 1,\n",
       "             'www.buckmountianestates.com': 1,\n",
       "             'idx.techsolsc.com': 1,\n",
       "             'www.bridleandbit.com': 1,\n",
       "             'http www.flickr.com photos 88145967 n00 24368586 in pool-32148876 n00': 1,\n",
       "             'href a href alt a http www.flickr.com photos 88145967 n00 24368586 in pool-32148876 n00': 1,\n",
       "             'www.acevedoarabians.com': 1,\n",
       "             'adbuyer3.lycos.com': 5,\n",
       "             'www.pinerplantation.com': 1,\n",
       "             'files': 62,\n",
       "             'www.kmcwheel.com': 1,\n",
       "             'www.ameicaneaglewheel.com': 1,\n",
       "             'cascadefamilymedical.com': 1,\n",
       "             'the childs wonderland company': 1,\n",
       "             \"the child's wonderland company grand rapids michigan\": 1,\n",
       "             'www.budget rentals.com': 1,\n",
       "             'adr wheels': 1,\n",
       "             'uslandrecords.com': 1,\n",
       "             'select business services': 1,\n",
       "             'pennsylvania real estate settlement services': 1,\n",
       "             'sunbury pennsylvania real estate settlement services': 1,\n",
       "             'atm corporation': 2,\n",
       "             'chesapeake appraisal and settlement services': 1,\n",
       "             'first american chesapeake': 1,\n",
       "             'www.americantitleinc.com': 1,\n",
       "             'www.aculinkms.com': 1,\n",
       "             'united one resources': 1,\n",
       "             'security search and abstract': 1,\n",
       "             'integrated loan services': 1,\n",
       "             'auto locator': 5,\n",
       "             'auto locator pennsylvania': 1,\n",
       "             'www.mygeisinger.com': 1,\n",
       "             'shamokin dam kentucky fried chicken menu': 1,\n",
       "             'ford': 103,\n",
       "             'www.steparoundstep.com': 1,\n",
       "             'target bowling green state university rug black orange rectangle': 1,\n",
       "             'www.bugerking.com': 1,\n",
       "             'google': 6828,\n",
       "             'myspace.ocm': 48,\n",
       "             'glitter graphics.com': 3,\n",
       "             'ww.vibe.com': 1,\n",
       "             'wnmu': 1,\n",
       "             'http www.s.c.t.gob. mx.': 1,\n",
       "             'http www.s.c.t.gob. mx.roads': 1,\n",
       "             'www.juangabrielcd.com': 2,\n",
       "             'www.accuweather': 1,\n",
       "             'www.loat.com weather': 1,\n",
       "             'profileedit.myspace.com': 223,\n",
       "             'weatherchannel': 29,\n",
       "             'zip codes': 251,\n",
       "             'dana reeves dies': 4,\n",
       "             'harry': 6,\n",
       "             \"amc painter's crossing\": 1,\n",
       "             'kbb': 55,\n",
       "             'remax': 146,\n",
       "             'dog torn cornea treatment': 1,\n",
       "             '1999 honda accord check engine light reset': 1,\n",
       "             'honda accord check engine light pa emissions': 1,\n",
       "             'fuel additives to turn off check engine light': 1,\n",
       "             'honda accord fuel additives check engine light': 1,\n",
       "             'sprint.com': 125,\n",
       "             'bare minerals make up': 1,\n",
       "             'amc painters crossing': 1,\n",
       "             'pergola house entrance': 1,\n",
       "             'accountlinkk': 1,\n",
       "             'accountlink': 1,\n",
       "             'prestonandsteve': 1,\n",
       "             'msn.com': 478,\n",
       "             'philadelphia rocky statue': 1,\n",
       "             'philadelphia independence mall': 1,\n",
       "             'securespeed.us': 1,\n",
       "             'lily pads breast': 1,\n",
       "             'braxton hicks contractions': 5,\n",
       "             'foods to avoid when breast feeding': 1,\n",
       "             'roth ira': 15,\n",
       "             'roth.upi-net.com': 1,\n",
       "             'babycenter.com': 8,\n",
       "             'ad.double script language': 1,\n",
       "             'baby center': 8,\n",
       "             'yahoo.com': 2726,\n",
       "             \"applebee's carside\": 1,\n",
       "             'baby names': 148,\n",
       "             'mortgage calculator': 92,\n",
       "             'inducing dog vomiting': 1,\n",
       "             'inducing dog defication': 1,\n",
       "             'jessemccartney': 3,\n",
       "             'c': 210,\n",
       "             '.com': 1109,\n",
       "             'movie theaters peru il': 1,\n",
       "             'peru illinois cenima': 1,\n",
       "             'peru illinois cinema': 1,\n",
       "             'peru illinois movie theater showings': 1,\n",
       "             'disneychanne.com': 2,\n",
       "             'popstar magazine.com': 1,\n",
       "             'jojo': 11,\n",
       "             'jmacconnectino': 1,\n",
       "             'jmacconnection': 1,\n",
       "             'kidsonlilne': 1,\n",
       "             'peru illinois cinema schedule': 1,\n",
       "             'mariobitali.com': 1,\n",
       "             'philshockeyteam': 1,\n",
       "             'cliffnotes': 7,\n",
       "             'cliff notes': 15,\n",
       "             'the war of the worlds cliff notes': 1,\n",
       "             'learntospeakblack.com': 1,\n",
       "             'learntospeakblack': 1,\n",
       "             'wowr': 1,\n",
       "             'poker': 69,\n",
       "             'philshockyteam.com': 1,\n",
       "             'w': 247,\n",
       "             'counterstrike': 4,\n",
       "             'hernias': 7,\n",
       "             'silive': 10,\n",
       "             'hernia doctors': 1,\n",
       "             'people search': 190,\n",
       "             'thedarkside switch': 1,\n",
       "             'http www.chaiyya chaiyya': 1,\n",
       "             'cstoons': 1,\n",
       "             'spit ball with straw': 1,\n",
       "             'spitball with straw': 1,\n",
       "             'www.babblebunch.com': 1,\n",
       "             'www.not so popular popstars.com': 1,\n",
       "             'www.l.l.bean.com': 3,\n",
       "             'www.best buy.com': 19,\n",
       "             'www.wallmart.com': 68,\n",
       "             \"www.claire's.com\": 2,\n",
       "             \"www.clair's accessories store.com\": 1,\n",
       "             'www.j': 20,\n",
       "             'www.uu': 1,\n",
       "             'military rental benfits': 1,\n",
       "             'deers id cards army': 1,\n",
       "             'www.publixdirect.com': 3,\n",
       "             'publix': 29,\n",
       "             'waldrop hills': 1,\n",
       "             'georgia state': 4,\n",
       "             'georgia perimeter': 1,\n",
       "             'pin.ed.gov': 2,\n",
       "             'irs.gov': 190,\n",
       "             \"saint philip's college\": 1,\n",
       "             'routing number for bank of america military bank': 1,\n",
       "             'georgia state university': 9,\n",
       "             'ssa.gov': 9,\n",
       "             'texas marriage lisence': 1,\n",
       "             'texas marriage licence': 1,\n",
       "             'georgia guardianship laws': 1,\n",
       "             'georgia guardianship laws conservator dekalb county': 1,\n",
       "             'georgia veterans': 1,\n",
       "             'understanding fractions': 1,\n",
       "             'bed bath beyond': 31,\n",
       "             'home depot': 682,\n",
       "             'wardrobe': 3,\n",
       "             'va benefits': 2,\n",
       "             'lost': 91,\n",
       "             'preteen birthday party': 1,\n",
       "             'preteen party': 1,\n",
       "             'sciencetrek georgia': 1,\n",
       "             'scitrek museum': 1,\n",
       "             'birthday party': 8,\n",
       "             'baby shower ideas': 10,\n",
       "             'enterprise rent a car': 42,\n",
       "             'avis': 62,\n",
       "             'enterprise': 65,\n",
       "             'party city': 28,\n",
       "             'brooke army medical center': 2,\n",
       "             'georgia force': 1,\n",
       "             'progressive.com': 33,\n",
       "             'patinia': 1,\n",
       "             'ingles': 1,\n",
       "             'birthday cakes': 13,\n",
       "             'butterfly birthday cakes': 1,\n",
       "             'butterfly party': 1,\n",
       "             'tulle butterflies': 1,\n",
       "             'how to make tulle butterflies': 1,\n",
       "             'amscan': 2,\n",
       "             'shimmering butterfly': 1,\n",
       "             'shimmering butterfly party': 1,\n",
       "             'when is it necessary to be guardian of minors estate': 1,\n",
       "             'lowes': 486,\n",
       "             'peephole': 1,\n",
       "             \"siskind's atlanta custom cake\": 1,\n",
       "             'custom cake georgia': 1,\n",
       "             'meineke': 4,\n",
       "             'baby shower purple': 1,\n",
       "             'kumon': 4,\n",
       "             'wamu': 53,\n",
       "             'ft mcpherson': 1,\n",
       "             'build a bear': 23,\n",
       "             'microsoft': 120,\n",
       "             'aol.com': 207,\n",
       "             'ellenwood allstars': 1,\n",
       "             'georgia summer camp': 1,\n",
       "             'fool.com': 1,\n",
       "             'ask.com': 670,\n",
       "             'cingular': 336,\n",
       "             'columbus bank and trust routing number': 1,\n",
       "             'routing number forcolumbus bank and trust': 1,\n",
       "             'georgw washington university': 1,\n",
       "             'kudzu.com': 1,\n",
       "             'shurgard storage centers': 1,\n",
       "             'storage centers': 1,\n",
       "             'tune-up clinic auto': 1,\n",
       "             'auto tune up clinic': 1,\n",
       "             'tune up clinic': 1,\n",
       "             'martha liing': 1,\n",
       "             'martha living': 1,\n",
       "             'gpc': 1,\n",
       "             't-mobile': 86,\n",
       "             'sears.com': 184,\n",
       "             'jewelery': 6,\n",
       "             'jewerly stores': 1,\n",
       "             'raven simone': 3,\n",
       "             'thats so raven': 13,\n",
       "             \"atlanta's north springs high school\": 1,\n",
       "             'poison control': 7,\n",
       "             'jvc': 8,\n",
       "             'hallmark': 84,\n",
       "             'hallmark stores': 1,\n",
       "             'cheese cake factory': 4,\n",
       "             'cheesecake factory': 28,\n",
       "             'cheerleading in georgia lithonia': 1,\n",
       "             'belly dancing': 8,\n",
       "             'belly dancing georgia': 1,\n",
       "             'better business': 5,\n",
       "             'jvc kd-s5050': 1,\n",
       "             'death for marriage': 1,\n",
       "             'aartstranscrips.army.mil': 1,\n",
       "             'cool.army.mil': 1,\n",
       "             'hyundaiusa': 1,\n",
       "             'order hyundai parts': 1,\n",
       "             'napa aotu parts': 2,\n",
       "             'j c whitney': 10,\n",
       "             'shift knob pattern plate': 1,\n",
       "             'atozone com': 1,\n",
       "             'autozone com': 1,\n",
       "             'how to remove adware from computer': 1,\n",
       "             'mailbox': 414,\n",
       "             'jc whitney': 41,\n",
       "             'new a c for hyundai elantra': 1,\n",
       "             'recalls for hyundai elantra': 1,\n",
       "             'meadowcreek youth football georgia': 1,\n",
       "             'meadowcreek park': 1,\n",
       "             'tucker cheerleading': 1,\n",
       "             'cheerleading in tucker georgia': 1,\n",
       "             'microsoft adaware': 1,\n",
       "             'gwinnett parks': 1,\n",
       "             'meadow creek georgia football': 1,\n",
       "             'georgia youth football meadow creek': 1,\n",
       "             'meadowcreek new mercies youth athletic association': 1,\n",
       "             'youth athletic associations': 1,\n",
       "             'georgia youth athletic associations': 1,\n",
       "             'city of norcross': 1,\n",
       "             'lucky shoals park': 1,\n",
       "             'best friend park': 1,\n",
       "             'best friend park georgia': 1,\n",
       "             'greater atlanta christian school': 1,\n",
       "             'youth track and field': 1,\n",
       "             'autosave.com': 1,\n",
       "             'autosave car rental': 1,\n",
       "             'omnicancun': 1,\n",
       "             'university of wyoming': 1,\n",
       "             'okay to tip tennis instructor': 1,\n",
       "             'okay to give money to tennis instructor': 1,\n",
       "             'discovery kids': 6,\n",
       "             'www.househol': 1,\n",
       "             'img http': 20,\n",
       "             'dominos pizza': 34,\n",
       "             'dominos pizza coupons': 2,\n",
       "             'warrenfcu.com': 1,\n",
       "             \"lil' movers school bus fisher-price\": 1,\n",
       "             'cheerleader nation tv show': 1,\n",
       "             'lifetime cheerleader nation tv show': 1,\n",
       "             'fisher-price lil school bus': 1,\n",
       "             \"roman's clothing store\": 1,\n",
       "             'pogo': 247,\n",
       "             'apple ipodnano': 1,\n",
       "             'pc dominoes game': 1,\n",
       "             'hallmark free ecards': 3,\n",
       "             'outback': 15,\n",
       "             'outback menu': 3,\n",
       "             'cause sensitivity to light': 1,\n",
       "             'statistics on infanticide': 1,\n",
       "             'people magazines pictures of tom cruise and katie holmes': 1,\n",
       "             \"people magazine's pictures of tom cruise and katie holmes\": 1,\n",
       "             'prospective cohort study': 1,\n",
       "             'dopamine': 2,\n",
       "             'rxonline': 2,\n",
       "             'webmd': 368,\n",
       "             'cause of baby blues': 1,\n",
       "             'coupons amazon': 1,\n",
       "             'showcase cinamas': 1,\n",
       "             'travelocity': 484,\n",
       "             'youth challenge wyoming': 1,\n",
       "             'mrsa': 13,\n",
       "             'mrsa webmd': 1,\n",
       "             'gifts for nurses who teach breastfeeding': 1,\n",
       "             'board of public utilities cheyenne wyoming': 1,\n",
       "             'cheyenne bopu': 1,\n",
       "             'applebees menu': 1,\n",
       "             'red envelope': 12,\n",
       "             'etoy coupons': 1,\n",
       "             'cordless curling iron': 1,\n",
       "             'cordless ceramic straightener': 1,\n",
       "             'blood clots while on coumadin': 1,\n",
       "             'activity with phlebitis': 1,\n",
       "             'phelbitis tennis': 1,\n",
       "             'phlebitis tennis': 1,\n",
       "             'graduation keepsake box': 1,\n",
       "             'phelbitis petiqie': 1,\n",
       "             'phlebitis bruising': 1,\n",
       "             'beethoven': 7,\n",
       "             'song lyrics forever in you forever in me': 1,\n",
       "             'chicken crock pot reciepes': 1,\n",
       "             'gre exam wyoming': 1,\n",
       "             'disneyworld vacation packs': 1,\n",
       "             'disney world vacation packs': 1,\n",
       "             'lladro': 7,\n",
       "             'examples of acronyms': 1,\n",
       "             'acronym poems': 1,\n",
       "             'writing acronym poems': 1,\n",
       "             'dixie chicks songs about president bush': 1,\n",
       "             \"disney world mickey's very merry christmas party\": 1,\n",
       "             'disney world': 87,\n",
       "             \"wendy's menu\": 1,\n",
       "             'billy gene king movie tv time': 1,\n",
       "             'traveocity': 4,\n",
       "             's australia': 1,\n",
       "             'australia': 28,\n",
       "             'match.': 5,\n",
       "             'match.com': 151,\n",
       "             'mat.com': 4,\n",
       "             'natch.com': 1,\n",
       "             'ma': 28,\n",
       "             'helpaol.com': 2,\n",
       "             'pepper': 1,\n",
       "             'yahooh': 2,\n",
       "             'yahoo': 2662,\n",
       "             'google.': 67,\n",
       "             'cheaptickets': 86,\n",
       "             'koreaatourofdury.org': 1,\n",
       "             'jean pierre and jewelry': 1,\n",
       "             'diamond jewelry and jean pierre': 1,\n",
       "             'diamonds jean pierre': 1,\n",
       "             'truetone.com': 1,\n",
       "             'joe weider home page': 1,\n",
       "             'paose.info': 2,\n",
       "             'americanexpress doublepoints19': 1,\n",
       "             'americanexpress.com doublepoints19': 1,\n",
       "             'www.webshots.comargs rand 71': 1,\n",
       "             'www.webshots.comargs rand 66': 1,\n",
       "             'ascemtive com': 1,\n",
       "             'www.american-baby.com': 1,\n",
       "             'ringtones': 92,\n",
       "             'myyramid.gov': 1,\n",
       "             'mypyramid.gov': 3,\n",
       "             'ualr.edu': 1,\n",
       "             'arkansas secretary of state': 2,\n",
       "             'www.sickinsertions.com.com': 1,\n",
       "             'americanflag': 1,\n",
       "             'hertz enterprise': 1,\n",
       "             'cleveland municipal school district': 4,\n",
       "             'hairstyles': 95,\n",
       "             'mohawk': 3,\n",
       "             'black gay chatlines': 1,\n",
       "             'alltel': 43,\n",
       "             'tuxedo junction': 2,\n",
       "             'mohawk hairstyles': 1,\n",
       "             'steve madden': 12,\n",
       "             'blkgaychat.com': 5,\n",
       "             'syria historical events': 1,\n",
       "             'google.c om': 5,\n",
       "             'ww.neisd.com': 1,\n",
       "             'www.neisd.com': 1,\n",
       "             'www.disnf': 1,\n",
       "             'www.disnel': 1,\n",
       "             'lovehina': 1,\n",
       "             'california': 40,\n",
       "             \"imvu com'\": 1,\n",
       "             'a': 207,\n",
       "             'www.a': 57,\n",
       "             'homepages.go.com': 7,\n",
       "             'rpskov.by.ru': 1,\n",
       "             'sushi zushi': 1,\n",
       "             'www.miakaandtamahome.com': 1,\n",
       "             'www.play haus disny.com': 1,\n",
       "             'www.com': 13,\n",
       "             'www.mycartools.com': 1,\n",
       "             'www.spanish': 3,\n",
       "             'www.next.com': 4,\n",
       "             'journals': 9,\n",
       "             'www.bichescom.': 1,\n",
       "             'www.mrwiggleshiphop.net': 6,\n",
       "             'www.assingmentdiscovery.com': 1,\n",
       "             'www.latinapics.com': 3,\n",
       "             '.www.uvision.com.': 1,\n",
       "             'news.bbc.': 1,\n",
       "             'www.mydaugterisfuckinganigga.com': 1,\n",
       "             'ww.pe2k.com': 1,\n",
       "             'www.rxdrugcard.com': 1,\n",
       "             'mapquest.com': 869,\n",
       "             'wwwmyfloridacounty.com': 1,\n",
       "             'www.myflorida.com': 19,\n",
       "             'www.notary': 1,\n",
       "             'www.sheiriffdepartment': 1,\n",
       "             '.policestationdepatment': 1,\n",
       "             'wayne county michigan process server': 1,\n",
       "             'florida department of professional regulations': 1,\n",
       "             'citrus county couts': 1,\n",
       "             'florida corporations': 1,\n",
       "             'lucchese stingray boots': 1,\n",
       "             'lee county courts': 1,\n",
       "             'leeclerk.org': 8,\n",
       "             'palm beach county building permits': 1,\n",
       "             'judge wroble': 1,\n",
       "             'judge arthur wroble': 1,\n",
       "             'department of justice': 5,\n",
       "             'florida department of justice': 1,\n",
       "             'manikins': 1,\n",
       "             'pillow case dress': 1,\n",
       "             'rjm builders': 1,\n",
       "             'palm beach county trial lawyers': 1,\n",
       "             'georgia group inc.': 1,\n",
       "             'palm beach boat show': 1,\n",
       "             'florida marlins': 10,\n",
       "             'garment rack': 1,\n",
       "             'prokat boats': 1,\n",
       "             'prosports boats': 1,\n",
       "             'state abbreviations': 9,\n",
       "             'palm beach county voters coalition': 1,\n",
       "             'voters coalition': 1,\n",
       "             'achohol tobacco and firearms': 1,\n",
       "             'loan payments': 2,\n",
       "             'boot world': 1,\n",
       "             'lucchese boots': 1,\n",
       "             'auto accident pictures': 1,\n",
       "             'auto accident photographs': 1,\n",
       "             'family law': 6,\n",
       "             'florida divrce laws': 1,\n",
       "             'palm beach county family connection': 1,\n",
       "             'palm beach county building and zoning': 1,\n",
       "             'www.law.find': 1,\n",
       "             'florida criminal lawyer': 1,\n",
       "             'www.dui.coml lawyer': 1,\n",
       "             'tiger woods': 25,\n",
       "             'delray affair': 2,\n",
       "             'jeanette fossas': 1,\n",
       "             'jeanette fossis': 1,\n",
       "             'osteophytosis': 1,\n",
       "             'www.royalprobuilder.com': 1,\n",
       "             'david lee edwards': 1,\n",
       "             'david edwards and powerball lottery': 1,\n",
       "             'www.southpamlbeachbar.org': 1,\n",
       "             'de la moussaye and christiansen': 1,\n",
       "             'de la moussaye and john christiansen': 1,\n",
       "             'auto accidents': 2,\n",
       "             'personal injury pawyer': 1,\n",
       "             'loan calculator': 22,\n",
       "             'south county administrative center': 1,\n",
       "             'national historical society': 1,\n",
       "             'area codes': 150,\n",
       "             'area code look up': 7,\n",
       "             'metro pcs': 22,\n",
       "             'www.injuryhelpline.com': 1,\n",
       "             'mitm.com': 1,\n",
       "             'master generator': 1,\n",
       "             'st lucie county property appraiser': 2,\n",
       "             'www.chicmommyshops.com': 1,\n",
       "             'www.chicmommyshopps.com': 1,\n",
       "             'chci mommy shops': 1,\n",
       "             'www.chicmommyshopp.com': 1,\n",
       "             'www.chicmommyshop.com': 1,\n",
       "             'kenneth lemoine': 1,\n",
       "             'jerry beer and judge': 1,\n",
       "             'puerto rico economy': 2,\n",
       "             'www.palmbeach co': 1,\n",
       "             'florida lottery': 142,\n",
       "             'palm beach county elections': 1,\n",
       "             'palm beach county elecions': 1,\n",
       "             'unique boat sales': 1,\n",
       "             'intranet.pbcc.edu': 2,\n",
       "             'triton boats': 3,\n",
       "             'palm beach post times': 1,\n",
       "             'code of judicial conduct': 1,\n",
       "             'rinker material': 1,\n",
       "             'fishing charters': 1,\n",
       "             'catia mortgage': 1,\n",
       "             'mortgage loans': 7,\n",
       "             'ocean financial': 1,\n",
       "             'offshore financial': 1,\n",
       "             'www.rinker material': 1,\n",
       "             'lee county clerk of court': 1,\n",
       "             'greater yamaha': 1,\n",
       "             'enterprise rental': 14,\n",
       "             'georgia lottery': 26,\n",
       "             'boot stretcher': 1,\n",
       "             'butterfly lure': 1,\n",
       "             'west marine': 24,\n",
       "             'magic tilt trailer': 1,\n",
       "             'www.kelterco.com': 2,\n",
       "             'yamaha gauges': 1,\n",
       "             'marine speakers': 2,\n",
       "             'rainer': 1,\n",
       "             'florida department of revenue': 11,\n",
       "             'line x bed liner': 1,\n",
       "             'star rods': 1,\n",
       "             'bobby tucker': 1,\n",
       "             'royal wall systems': 1,\n",
       "             'florida boat registration': 2,\n",
       "             'fathers day': 9,\n",
       "             'whitney tower jr': 1,\n",
       "             'www.kelloggs.com': 2,\n",
       "             \"www.pete'scoffee.com\": 1,\n",
       "             'www.abcdistributing.com': 18,\n",
       "             'wwwelloggs.com': 1,\n",
       "             'wwwkelloggs.com': 1,\n",
       "             'www.newschannel3.com': 1,\n",
       "             'www.zellow.com': 6,\n",
       "             'www.zillow.com': 34,\n",
       "             'www.insightholdings.net': 1,\n",
       "             'www.pebleopeds.com': 1,\n",
       "             'www.pebleo pediatrics.com': 1,\n",
       "             'www. kendra hall.com': 1,\n",
       "             'pbskids.org': 39,\n",
       "             'http www.gray wolves.co': 1,\n",
       "             'www.dumis.com': 1,\n",
       "             'www.priceline com': 2,\n",
       "             'www.getawaytoday.com': 1,\n",
       "             'www.bomis.com': 1,\n",
       "             'passward': 4,\n",
       "             'www.go9': 1,\n",
       "             'www.ritzcarltonhotels.com': 2,\n",
       "             'www.westportnow.org': 1,\n",
       "             'patrick kennedy': 5,\n",
       "             'wwwgoo': 9,\n",
       "             'www.palmcoastesort.com': 1,\n",
       "             'tomlinson middle school': 1,\n",
       "             'angelina jolie': 48,\n",
       "             'bikini murder': 1,\n",
       "             'www.crazy shit .com': 2,\n",
       "             'x-men costom.com': 1,\n",
       "             'www.ccbg.co': 1,\n",
       "             'www.ccbg.com': 1,\n",
       "             'ca': 15,\n",
       "             'cam': 4,\n",
       "             'fitnessmag.com': 1,\n",
       "             'aircraft carrier': 2,\n",
       "             'battleships us': 1,\n",
       "             'battleships us 2005': 1,\n",
       "             'battleships us navy': 1,\n",
       "             'bonin islands': 1,\n",
       "             'burma road': 1,\n",
       "             'dairen map': 1,\n",
       "             'chelmno': 1,\n",
       "             'battleships us navy keel': 1,\n",
       "             'battleships us keel': 1,\n",
       "             'm': 668,\n",
       "             'big fat liar bines': 1,\n",
       "             'prejudice propaganda bandwagon stereotype': 1,\n",
       "             'db': 2,\n",
       "             'webshots': 39,\n",
       "             'wwe': 111,\n",
       "             'silver element': 1,\n",
       "             'silver element chemical': 1,\n",
       "             'silver pure metal pellet': 1,\n",
       "             'silver pure metal periodic': 1,\n",
       "             'silver pure metal element': 1,\n",
       "             'periodic table visual poster': 1,\n",
       "             'the pianist': 3,\n",
       "             'elie wiesel': 3,\n",
       "             'chemical composition of ball point pens': 1,\n",
       "             'composition of ballpoints': 1,\n",
       "             'composition of ballpoints iridium': 1,\n",
       "             'atomic bomb': 7,\n",
       "             'bomb': 1,\n",
       "             'speedo water polo': 1,\n",
       "             'solidgoldmobile': 1,\n",
       "             'solidgoldmobile.com': 1,\n",
       "             'www.special': 1,\n",
       "             'speedily': 1,\n",
       "             'dri stretch hip brief': 1,\n",
       "             'calvin klein dri stretch hip brief': 1,\n",
       "             'environmentalist companies': 1,\n",
       "             'kuril islands map': 1,\n",
       "             'corregidor': 1,\n",
       "             'holocaust': 29,\n",
       "             'auschwitz camp': 1,\n",
       "             'belzek chimney': 1,\n",
       "             'madjeneck chimney': 1,\n",
       "             'madjenek camp': 1,\n",
       "             'sobibor camp': 1,\n",
       "             'belzek camp': 1,\n",
       "             'power rangers': 20,\n",
       "             'incredibles cape': 1,\n",
       "             'king cold dbz': 1,\n",
       "             'king cold dragon': 1,\n",
       "             'pianist szpilman': 1,\n",
       "             'lifeguard speedo': 1,\n",
       "             'lifeguard men in speedo': 1,\n",
       "             'lifeguard men': 1,\n",
       "             'www.pianist.com': 1,\n",
       "             'world war ii death tolls': 1,\n",
       "             'world war i death tolls': 1,\n",
       "             'world war first death tolls': 1,\n",
       "             'spice': 3,\n",
       "             'spice boys dbz': 1,\n",
       "             'nappa vegeta': 1,\n",
       "             'undertaker': 2,\n",
       "             'undertaker wwe': 1,\n",
       "             'money money money': 2,\n",
       "             'money money money song': 1,\n",
       "             'abba band': 1,\n",
       "             'abba band country': 1,\n",
       "             'mama mia only seventeen song': 1,\n",
       "             'funkytown song': 1,\n",
       "             'funkytown lipps': 1,\n",
       "             'men in speedos': 1,\n",
       "             'studs in speedos': 1,\n",
       "             'abba band from': 1,\n",
       "             'abba band bio': 1,\n",
       "             'list ofpolish stars': 1,\n",
       "             'polish singers': 1,\n",
       "             'pbs building big': 1,\n",
       "             'ocean clouds': 1,\n",
       "             'wasteland horizon': 1,\n",
       "             'world war ii in color': 1,\n",
       "             'world war ii kiss nurse': 1,\n",
       "             'world war ii nurse': 1,\n",
       "             'wwi nurse': 1,\n",
       "             'wwii nurse': 1,\n",
       "             'speedo divers': 1,\n",
       "             'speedo beach': 1,\n",
       "             'speedo guy': 1,\n",
       "             'speedo hunk': 1,\n",
       "             'speedo boys': 2,\n",
       "             'speedo swimmers': 1,\n",
       "             'speedos swimmers': 1,\n",
       "             'speedos divers': 1,\n",
       "             'speedos tight': 1,\n",
       "             'aquariumofpacific.org': 1,\n",
       "             'speedos': 1,\n",
       "             'speedos ironman': 1,\n",
       "             'muscle fitness': 1,\n",
       "             'muscle speedo': 1,\n",
       "             'muscular speedo': 1,\n",
       "             'ironman speedo': 1,\n",
       "             'wrestling underpants': 1,\n",
       "             'batman underwear': 1,\n",
       "             'wrestler underwear': 1,\n",
       "             'king tekken tag': 1,\n",
       "             'speedos strippers': 1,\n",
       "             'speedos beach': 1,\n",
       "             'wwii in color history channel': 1,\n",
       "             'pearl harbor in color history channel': 1,\n",
       "             'triathlete speedo men': 1,\n",
       "             'triathlete men swim': 1,\n",
       "             'triathlete men run': 1,\n",
       "             'triathlete men running': 1,\n",
       "             'speedo': 6,\n",
       "             'ricky martin speedo': 1,\n",
       "             'hydrogen bomb': 2,\n",
       "             'wladeslaw szpilman': 1,\n",
       "             'wladyslaw szpilman birth': 1,\n",
       "             'sd': 5,\n",
       "             'slog': 1,\n",
       "             'zebrowski': 1,\n",
       "             'english to german dictionary': 1,\n",
       "             'elijah wood holocaust documntary': 1,\n",
       "             'elijah wood holocaust documentary': 1,\n",
       "             'the flight that fought back': 1,\n",
       "             'hudson river map new york bay': 1,\n",
       "             'hudson river new york city plane': 1,\n",
       "             'hudson river map': 1,\n",
       "             'german to english': 4,\n",
       "             'hudson river map manhattan': 1,\n",
       "             'hudson river map ny': 1,\n",
       "             'steven spielberg holocaust': 1,\n",
       "             'ladder 49': 2,\n",
       "             'elijah wood joaquin phoenix holocaust documentary': 1,\n",
       "             'ww': 142,\n",
       "             'mad dog': 2,\n",
       "             'southeast asia map tolerance.org': 1,\n",
       "             'taiwan zebra underwear': 1,\n",
       "             'taiwan underwear': 1,\n",
       "             \"taiwan men's underwear\": 1,\n",
       "             \"men's nylon briefs\": 1,\n",
       "             \"men's thighs briefs\": 1,\n",
       "             'fruit of the loom nylon': 1,\n",
       "             'hanes nylon': 1,\n",
       "             'zebra stripes underwear men': 1,\n",
       "             'zebra stripes underwear': 1,\n",
       "             'zebra striped briefs': 1,\n",
       "             'tan': 4,\n",
       "             'tan speedo': 1,\n",
       "             'tan speedos': 1,\n",
       "             'tan man swimsuit': 1,\n",
       "             'tan man brief': 1,\n",
       "             'warsaw boy': 1,\n",
       "             'warsaw ghetto': 1,\n",
       "             'tan man': 1,\n",
       "             'tann guy in speedo': 1,\n",
       "             'tan guy in speedo': 1,\n",
       "             'guy in speedo': 1,\n",
       "             'tanning oil body': 1,\n",
       "             'dog mout': 1,\n",
       "             'dog snout attack': 1,\n",
       "             'dog vicious': 1,\n",
       "             'dog mad': 1,\n",
       "             'dog teeth bite': 1,\n",
       "             'dog teeth gnaw': 1,\n",
       "             'dog teeth attack': 1,\n",
       "             'dog teeth bone': 1,\n",
       "             'monkey chitter': 1,\n",
       "             'monkey zoo': 1,\n",
       "             'monkey wearing clothes': 1,\n",
       "             'man': 10,\n",
       "             'man sexy brie': 1,\n",
       "             'man swim brief': 1,\n",
       "             'man swimsuit': 1,\n",
       "             'man nylon brief': 1,\n",
       "             \"men's nylon briefs tayletr\": 1,\n",
       "             \"men's nylon briefs taylor\": 1,\n",
       "             'united states map': 28,\n",
       "             'united states map vietnam': 1,\n",
       "             'united states map vietnamese american': 1,\n",
       "             'tv': 49,\n",
       "             'oprah abc7': 1,\n",
       "             'logo abc7': 1,\n",
       "             'laguna beach california': 2,\n",
       "             'death of a salesman play': 1,\n",
       "             'capuchin monkey face': 1,\n",
       "             'capuchin monkey clothes': 1,\n",
       "             'capuchin monkey dog': 1,\n",
       "             'dog eats monkey': 1,\n",
       "             'eating capuchin monkey': 1,\n",
       "             'slaughter capuchin monkey': 1,\n",
       "             'tail capuchin monkey': 1,\n",
       "             'creata': 1,\n",
       "             'creatas swimsuit': 1,\n",
       "             'beach martin ricky': 1,\n",
       "             'recent': 244,\n",
       "             \"men's spice bikini\": 1,\n",
       "             \"men's bikini\": 1,\n",
       "             \"men's surfing speedo\": 1,\n",
       "             'underwear brief amazon': 1,\n",
       "             'underwear amazon': 1,\n",
       "             'sims': 15,\n",
       "             'the speedo sims': 1,\n",
       "             'the swimsuit sims': 1,\n",
       "             'guy swimsuit sims': 1,\n",
       "             'vienamese americans': 1,\n",
       "             'autocide': 1,\n",
       "             'categories of prejudice': 1,\n",
       "             'vietnamese americans': 1,\n",
       "             'vietnamese americans flaf': 1,\n",
       "             'vietnamese americans flag': 1,\n",
       "             'tolley san francisco': 1,\n",
       "             'branches of u.s. military': 1,\n",
       "             'branches of u.s. armed forces': 1,\n",
       "             'when the sun was god': 1,\n",
       "             'when the sun was god movie': 1,\n",
       "             'resident evil': 6,\n",
       "             'resident evil ax movie': 1,\n",
       "             'resident evil movie': 1,\n",
       "             'sabing private ryan': 1,\n",
       "             'saving private ryan': 5,\n",
       "             'xylazine': 1,\n",
       "             'irs': 397,\n",
       "             'veterinarian horses': 1,\n",
       "             'bank of america branches': 1,\n",
       "             'phone book': 89,\n",
       "             'hypertension': 12,\n",
       "             'ffa': 3,\n",
       "             'short wave licenses': 1,\n",
       "             'fcc': 12,\n",
       "             'prodigy trailer brakes': 1,\n",
       "             'ghost stories': 6,\n",
       "             'kabian park riverside county california': 1,\n",
       "             'lake skinner park': 1,\n",
       "             'riverside county parks': 1,\n",
       "             'box springs mountain reserve horse equestrian': 1,\n",
       "             'equestrian trails i': 1,\n",
       "             'eti': 1,\n",
       "             'eti corral 6': 1,\n",
       "             'eti corral 35': 1,\n",
       "             'legend of dragoon': 3,\n",
       "             'map quest': 1373,\n",
       "             'prado equestrian center': 1,\n",
       "             'round up weed killer': 1,\n",
       "             'capital one': 154,\n",
       "             'kelly blue book': 367,\n",
       "             'bankofamerica': 252,\n",
       "             'weight watchers soup': 1,\n",
       "             'tsa.com': 9,\n",
       "             'ww.arcade-hut.com': 1,\n",
       "             'order msn': 1,\n",
       "             'game show host died in plane crash 2 006': 1,\n",
       "             'peter temarkin': 1,\n",
       "             'peter temarkan': 1,\n",
       "             'press your luck game show': 1,\n",
       "             'peter tomarkin dies': 1,\n",
       "             'free personal credit report': 1,\n",
       "             'form number 1115notice of demand to pay judgment form': 1,\n",
       "             'form number 1115 notice of demand to pay judgment form': 1,\n",
       "             'travelosity': 44,\n",
       "             'brbits': 1,\n",
       "             'orbitz': 403,\n",
       "             'free game download': 3,\n",
       "             'free casino game download': 1,\n",
       "             '2005 tax return': 1,\n",
       "             'turbo tax .com': 2,\n",
       "             'win sweepstakes to new york': 1,\n",
       "             'linnbend college': 1,\n",
       "             'linnbend college in mcminnville oregon': 1,\n",
       "             'howard miller clock': 1,\n",
       "             'taiwan howard miller clock number 612808': 1,\n",
       "             'taiwan howard miller clock number 612 808': 1,\n",
       "             'salem employment.com': 1,\n",
       "             'mapquest': 3730,\n",
       "             'employmentoverload': 1,\n",
       "             'spirit mountain casino human resources': 1,\n",
       "             'human resources salem oregon': 1,\n",
       "             'australia currency to us dollar': 1,\n",
       "             'working clothes for free to women starting a new job': 1,\n",
       "             'free clothes for women going back to work salem oregon': 1,\n",
       "             'vector corp salem oregon': 1,\n",
       "             '916 772-7308': 1,\n",
       "             'staples.om': 1,\n",
       "             'staples.com': 45,\n",
       "             'elementary school grants': 1,\n",
       "             'americas most wanted': 8,\n",
       "             'simply fondue roseville ca': 1,\n",
       "             'flip to it sports': 1,\n",
       "             'flip 2 it sports': 1,\n",
       "             'flit to it sports': 1,\n",
       "             'flip it sports center': 1,\n",
       "             'flip it sports center roseville': 1,\n",
       "             'enable cookies': 20,\n",
       "             'math help': 10,\n",
       "             'century theaters': 7,\n",
       "             'rocklin bowling': 1,\n",
       "             'citrus heights police department': 1,\n",
       "             'hyatt regency lake tahoe': 1,\n",
       "             'salah salon & day spa': 1,\n",
       "             'yellow pages': 519,\n",
       "             '2006 mather field running of the marines': 1,\n",
       "             'san jose half marathon rock and roll': 1,\n",
       "             'thediscoverymuseum.org': 1,\n",
       "             'diane robinette': 1,\n",
       "             'ken zeng': 1,\n",
       "             'sylvia zeng': 1,\n",
       "             'brian pon': 1,\n",
       "             'dr. robert lim': 1,\n",
       "             'villiagepizzeriaonline.com': 1,\n",
       "             'dumps in lincoln ca': 1,\n",
       "             'coast 20v2 20flashlight': 1,\n",
       "             'www.coastcuterly.com': 1,\n",
       "             'copyright 20remover': 1,\n",
       "             'sima 20copyer': 1,\n",
       "             'dvd 20duplicator': 1,\n",
       "             'htt': 164,\n",
       "             'myspa': 130,\n",
       "             'mysace': 22,\n",
       "             'just simply are lyrics': 1,\n",
       "             'the sun the moon the stars lyrics': 1,\n",
       "             'the beating of two hearts lyrics': 1,\n",
       "             'the beating of two hearts the sun the moon the starts lyrics': 1,\n",
       "             'mysapce': 29,\n",
       "             'i found a reason to change who i waslyrics': 1,\n",
       "             'laws ofthermodynamics': 1,\n",
       "             'walt disney company': 2,\n",
       "             'new york stock exchange': 7,\n",
       "             'disney stocks for 1957': 1,\n",
       "             'disney.go': 4,\n",
       "             'walt disney history': 1,\n",
       "             'walt disney company history': 1,\n",
       "             'walt disney company stocks in 2002': 1,\n",
       "             'hidden valley commercials': 1,\n",
       "             'hidden valley ranch commercials': 1,\n",
       "             'hidden valley commercial music': 1,\n",
       "             'shenandoah conservatory': 1,\n",
       "             'thomas myspace editor': 16,\n",
       "             'lyrics to jack and diane': 1,\n",
       "             'hand job': 5,\n",
       "             'thier eyes weere watchin god': 1,\n",
       "             'lyrics to les choriestes': 1,\n",
       "             'lady madonna': 1,\n",
       "             'folklore characteristics of hero': 1,\n",
       "             'what is a folklore hero': 1,\n",
       "             'characteristics of a folk hero': 1,\n",
       "             '1 3 ounce teaspoons': 1,\n",
       "             '1 3 ounce is how many teaspoons': 1,\n",
       "             '1 3 ounces': 1,\n",
       "             '23.52 kg': 1,\n",
       "             'lryics to open your eyes to love': 1,\n",
       "             'z': 25,\n",
       "             'humane.com': 1,\n",
       "             'teen humane': 1,\n",
       "             'humane society': 17,\n",
       "             'lryics to rescure': 1,\n",
       "             \"lyrics to dark blue jack's mannequin\": 1,\n",
       "             \"lyrics tothe mixed tape jack's mannequin\": 1,\n",
       "             'lyrics to dreamer bethany dillon': 1,\n",
       "             'sat prep': 1,\n",
       "             'princtonreview.com': 2,\n",
       "             'inspirating quotes': 1,\n",
       "             'inspiration quotes': 2,\n",
       "             'shendoah college': 1,\n",
       "             'shenandoah music conservatory': 1,\n",
       "             '100.3 richmond': 1,\n",
       "             'uncle albert admiral halsey': 1,\n",
       "             'jimmy carter': 4,\n",
       "             'jimmy carter and the panama cannal': 1,\n",
       "             'jimmy carter and the panama canal': 1,\n",
       "             'photos of the panama canal turnover': 1,\n",
       "             'jimmy carter and energy crisis': 1,\n",
       "             'jimmy carter timeline': 1,\n",
       "             'jimmy carter desert one': 1,\n",
       "             'jimmy carter mount st. helens': 1,\n",
       "             'jimmy carter eruption of mt. st. heelens': 1,\n",
       "             'carter and egypt': 1,\n",
       "             'jimmy carter and egypt': 1,\n",
       "             'jimmy carter in israel': 1,\n",
       "             'iraq invades iran': 1,\n",
       "             'iraq invades iran 1979': 1,\n",
       "             'anwar sadat in israel': 1,\n",
       "             'anwar sadat 1977': 1,\n",
       "             'anwar sadat jimmy carter 1977': 1,\n",
       "             \"jimmy carter's energy package\": 1,\n",
       "             'a plus projects in chemistry': 1,\n",
       "             'chemistry project on thermodynamics': 1,\n",
       "             'human rights 1977': 1,\n",
       "             '50ml of corn syrup': 1,\n",
       "             'weight of 2 ounces of corn syrup': 1,\n",
       "             'temperature conversions': 1,\n",
       "             'energy required to change corn syrup temperature': 1,\n",
       "             'thermo': 1,\n",
       "             'latin meaning of thermo': 1,\n",
       "             'dynamics in latin': 1,\n",
       "             'andrea vtipil': 1,\n",
       "             'jimmy carter saturday night live': 1,\n",
       "             \"jimmy carter's killer rabbit\": 1,\n",
       "             'jimmy carter and brezhnev in vienna': 1,\n",
       "             'terms of salt 2 1979': 1,\n",
       "             'desert one': 1,\n",
       "             'cartoon trumpet': 1,\n",
       "             'animated trumpet': 1,\n",
       "             'picture trumpet': 1,\n",
       "             'cecilia your breaking my heart': 1,\n",
       "             'nathaniel hawthorne comparing life to novels': 1,\n",
       "             'nathaniel hawthorne life': 1,\n",
       "             'prince george high school': 1,\n",
       "             'cat in hat photos': 1,\n",
       "             'ebay': 2803,\n",
       "             'tinker bell pics': 1,\n",
       "             'toley spies grames': 1,\n",
       "             'tolley spies games': 1,\n",
       "             'totally spies games': 1,\n",
       "             'dress up games': 13,\n",
       "             'dress up games for kids': 1,\n",
       "             'starting lyrics': 1,\n",
       "             'panic at the disco bio': 2,\n",
       "             'pro-one': 1,\n",
       "             'taget distribution': 1,\n",
       "             'pier 1 imports': 23,\n",
       "             'lenore': 1,\n",
       "             'amylicious.bluebabylon.com': 1,\n",
       "             'pete wentz': 6,\n",
       "             'quizzilla': 7,\n",
       "             'quizilla quizzes': 1,\n",
       "             'mr gosh': 1,\n",
       "             'http www.mad creator': 1,\n",
       "             'disney channel': 139,\n",
       "             'dreebay': 1,\n",
       "             'www.dollworld.com.ar': 1,\n",
       "             'bredon urie': 1,\n",
       "             'azlyrics': 36,\n",
       "             'neo pets': 5,\n",
       "             'learn all about jelly fish': 1,\n",
       "             'www.officailzoeymattews.com': 1,\n",
       "             'us bank.com': 7,\n",
       "             ...})"
      ]
     },
     "execution_count": 17,
     "metadata": {},
     "output_type": "execute_result"
    }
   ],
   "source": [
    "item_counts"
   ]
  },
  {
   "cell_type": "code",
   "execution_count": 18,
   "metadata": {},
   "outputs": [
    {
     "data": {
      "text/plain": [
       "2726"
      ]
     },
     "execution_count": 18,
     "metadata": {},
     "output_type": "execute_result"
    }
   ],
   "source": [
    "item_counts[\"yahoo.com\"]"
   ]
  },
  {
   "cell_type": "code",
   "execution_count": 19,
   "metadata": {},
   "outputs": [],
   "source": [
    "# Lets filter out rare items using minimum support parameter\n",
    "\n",
    "# When trying to set minimum support of 0.0005 or 0.0001 I did'nt get any rule with confidence bigger than 0.4\n",
    "\n",
    "# Iv'e tried some values and set minimum support value according \n",
    "\n",
    "# I set the support value in a way that only items appeared more than 3 times will be taken in considaration \n",
    "\n",
    "# This will prevent results of 100% confidence for a single query pair which is actually say nothing  "
   ]
  },
  {
   "cell_type": "code",
   "execution_count": 20,
   "metadata": {},
   "outputs": [],
   "source": [
    "min_support = 0.000045\n",
    "\n",
    "min_count = min_support * total_trx"
   ]
  },
  {
   "cell_type": "code",
   "execution_count": 21,
   "metadata": {},
   "outputs": [
    {
     "data": {
      "text/plain": [
       "2.92239"
      ]
     },
     "execution_count": 21,
     "metadata": {},
     "output_type": "execute_result"
    }
   ],
   "source": [
    "min_count"
   ]
  },
  {
   "cell_type": "code",
   "execution_count": 22,
   "metadata": {},
   "outputs": [],
   "source": [
    "#  => In order to reach support of minumum 0.000045, query should by searched by at least 3 different users"
   ]
  },
  {
   "cell_type": "code",
   "execution_count": 23,
   "metadata": {},
   "outputs": [],
   "source": [
    "# Check query frequency in the data set\n",
    "\n",
    "def is_frequent_item(t):\n",
    "    trx = t[0]\n",
    "    item = t[1]\n",
    "    frequency = item_counts[item]\n",
    "    \n",
    "    if frequency > min_count:\n",
    "        return True\n",
    "    else:\n",
    "        return False"
   ]
  },
  {
   "cell_type": "code",
   "execution_count": 24,
   "metadata": {},
   "outputs": [],
   "source": [
    "trx_freq_item = trx_item.filter(is_frequent_item)"
   ]
  },
  {
   "cell_type": "code",
   "execution_count": 25,
   "metadata": {},
   "outputs": [
    {
     "data": {
      "text/plain": [
       "PythonRDD[29] at RDD at PythonRDD.scala:53"
      ]
     },
     "execution_count": 25,
     "metadata": {},
     "output_type": "execute_result"
    }
   ],
   "source": [
    "trx_freq_item"
   ]
  },
  {
   "cell_type": "code",
   "execution_count": 26,
   "metadata": {},
   "outputs": [
    {
     "data": {
      "text/plain": [
       "[(142, 'rentdirect.com'),\n",
       " (142, 'staple.com'),\n",
       " (217, 'lottery'),\n",
       " (217, 'united.com'),\n",
       " (217, 'mizuno.com'),\n",
       " (217, 'weather.com'),\n",
       " (217, 'vietnam'),\n",
       " (993, 'googl'),\n",
       " (1268, 'adbuyer3.lycos.com'),\n",
       " (1326, 'files'),\n",
       " (1337, 'auto locator'),\n",
       " (1337, 'ford'),\n",
       " (1410, 'google'),\n",
       " (2005, 'myspace.ocm'),\n",
       " (2005, 'glitter graphics.com'),\n",
       " (2005, 'profileedit.myspace.com'),\n",
       " (2178, 'weatherchannel'),\n",
       " (2178, 'zip codes'),\n",
       " (2178, 'dana reeves dies'),\n",
       " (2178, 'harry')]"
      ]
     },
     "execution_count": 26,
     "metadata": {},
     "output_type": "execute_result"
    }
   ],
   "source": [
    "trx_freq_item.take(20)"
   ]
  },
  {
   "cell_type": "code",
   "execution_count": 27,
   "metadata": {},
   "outputs": [],
   "source": [
    "trx_freq_item = trx_freq_item.map(lambda x: (x[0], [x[1]]))"
   ]
  },
  {
   "cell_type": "code",
   "execution_count": 28,
   "metadata": {},
   "outputs": [
    {
     "data": {
      "text/plain": [
       "[(142, ['rentdirect.com']),\n",
       " (142, ['staple.com']),\n",
       " (217, ['lottery']),\n",
       " (217, ['united.com']),\n",
       " (217, ['mizuno.com']),\n",
       " (217, ['weather.com']),\n",
       " (217, ['vietnam']),\n",
       " (993, ['googl']),\n",
       " (1268, ['adbuyer3.lycos.com']),\n",
       " (1326, ['files']),\n",
       " (1337, ['auto locator']),\n",
       " (1337, ['ford']),\n",
       " (1410, ['google']),\n",
       " (2005, ['myspace.ocm']),\n",
       " (2005, ['glitter graphics.com']),\n",
       " (2005, ['profileedit.myspace.com']),\n",
       " (2178, ['weatherchannel']),\n",
       " (2178, ['zip codes']),\n",
       " (2178, ['dana reeves dies']),\n",
       " (2178, ['harry'])]"
      ]
     },
     "execution_count": 28,
     "metadata": {},
     "output_type": "execute_result"
    }
   ],
   "source": [
    "trx_freq_item.take(20)"
   ]
  },
  {
   "cell_type": "code",
   "execution_count": 29,
   "metadata": {},
   "outputs": [],
   "source": [
    "trx_freq_item = trx_freq_item.reduceByKey(lambda x,y: x+y)"
   ]
  },
  {
   "cell_type": "code",
   "execution_count": 30,
   "metadata": {},
   "outputs": [],
   "source": [
    "# Now trx_item is holding a structure of key - value where:\n",
    "\n",
    "# Key = user Id (transaction)\n",
    "# Value = a list of user queries \n",
    "    \n",
    "# It is guaranteed that any query is searched by users at least min_count times and has a support of min_supprt \n"
   ]
  },
  {
   "cell_type": "code",
   "execution_count": 31,
   "metadata": {},
   "outputs": [
    {
     "data": {
      "text/plain": [
       "[(142, ['rentdirect.com', 'staple.com', 'space.comhttp', 'whitepages.com']),\n",
       " (1268, ['adbuyer3.lycos.com', 'gall stones', 'gallstones']),\n",
       " (1326,\n",
       "  ['files',\n",
       "   'dellcomputers',\n",
       "   'budget truck rental',\n",
       "   'jet blue airlines',\n",
       "   'verizon wireless']),\n",
       " (1410,\n",
       "  ['google', 'mycl.cravelyrics.com', 'www.toledo11.com', 'www.mapquest']),\n",
       " (2178,\n",
       "  ['weatherchannel',\n",
       "   'zip codes',\n",
       "   'dana reeves dies',\n",
       "   'harry',\n",
       "   'kbb',\n",
       "   'remax',\n",
       "   'google',\n",
       "   'sprint.com',\n",
       "   'msn.com',\n",
       "   'braxton hicks contractions',\n",
       "   'roth ira',\n",
       "   'babycenter.com',\n",
       "   'baby center',\n",
       "   'yahoo.com',\n",
       "   'baby names',\n",
       "   'mortgage calculator',\n",
       "   'harry and david',\n",
       "   'army.mil',\n",
       "   'fidelity.com',\n",
       "   'people search',\n",
       "   'pergola',\n",
       "   'philadelphia art museum',\n",
       "   'babiesrus',\n",
       "   'ebay.com',\n",
       "   'once upon a child',\n",
       "   'walmart',\n",
       "   'sears',\n",
       "   'target',\n",
       "   'us zip codes']),\n",
       " (2334,\n",
       "  ['jessemccartney',\n",
       "   'c',\n",
       "   '.com',\n",
       "   'jojo',\n",
       "   'jesse mccartney',\n",
       "   'disneychannel.com',\n",
       "   'new mexico',\n",
       "   'kol.com']),\n",
       " (2722,\n",
       "  ['www.publixdirect.com',\n",
       "   'publix',\n",
       "   'georgia state',\n",
       "   'irs.gov',\n",
       "   'georgia state university',\n",
       "   'ssa.gov',\n",
       "   'bed bath beyond',\n",
       "   'home depot',\n",
       "   'wardrobe',\n",
       "   'lost',\n",
       "   'birthday party',\n",
       "   'baby shower ideas',\n",
       "   'enterprise rent a car',\n",
       "   'avis',\n",
       "   'enterprise',\n",
       "   'party city',\n",
       "   'progressive.com',\n",
       "   'birthday cakes',\n",
       "   'google',\n",
       "   'lowes',\n",
       "   'meineke',\n",
       "   'kumon',\n",
       "   'wamu',\n",
       "   'build a bear',\n",
       "   'microsoft',\n",
       "   'aol.com',\n",
       "   'ask.com',\n",
       "   'cingular',\n",
       "   't-mobile',\n",
       "   'sears.com',\n",
       "   'jewelery',\n",
       "   'raven simone',\n",
       "   'thats so raven',\n",
       "   'poison control',\n",
       "   'jvc',\n",
       "   'hallmark',\n",
       "   'cheese cake factory',\n",
       "   'cheesecake factory',\n",
       "   'belly dancing',\n",
       "   'better business',\n",
       "   'j c whitney',\n",
       "   'mailbox',\n",
       "   'jc whitney',\n",
       "   'national car rental',\n",
       "   'military',\n",
       "   'tricare',\n",
       "   'sprint phones',\n",
       "   'fafsa',\n",
       "   'fractions',\n",
       "   'linen n things',\n",
       "   'walmart',\n",
       "   'target',\n",
       "   'avis.com',\n",
       "   'sixflags',\n",
       "   'fandango',\n",
       "   'priceline',\n",
       "   'mapquest',\n",
       "   'suze orman',\n",
       "   'progressive',\n",
       "   'kroger',\n",
       "   'kudzu',\n",
       "   'dairy queen',\n",
       "   'babies r us',\n",
       "   'sears',\n",
       "   'dolly madison',\n",
       "   'midas',\n",
       "   'firestone',\n",
       "   'jeeves',\n",
       "   'michaels.com',\n",
       "   'yahoo',\n",
       "   'aim',\n",
       "   'walmart.com',\n",
       "   'pizzahut',\n",
       "   'georgia perimeter college',\n",
       "   'george washington university',\n",
       "   'uhaul',\n",
       "   'cato',\n",
       "   'jewelry stores',\n",
       "   'impetigo',\n",
       "   'best buy',\n",
       "   'apartments',\n",
       "   'grays anatomy',\n",
       "   'usps',\n",
       "   'ups',\n",
       "   'army.mil',\n",
       "   'goodyear',\n",
       "   'napa auto parts',\n",
       "   'advance auto parts',\n",
       "   'car rental',\n",
       "   'ymca',\n",
       "   'enterprise.com',\n",
       "   'budget car rental',\n",
       "   'alamo car rental']),\n",
       " (3302,\n",
       "  ['discovery kids',\n",
       "   'img http',\n",
       "   'dominos pizza',\n",
       "   'pogo',\n",
       "   'hallmark free ecards',\n",
       "   'outback',\n",
       "   'outback menu',\n",
       "   'webmd',\n",
       "   'travelocity',\n",
       "   'mrsa',\n",
       "   'red envelope',\n",
       "   'beethoven',\n",
       "   'lladro',\n",
       "   'disney world',\n",
       "   'traveocity',\n",
       "   'australia',\n",
       "   'www.household bank.com',\n",
       "   'www.household.com',\n",
       "   'walmart coupons',\n",
       "   'silhouettes',\n",
       "   'rotovirus',\n",
       "   'http',\n",
       "   'cortisol',\n",
       "   'medical dictionary',\n",
       "   'lifetime tv',\n",
       "   'barnes and noble',\n",
       "   'showcase cinemas',\n",
       "   'www.householdbank.com',\n",
       "   'social security disability',\n",
       "   'tyco',\n",
       "   'phlebitis',\n",
       "   'ediets.com',\n",
       "   'disney world vacation packages']),\n",
       " (3782,\n",
       "  ['cleveland municipal school district',\n",
       "   'hairstyles',\n",
       "   'mohawk',\n",
       "   'alltel',\n",
       "   'steve madden',\n",
       "   'blkgaychat.com',\n",
       "   'hertz',\n",
       "   'kanye west',\n",
       "   'aldo',\n",
       "   'braids',\n",
       "   'adam4adam']),\n",
       " (3914,\n",
       "  ['www.com',\n",
       "   'www.spanish',\n",
       "   'www.next.com',\n",
       "   'journals',\n",
       "   '.com',\n",
       "   'www.mrwiggleshiphop.net',\n",
       "   'www.latinapics.com']),\n",
       " (4404, ['yahoo.com', 'mapquest.com', 'www.myflorida.com', 'www.myflorida']),\n",
       " (5818, ['passward', 'patrick kennedy', 'wwwgoo', 'angelina jolie']),\n",
       " (6356, ['ca', 'cam', 'rad.msn.com', 'http']),\n",
       " (8400,\n",
       "  ['ebay',\n",
       "   'dress up games',\n",
       "   'pier 1 imports',\n",
       "   'pete wentz',\n",
       "   'quizzilla',\n",
       "   'disney channel',\n",
       "   'azlyrics',\n",
       "   'neo pets',\n",
       "   'nick',\n",
       "   'teen titans',\n",
       "   'pagead2.googlesyndication.com',\n",
       "   'fall out boy',\n",
       "   'panic at the disco',\n",
       "   'quizilla',\n",
       "   'lyrics',\n",
       "   'tinkerbell',\n",
       "   'neopets',\n",
       "   'whosonmypage.com']),\n",
       " (8760,\n",
       "  ['us bank.com',\n",
       "   'tattoo designs',\n",
       "   'jennifer lopez',\n",
       "   'nicole richie',\n",
       "   'free porn',\n",
       "   'tatoo designs',\n",
       "   'johnny knoxville',\n",
       "   'usbank.com']),\n",
       " (9628,\n",
       "  ['www.skittles.com',\n",
       "   'travelocity',\n",
       "   'www.starburst.com',\n",
       "   'commerce bank',\n",
       "   'commercebank.com',\n",
       "   'commercebank',\n",
       "   'ford']),\n",
       " (9844,\n",
       "  ['mayo clinic.com',\n",
       "   'yahoogames',\n",
       "   'google',\n",
       "   'sbcglobal.net',\n",
       "   'google.com',\n",
       "   'whiotv.com',\n",
       "   'www.pogo.com',\n",
       "   'fifththirdbank.com',\n",
       "   'coral snake',\n",
       "   'cheap tickets.com',\n",
       "   'american airlines.com',\n",
       "   'budget rental cars',\n",
       "   'www.mayo clinic.com',\n",
       "   'www.sbc.com',\n",
       "   'www.google.com',\n",
       "   'www.yahoogames.com',\n",
       "   'www.freegames.com',\n",
       "   'ww.pogo.com',\n",
       "   'www.sbcglobal.net',\n",
       "   'weather.com']),\n",
       " (11468,\n",
       "  ['myspace.com',\n",
       "   'dog pile',\n",
       "   'cal state fullerton',\n",
       "   'medical',\n",
       "   'compassion',\n",
       "   'food tv',\n",
       "   'nbc.com',\n",
       "   'bankofamerica.com',\n",
       "   'oriental trading',\n",
       "   'aol',\n",
       "   'regis and kelly',\n",
       "   'ebay',\n",
       "   'dogpile',\n",
       "   'mapquest',\n",
       "   'byu',\n",
       "   'mysapce',\n",
       "   'ldsmingle',\n",
       "   'com',\n",
       "   'bankofamerica',\n",
       "   'food network',\n",
       "   'interval international',\n",
       "   'priceline',\n",
       "   'steinmart',\n",
       "   'bnkofamerica.com',\n",
       "   'oriental trading company',\n",
       "   'best buy',\n",
       "   'baja california',\n",
       "   'virgin mobile',\n",
       "   'aa.com']),\n",
       " (12404,\n",
       "  ['google',\n",
       "   'toon disney',\n",
       "   'ebay',\n",
       "   'qvc',\n",
       "   'ioffer',\n",
       "   'overstock',\n",
       "   'shopnbc',\n",
       "   'cartoon network',\n",
       "   'craiglist',\n",
       "   'craigslist',\n",
       "   'mapquest',\n",
       "   'bb',\n",
       "   'bb&t',\n",
       "   'walmart',\n",
       "   'victoria secrets',\n",
       "   'hsn',\n",
       "   'pbs kids',\n",
       "   'batman games']),\n",
       " (12420,\n",
       "  ['wallpaper',\n",
       "   'expressions',\n",
       "   'pc games',\n",
       "   'survivor',\n",
       "   'kentucky newspapers',\n",
       "   'familysearch.com',\n",
       "   'desktop',\n",
       "   'ohio board of nursing',\n",
       "   'honda mowers',\n",
       "   'bedding',\n",
       "   'us map',\n",
       "   'mapquest',\n",
       "   'gardening',\n",
       "   'troy built mowers',\n",
       "   'lawn mowers'])]"
      ]
     },
     "execution_count": 31,
     "metadata": {},
     "output_type": "execute_result"
    }
   ],
   "source": [
    "trx_freq_item.take(20)"
   ]
  },
  {
   "cell_type": "code",
   "execution_count": 32,
   "metadata": {},
   "outputs": [],
   "source": [
    "#The second part will be searching all possible item pairs in order to find interesting rules\n",
    "\n",
    "# We will use a minumum confidence parameter"
   ]
  },
  {
   "cell_type": "code",
   "execution_count": 33,
   "metadata": {},
   "outputs": [],
   "source": [
    "# For each transaction line we will build an array of all posible item pairs of the specific user\n",
    "\n",
    "# We will set this pair as a key and set the value to be 1 in order to find pair frequency \n",
    "\n",
    "def combinations(t):\n",
    "    queries = t[1]\n",
    "    arr = []\n",
    "    i = 0\n",
    "    j = 0\n",
    "    ln = len(queries)\n",
    "\n",
    "    while i < ln:\n",
    "        q1 = queries[i]\n",
    "        j = i + 1\n",
    "        while j < ln:\n",
    "            q2 = queries[j]\n",
    "            pair = (q1,q2)\n",
    "            arr.append((pair, 1))\n",
    "            j += 1\n",
    "        i += 1\n",
    "    \n",
    "    return arr"
   ]
  },
  {
   "cell_type": "code",
   "execution_count": 34,
   "metadata": {},
   "outputs": [],
   "source": [
    "# Use flat map in order to return more than one value (possible pairs) for each data line (user and list of his queries)\n",
    "\n",
    "item_pairs = trx_freq_item.flatMap(combinations)"
   ]
  },
  {
   "cell_type": "code",
   "execution_count": 35,
   "metadata": {},
   "outputs": [
    {
     "data": {
      "text/plain": [
       "[(('rentdirect.com', 'staple.com'), 1),\n",
       " (('rentdirect.com', 'space.comhttp'), 1),\n",
       " (('rentdirect.com', 'whitepages.com'), 1),\n",
       " (('staple.com', 'space.comhttp'), 1),\n",
       " (('staple.com', 'whitepages.com'), 1),\n",
       " (('space.comhttp', 'whitepages.com'), 1),\n",
       " (('adbuyer3.lycos.com', 'gall stones'), 1),\n",
       " (('adbuyer3.lycos.com', 'gallstones'), 1),\n",
       " (('gall stones', 'gallstones'), 1),\n",
       " (('files', 'dellcomputers'), 1),\n",
       " (('files', 'budget truck rental'), 1),\n",
       " (('files', 'jet blue airlines'), 1),\n",
       " (('files', 'verizon wireless'), 1),\n",
       " (('dellcomputers', 'budget truck rental'), 1),\n",
       " (('dellcomputers', 'jet blue airlines'), 1),\n",
       " (('dellcomputers', 'verizon wireless'), 1),\n",
       " (('budget truck rental', 'jet blue airlines'), 1),\n",
       " (('budget truck rental', 'verizon wireless'), 1),\n",
       " (('jet blue airlines', 'verizon wireless'), 1),\n",
       " (('google', 'mycl.cravelyrics.com'), 1)]"
      ]
     },
     "execution_count": 35,
     "metadata": {},
     "output_type": "execute_result"
    }
   ],
   "source": [
    "item_pairs.take(20)"
   ]
  },
  {
   "cell_type": "code",
   "execution_count": 36,
   "metadata": {},
   "outputs": [],
   "source": [
    "# Find query pair frequency by reduceByKey transformation\n",
    "\n",
    "item_pairs = item_pairs.reduceByKey(lambda x,y: x+y)"
   ]
  },
  {
   "cell_type": "code",
   "execution_count": 37,
   "metadata": {},
   "outputs": [
    {
     "data": {
      "text/plain": [
       "[(('rentdirect.com', 'staple.com'), 1),\n",
       " (('space.comhttp', 'whitepages.com'), 1),\n",
       " (('gall stones', 'gallstones'), 2),\n",
       " (('dellcomputers', 'budget truck rental'), 1),\n",
       " (('dellcomputers', 'jet blue airlines'), 1),\n",
       " (('dellcomputers', 'verizon wireless'), 1),\n",
       " (('budget truck rental', 'jet blue airlines'), 1),\n",
       " (('budget truck rental', 'verizon wireless'), 1),\n",
       " (('jet blue airlines', 'verizon wireless'), 2),\n",
       " (('mycl.cravelyrics.com', 'www.toledo11.com'), 1),\n",
       " (('mycl.cravelyrics.com', 'www.mapquest'), 2),\n",
       " (('www.toledo11.com', 'www.mapquest'), 1),\n",
       " (('weatherchannel', 'zip codes'), 1),\n",
       " (('weatherchannel', 'dana reeves dies'), 1),\n",
       " (('weatherchannel', 'harry'), 1),\n",
       " (('weatherchannel', 'kbb'), 1),\n",
       " (('weatherchannel', 'remax'), 1),\n",
       " (('weatherchannel', 'google'), 6),\n",
       " (('weatherchannel', 'sprint.com'), 1),\n",
       " (('weatherchannel', 'msn.com'), 1)]"
      ]
     },
     "execution_count": 37,
     "metadata": {},
     "output_type": "execute_result"
    }
   ],
   "source": [
    "item_pairs.take(20)"
   ]
  },
  {
   "cell_type": "code",
   "execution_count": 38,
   "metadata": {},
   "outputs": [],
   "source": [
    "# Filter by confidecne calculation \n",
    "\n",
    "# It is guaranteed that any query is searched by users at least min_count times and has a support of min_supprt \n",
    "\n",
    "# The formula for confidence is:\n",
    "\n",
    "#  Sup(X) = X in transactions / total_transactions\n",
    "\n",
    "#  Conf(X => Y) = Sup(X and Y) / Sup(X)\n",
    "\n",
    "# ==>\n",
    "\n",
    "# Conf (X => Y) = (X and Y in transactions / total_transactions) / (X in transactions / total_transactions)\n",
    "\n",
    "# ==>\n",
    "\n",
    "# Conf (X => Y) = (X and Y in transactions) / (X in transactions) \n",
    "\n",
    "\n",
    "def confidence(t):\n",
    "    pair = t[0]\n",
    "    q1 = pair[0]\n",
    "    q2 = pair[1]\n",
    "                \n",
    "    support_q1_q2 = t[1] \n",
    "        \n",
    "    support_q1 = item_counts[q1] \n",
    "    \n",
    "    confidence_q1_q2 =  support_q1_q2 / support_q1\n",
    "        \n",
    "    key = pair\n",
    "    val = confidence_q1_q2\n",
    "        \n",
    "    return (key,val)"
   ]
  },
  {
   "cell_type": "code",
   "execution_count": 39,
   "metadata": {},
   "outputs": [],
   "source": [
    "item_pairs_confidence = item_pairs.map(confidence)"
   ]
  },
  {
   "cell_type": "code",
   "execution_count": 40,
   "metadata": {},
   "outputs": [
    {
     "data": {
      "text/plain": [
       "[(('rentdirect.com', 'staple.com'), 0.3333333333333333),\n",
       " (('space.comhttp', 'whitepages.com'), 0.04),\n",
       " (('gall stones', 'gallstones'), 0.2222222222222222),\n",
       " (('dellcomputers', 'budget truck rental'), 0.25),\n",
       " (('dellcomputers', 'jet blue airlines'), 0.25),\n",
       " (('dellcomputers', 'verizon wireless'), 0.25),\n",
       " (('budget truck rental', 'jet blue airlines'), 0.16666666666666666),\n",
       " (('budget truck rental', 'verizon wireless'), 0.16666666666666666),\n",
       " (('jet blue airlines', 'verizon wireless'), 0.05),\n",
       " (('mycl.cravelyrics.com', 'www.toledo11.com'), 0.0021645021645021645),\n",
       " (('mycl.cravelyrics.com', 'www.mapquest'), 0.004329004329004329),\n",
       " (('www.toledo11.com', 'www.mapquest'), 0.3333333333333333),\n",
       " (('weatherchannel', 'zip codes'), 0.034482758620689655),\n",
       " (('weatherchannel', 'dana reeves dies'), 0.034482758620689655),\n",
       " (('weatherchannel', 'harry'), 0.034482758620689655),\n",
       " (('weatherchannel', 'kbb'), 0.034482758620689655),\n",
       " (('weatherchannel', 'remax'), 0.034482758620689655),\n",
       " (('weatherchannel', 'google'), 0.20689655172413793),\n",
       " (('weatherchannel', 'sprint.com'), 0.034482758620689655),\n",
       " (('weatherchannel', 'msn.com'), 0.034482758620689655)]"
      ]
     },
     "execution_count": 40,
     "metadata": {},
     "output_type": "execute_result"
    }
   ],
   "source": [
    "item_pairs_confidence.take(20)"
   ]
  },
  {
   "cell_type": "code",
   "execution_count": 41,
   "metadata": {},
   "outputs": [],
   "source": [
    "def format_output(t):\n",
    "    pair = t[0]\n",
    "    conf = str(t[1])\n",
    "    q1 = str(pair[0])\n",
    "    q2 = str(pair[1])\n",
    "    \n",
    "    return q1 + \" => \" + q2 + \" with confidence \" + conf"
   ]
  },
  {
   "cell_type": "code",
   "execution_count": 46,
   "metadata": {},
   "outputs": [],
   "source": [
    "def results(confidence_low: float, confidence_high: float, path: str):\n",
    "    \n",
    "    res = item_pairs_confidence.filter(lambda x: x[1] >= confidence_low and x[1] < confidence_high)\n",
    "    \n",
    "    cnt = res.count()\n",
    "    \n",
    "    res = res.map(format_output)\n",
    "    \n",
    "    res.saveAsTextFile(path)\n",
    "    \n",
    "    return cnt"
   ]
  },
  {
   "cell_type": "code",
   "execution_count": 43,
   "metadata": {},
   "outputs": [],
   "source": [
    "def print_amounts(conf, cnt):\n",
    "    print(\"With confidence = \" + conf + \", amount related queries = \" + str(cnt))"
   ]
  },
  {
   "cell_type": "code",
   "execution_count": 47,
   "metadata": {},
   "outputs": [
    {
     "name": "stdout",
     "output_type": "stream",
     "text": [
      "With confidence = 0.9, amount related queries = 128\n",
      "With confidence = 0.8, amount related queries = 11\n",
      "With confidence = 0.6, amount related queries = 3683\n"
     ]
    }
   ],
   "source": [
    "path = \"/home/spark-vm/PycharmProjects/BigDataCource/Results/\"\n",
    "\n",
    "file_name = \"rules_confidence\"\n",
    "\n",
    "cnt_09 = results(confidence_low = 0.9, confidence_high = 1.1, path = path + file_name + \"_09\")\n",
    "\n",
    "print_amounts(\"0.9\", cnt_09)\n",
    "\n",
    "cnt_08 = results(confidence_low = 0.8, confidence_high = 0.9, path = path + file_name + \"_08\")\n",
    "\n",
    "print_amounts(\"0.8\", cnt_08)\n",
    "\n",
    "cnt_06 = results(confidence_low = 0.6, confidence_high = 0.8, path = path + file_name + \"_06\")\n",
    "\n",
    "print_amounts(\"0.6\", cnt_06)"
   ]
  },
  {
   "cell_type": "markdown",
   "metadata": {},
   "source": [
    "# Results analysis:\n",
    "\n",
    "I've set a minimum support value in otder to prevent results of 100% confidence for a single query pair which is actually say nothing\n",
    "\n",
    "\n",
    "With support of 0.000045 and confidence between 0.9 and 1.0 , 128 related queries returned. \n",
    "\n",
    "With support of 0.000045 and confidence between 0.8 and 0.9 , 11 related queries returned. \n",
    "\n",
    "With support of 0.000045 and confidence between 0.6 and 0.8 , 3683 related queries returned. \n",
    "\n",
    "1. The algorithm turned out to be usfull for spelling mistakes: \n",
    "\n",
    " - american idal => american idol with confidence 1.0\n",
    " - circitcity => circuit city with confidence 1.0\n",
    " - handa => honda with confidence 1.0\n",
    " - hyundi => hyundai with confidence 1.0\n",
    " - waether => weather with confidence 1.0\n",
    " - schawns => schwans with confidence 1.0\n",
    " - diconary => dictionary with confidence 0.8571428571428571\n",
    " - resturant => restaurant with confidence 0.6666666666666666\n",
    " - southwest ailines => southwest airlines with confidence 0.6666666666666666\n",
    " - maos => maps with confidence 1.0\n",
    " - faceboo => facebook with confidence 1.0\n",
    "\n",
    "\n",
    "2. Services offers similar to Google promotions:\n",
    "\n",
    " - star motorcycles => harley davidson motorcycles with confidence 0.6666666666666666\n",
    " - sony computers => ebay with confidence 1.0\n",
    " - windermere => mapquest with confidence 1.0 \n",
    "   (windermere is a lake in England and mapquest is a driving maps website )\n",
    "\n",
    "\n",
    "3. Related topices:\n",
    "\n",
    " - destiny child => usher with confidence 1.0\n",
    "   (both of them are singers)\n",
    "\n",
    " - bowel movements => colon cancer with confidence 0.6666666666666666\n",
    "\n",
    " - the bold and the beautiful => american idol with confidence 0.8\n",
    "   (both of them are television shows)"
   ]
  },
  {
   "cell_type": "code",
   "execution_count": null,
   "metadata": {},
   "outputs": [],
   "source": []
  },
  {
   "cell_type": "code",
   "execution_count": null,
   "metadata": {},
   "outputs": [],
   "source": []
  },
  {
   "cell_type": "code",
   "execution_count": null,
   "metadata": {},
   "outputs": [],
   "source": []
  },
  {
   "cell_type": "code",
   "execution_count": null,
   "metadata": {},
   "outputs": [],
   "source": []
  },
  {
   "cell_type": "code",
   "execution_count": null,
   "metadata": {},
   "outputs": [],
   "source": []
  },
  {
   "cell_type": "code",
   "execution_count": null,
   "metadata": {},
   "outputs": [],
   "source": []
  },
  {
   "cell_type": "code",
   "execution_count": null,
   "metadata": {},
   "outputs": [],
   "source": []
  },
  {
   "cell_type": "code",
   "execution_count": null,
   "metadata": {},
   "outputs": [],
   "source": []
  },
  {
   "cell_type": "code",
   "execution_count": null,
   "metadata": {},
   "outputs": [],
   "source": []
  },
  {
   "cell_type": "code",
   "execution_count": null,
   "metadata": {},
   "outputs": [],
   "source": []
  },
  {
   "cell_type": "code",
   "execution_count": null,
   "metadata": {},
   "outputs": [],
   "source": []
  },
  {
   "cell_type": "code",
   "execution_count": null,
   "metadata": {},
   "outputs": [],
   "source": []
  },
  {
   "cell_type": "code",
   "execution_count": null,
   "metadata": {},
   "outputs": [],
   "source": []
  },
  {
   "cell_type": "code",
   "execution_count": null,
   "metadata": {},
   "outputs": [],
   "source": []
  },
  {
   "cell_type": "code",
   "execution_count": null,
   "metadata": {},
   "outputs": [],
   "source": []
  },
  {
   "cell_type": "code",
   "execution_count": null,
   "metadata": {},
   "outputs": [],
   "source": []
  },
  {
   "cell_type": "code",
   "execution_count": null,
   "metadata": {},
   "outputs": [],
   "source": []
  },
  {
   "cell_type": "code",
   "execution_count": null,
   "metadata": {},
   "outputs": [],
   "source": []
  },
  {
   "cell_type": "code",
   "execution_count": null,
   "metadata": {},
   "outputs": [],
   "source": []
  },
  {
   "cell_type": "code",
   "execution_count": null,
   "metadata": {},
   "outputs": [],
   "source": []
  },
  {
   "cell_type": "code",
   "execution_count": null,
   "metadata": {},
   "outputs": [],
   "source": []
  },
  {
   "cell_type": "code",
   "execution_count": null,
   "metadata": {},
   "outputs": [],
   "source": []
  },
  {
   "cell_type": "code",
   "execution_count": null,
   "metadata": {},
   "outputs": [],
   "source": []
  },
  {
   "cell_type": "code",
   "execution_count": null,
   "metadata": {},
   "outputs": [],
   "source": []
  },
  {
   "cell_type": "code",
   "execution_count": null,
   "metadata": {},
   "outputs": [],
   "source": []
  },
  {
   "cell_type": "code",
   "execution_count": null,
   "metadata": {},
   "outputs": [],
   "source": []
  },
  {
   "cell_type": "code",
   "execution_count": null,
   "metadata": {},
   "outputs": [],
   "source": []
  },
  {
   "cell_type": "code",
   "execution_count": null,
   "metadata": {},
   "outputs": [],
   "source": []
  },
  {
   "cell_type": "code",
   "execution_count": null,
   "metadata": {},
   "outputs": [],
   "source": []
  },
  {
   "cell_type": "code",
   "execution_count": null,
   "metadata": {},
   "outputs": [],
   "source": []
  },
  {
   "cell_type": "code",
   "execution_count": null,
   "metadata": {},
   "outputs": [],
   "source": []
  },
  {
   "cell_type": "code",
   "execution_count": null,
   "metadata": {},
   "outputs": [],
   "source": []
  },
  {
   "cell_type": "code",
   "execution_count": null,
   "metadata": {},
   "outputs": [],
   "source": []
  },
  {
   "cell_type": "code",
   "execution_count": null,
   "metadata": {},
   "outputs": [],
   "source": []
  },
  {
   "cell_type": "code",
   "execution_count": null,
   "metadata": {},
   "outputs": [],
   "source": []
  },
  {
   "cell_type": "code",
   "execution_count": null,
   "metadata": {},
   "outputs": [],
   "source": []
  },
  {
   "cell_type": "code",
   "execution_count": null,
   "metadata": {},
   "outputs": [],
   "source": []
  },
  {
   "cell_type": "code",
   "execution_count": null,
   "metadata": {},
   "outputs": [],
   "source": []
  },
  {
   "cell_type": "code",
   "execution_count": null,
   "metadata": {},
   "outputs": [],
   "source": []
  },
  {
   "cell_type": "code",
   "execution_count": null,
   "metadata": {},
   "outputs": [],
   "source": []
  },
  {
   "cell_type": "code",
   "execution_count": null,
   "metadata": {},
   "outputs": [],
   "source": []
  },
  {
   "cell_type": "code",
   "execution_count": null,
   "metadata": {},
   "outputs": [],
   "source": []
  },
  {
   "cell_type": "code",
   "execution_count": null,
   "metadata": {},
   "outputs": [],
   "source": []
  },
  {
   "cell_type": "code",
   "execution_count": null,
   "metadata": {},
   "outputs": [],
   "source": []
  },
  {
   "cell_type": "code",
   "execution_count": null,
   "metadata": {},
   "outputs": [],
   "source": []
  },
  {
   "cell_type": "code",
   "execution_count": null,
   "metadata": {},
   "outputs": [],
   "source": []
  },
  {
   "cell_type": "code",
   "execution_count": null,
   "metadata": {},
   "outputs": [],
   "source": []
  },
  {
   "cell_type": "code",
   "execution_count": null,
   "metadata": {},
   "outputs": [],
   "source": []
  },
  {
   "cell_type": "code",
   "execution_count": null,
   "metadata": {},
   "outputs": [],
   "source": []
  },
  {
   "cell_type": "code",
   "execution_count": null,
   "metadata": {},
   "outputs": [],
   "source": []
  },
  {
   "cell_type": "code",
   "execution_count": null,
   "metadata": {},
   "outputs": [],
   "source": []
  },
  {
   "cell_type": "code",
   "execution_count": null,
   "metadata": {},
   "outputs": [],
   "source": []
  },
  {
   "cell_type": "code",
   "execution_count": null,
   "metadata": {},
   "outputs": [],
   "source": []
  },
  {
   "cell_type": "code",
   "execution_count": null,
   "metadata": {},
   "outputs": [],
   "source": []
  },
  {
   "cell_type": "code",
   "execution_count": null,
   "metadata": {},
   "outputs": [],
   "source": []
  },
  {
   "cell_type": "code",
   "execution_count": null,
   "metadata": {},
   "outputs": [],
   "source": []
  },
  {
   "cell_type": "code",
   "execution_count": null,
   "metadata": {},
   "outputs": [],
   "source": []
  },
  {
   "cell_type": "code",
   "execution_count": null,
   "metadata": {},
   "outputs": [],
   "source": []
  },
  {
   "cell_type": "code",
   "execution_count": null,
   "metadata": {},
   "outputs": [],
   "source": []
  },
  {
   "cell_type": "code",
   "execution_count": null,
   "metadata": {},
   "outputs": [],
   "source": []
  },
  {
   "cell_type": "code",
   "execution_count": null,
   "metadata": {},
   "outputs": [],
   "source": []
  },
  {
   "cell_type": "code",
   "execution_count": null,
   "metadata": {},
   "outputs": [],
   "source": []
  },
  {
   "cell_type": "code",
   "execution_count": null,
   "metadata": {},
   "outputs": [],
   "source": []
  },
  {
   "cell_type": "code",
   "execution_count": null,
   "metadata": {},
   "outputs": [],
   "source": []
  },
  {
   "cell_type": "code",
   "execution_count": null,
   "metadata": {},
   "outputs": [],
   "source": []
  },
  {
   "cell_type": "code",
   "execution_count": null,
   "metadata": {},
   "outputs": [],
   "source": []
  },
  {
   "cell_type": "code",
   "execution_count": null,
   "metadata": {},
   "outputs": [],
   "source": []
  },
  {
   "cell_type": "code",
   "execution_count": null,
   "metadata": {},
   "outputs": [],
   "source": []
  },
  {
   "cell_type": "code",
   "execution_count": null,
   "metadata": {},
   "outputs": [],
   "source": []
  },
  {
   "cell_type": "code",
   "execution_count": null,
   "metadata": {},
   "outputs": [],
   "source": []
  },
  {
   "cell_type": "code",
   "execution_count": null,
   "metadata": {},
   "outputs": [],
   "source": []
  },
  {
   "cell_type": "code",
   "execution_count": null,
   "metadata": {},
   "outputs": [],
   "source": []
  },
  {
   "cell_type": "code",
   "execution_count": null,
   "metadata": {},
   "outputs": [],
   "source": []
  },
  {
   "cell_type": "code",
   "execution_count": null,
   "metadata": {},
   "outputs": [],
   "source": []
  },
  {
   "cell_type": "code",
   "execution_count": null,
   "metadata": {},
   "outputs": [],
   "source": []
  },
  {
   "cell_type": "code",
   "execution_count": null,
   "metadata": {},
   "outputs": [],
   "source": []
  },
  {
   "cell_type": "code",
   "execution_count": null,
   "metadata": {},
   "outputs": [],
   "source": []
  },
  {
   "cell_type": "code",
   "execution_count": null,
   "metadata": {},
   "outputs": [],
   "source": []
  },
  {
   "cell_type": "code",
   "execution_count": null,
   "metadata": {},
   "outputs": [],
   "source": []
  },
  {
   "cell_type": "code",
   "execution_count": null,
   "metadata": {},
   "outputs": [],
   "source": []
  },
  {
   "cell_type": "code",
   "execution_count": null,
   "metadata": {},
   "outputs": [],
   "source": []
  },
  {
   "cell_type": "code",
   "execution_count": null,
   "metadata": {},
   "outputs": [],
   "source": []
  },
  {
   "cell_type": "code",
   "execution_count": null,
   "metadata": {},
   "outputs": [],
   "source": []
  },
  {
   "cell_type": "code",
   "execution_count": null,
   "metadata": {},
   "outputs": [],
   "source": []
  },
  {
   "cell_type": "code",
   "execution_count": null,
   "metadata": {},
   "outputs": [],
   "source": []
  },
  {
   "cell_type": "code",
   "execution_count": null,
   "metadata": {},
   "outputs": [],
   "source": []
  },
  {
   "cell_type": "code",
   "execution_count": null,
   "metadata": {},
   "outputs": [],
   "source": []
  },
  {
   "cell_type": "code",
   "execution_count": null,
   "metadata": {},
   "outputs": [],
   "source": []
  },
  {
   "cell_type": "code",
   "execution_count": null,
   "metadata": {},
   "outputs": [],
   "source": []
  },
  {
   "cell_type": "code",
   "execution_count": null,
   "metadata": {},
   "outputs": [],
   "source": []
  },
  {
   "cell_type": "code",
   "execution_count": null,
   "metadata": {},
   "outputs": [],
   "source": []
  },
  {
   "cell_type": "code",
   "execution_count": null,
   "metadata": {},
   "outputs": [],
   "source": []
  },
  {
   "cell_type": "code",
   "execution_count": null,
   "metadata": {},
   "outputs": [],
   "source": []
  },
  {
   "cell_type": "code",
   "execution_count": null,
   "metadata": {},
   "outputs": [],
   "source": []
  },
  {
   "cell_type": "code",
   "execution_count": null,
   "metadata": {},
   "outputs": [],
   "source": []
  },
  {
   "cell_type": "code",
   "execution_count": null,
   "metadata": {},
   "outputs": [],
   "source": []
  },
  {
   "cell_type": "code",
   "execution_count": null,
   "metadata": {},
   "outputs": [],
   "source": []
  },
  {
   "cell_type": "code",
   "execution_count": null,
   "metadata": {},
   "outputs": [],
   "source": []
  },
  {
   "cell_type": "code",
   "execution_count": null,
   "metadata": {},
   "outputs": [],
   "source": []
  },
  {
   "cell_type": "code",
   "execution_count": null,
   "metadata": {},
   "outputs": [],
   "source": []
  },
  {
   "cell_type": "code",
   "execution_count": null,
   "metadata": {},
   "outputs": [],
   "source": []
  },
  {
   "cell_type": "code",
   "execution_count": null,
   "metadata": {},
   "outputs": [],
   "source": []
  },
  {
   "cell_type": "code",
   "execution_count": null,
   "metadata": {},
   "outputs": [],
   "source": []
  },
  {
   "cell_type": "code",
   "execution_count": null,
   "metadata": {},
   "outputs": [],
   "source": []
  },
  {
   "cell_type": "code",
   "execution_count": null,
   "metadata": {},
   "outputs": [],
   "source": []
  },
  {
   "cell_type": "code",
   "execution_count": null,
   "metadata": {},
   "outputs": [],
   "source": []
  },
  {
   "cell_type": "code",
   "execution_count": null,
   "metadata": {},
   "outputs": [],
   "source": []
  },
  {
   "cell_type": "code",
   "execution_count": null,
   "metadata": {},
   "outputs": [],
   "source": []
  },
  {
   "cell_type": "code",
   "execution_count": null,
   "metadata": {},
   "outputs": [],
   "source": []
  },
  {
   "cell_type": "code",
   "execution_count": null,
   "metadata": {},
   "outputs": [],
   "source": []
  },
  {
   "cell_type": "code",
   "execution_count": null,
   "metadata": {},
   "outputs": [],
   "source": []
  },
  {
   "cell_type": "code",
   "execution_count": null,
   "metadata": {},
   "outputs": [],
   "source": []
  },
  {
   "cell_type": "code",
   "execution_count": null,
   "metadata": {},
   "outputs": [],
   "source": []
  },
  {
   "cell_type": "code",
   "execution_count": null,
   "metadata": {},
   "outputs": [],
   "source": []
  },
  {
   "cell_type": "code",
   "execution_count": null,
   "metadata": {},
   "outputs": [],
   "source": []
  },
  {
   "cell_type": "code",
   "execution_count": null,
   "metadata": {},
   "outputs": [],
   "source": []
  },
  {
   "cell_type": "code",
   "execution_count": null,
   "metadata": {},
   "outputs": [],
   "source": []
  },
  {
   "cell_type": "code",
   "execution_count": null,
   "metadata": {},
   "outputs": [],
   "source": []
  },
  {
   "cell_type": "code",
   "execution_count": null,
   "metadata": {},
   "outputs": [],
   "source": []
  },
  {
   "cell_type": "code",
   "execution_count": null,
   "metadata": {},
   "outputs": [],
   "source": []
  },
  {
   "cell_type": "code",
   "execution_count": null,
   "metadata": {},
   "outputs": [],
   "source": []
  },
  {
   "cell_type": "code",
   "execution_count": null,
   "metadata": {},
   "outputs": [],
   "source": []
  },
  {
   "cell_type": "code",
   "execution_count": null,
   "metadata": {},
   "outputs": [],
   "source": []
  },
  {
   "cell_type": "code",
   "execution_count": null,
   "metadata": {},
   "outputs": [],
   "source": []
  },
  {
   "cell_type": "code",
   "execution_count": null,
   "metadata": {},
   "outputs": [],
   "source": []
  },
  {
   "cell_type": "code",
   "execution_count": null,
   "metadata": {},
   "outputs": [],
   "source": []
  },
  {
   "cell_type": "code",
   "execution_count": null,
   "metadata": {},
   "outputs": [],
   "source": []
  },
  {
   "cell_type": "code",
   "execution_count": null,
   "metadata": {},
   "outputs": [],
   "source": []
  },
  {
   "cell_type": "code",
   "execution_count": null,
   "metadata": {},
   "outputs": [],
   "source": []
  },
  {
   "cell_type": "code",
   "execution_count": null,
   "metadata": {},
   "outputs": [],
   "source": []
  },
  {
   "cell_type": "code",
   "execution_count": null,
   "metadata": {},
   "outputs": [],
   "source": []
  },
  {
   "cell_type": "code",
   "execution_count": null,
   "metadata": {},
   "outputs": [],
   "source": []
  },
  {
   "cell_type": "code",
   "execution_count": null,
   "metadata": {},
   "outputs": [],
   "source": []
  },
  {
   "cell_type": "code",
   "execution_count": null,
   "metadata": {},
   "outputs": [],
   "source": []
  },
  {
   "cell_type": "code",
   "execution_count": null,
   "metadata": {},
   "outputs": [],
   "source": []
  },
  {
   "cell_type": "code",
   "execution_count": null,
   "metadata": {},
   "outputs": [],
   "source": []
  },
  {
   "cell_type": "code",
   "execution_count": null,
   "metadata": {},
   "outputs": [],
   "source": []
  },
  {
   "cell_type": "code",
   "execution_count": null,
   "metadata": {},
   "outputs": [],
   "source": []
  },
  {
   "cell_type": "code",
   "execution_count": null,
   "metadata": {},
   "outputs": [],
   "source": []
  },
  {
   "cell_type": "code",
   "execution_count": null,
   "metadata": {},
   "outputs": [],
   "source": []
  },
  {
   "cell_type": "code",
   "execution_count": null,
   "metadata": {},
   "outputs": [],
   "source": []
  },
  {
   "cell_type": "code",
   "execution_count": null,
   "metadata": {},
   "outputs": [],
   "source": []
  },
  {
   "cell_type": "code",
   "execution_count": null,
   "metadata": {},
   "outputs": [],
   "source": []
  },
  {
   "cell_type": "code",
   "execution_count": null,
   "metadata": {},
   "outputs": [],
   "source": []
  },
  {
   "cell_type": "code",
   "execution_count": null,
   "metadata": {},
   "outputs": [],
   "source": []
  },
  {
   "cell_type": "code",
   "execution_count": null,
   "metadata": {},
   "outputs": [],
   "source": []
  },
  {
   "cell_type": "code",
   "execution_count": null,
   "metadata": {},
   "outputs": [],
   "source": []
  },
  {
   "cell_type": "code",
   "execution_count": null,
   "metadata": {},
   "outputs": [],
   "source": []
  },
  {
   "cell_type": "code",
   "execution_count": null,
   "metadata": {},
   "outputs": [],
   "source": []
  },
  {
   "cell_type": "code",
   "execution_count": null,
   "metadata": {},
   "outputs": [],
   "source": []
  },
  {
   "cell_type": "code",
   "execution_count": null,
   "metadata": {},
   "outputs": [],
   "source": []
  },
  {
   "cell_type": "code",
   "execution_count": null,
   "metadata": {},
   "outputs": [],
   "source": []
  },
  {
   "cell_type": "code",
   "execution_count": null,
   "metadata": {},
   "outputs": [],
   "source": []
  },
  {
   "cell_type": "code",
   "execution_count": null,
   "metadata": {},
   "outputs": [],
   "source": []
  },
  {
   "cell_type": "code",
   "execution_count": null,
   "metadata": {},
   "outputs": [],
   "source": []
  },
  {
   "cell_type": "code",
   "execution_count": null,
   "metadata": {},
   "outputs": [],
   "source": []
  },
  {
   "cell_type": "code",
   "execution_count": null,
   "metadata": {},
   "outputs": [],
   "source": []
  },
  {
   "cell_type": "code",
   "execution_count": null,
   "metadata": {},
   "outputs": [],
   "source": []
  },
  {
   "cell_type": "code",
   "execution_count": null,
   "metadata": {},
   "outputs": [],
   "source": []
  },
  {
   "cell_type": "code",
   "execution_count": null,
   "metadata": {},
   "outputs": [],
   "source": []
  },
  {
   "cell_type": "code",
   "execution_count": null,
   "metadata": {},
   "outputs": [],
   "source": []
  },
  {
   "cell_type": "code",
   "execution_count": null,
   "metadata": {},
   "outputs": [],
   "source": []
  },
  {
   "cell_type": "code",
   "execution_count": null,
   "metadata": {},
   "outputs": [],
   "source": []
  },
  {
   "cell_type": "code",
   "execution_count": null,
   "metadata": {},
   "outputs": [],
   "source": []
  },
  {
   "cell_type": "code",
   "execution_count": null,
   "metadata": {},
   "outputs": [],
   "source": []
  },
  {
   "cell_type": "code",
   "execution_count": null,
   "metadata": {},
   "outputs": [],
   "source": []
  },
  {
   "cell_type": "code",
   "execution_count": null,
   "metadata": {},
   "outputs": [],
   "source": []
  },
  {
   "cell_type": "code",
   "execution_count": null,
   "metadata": {},
   "outputs": [],
   "source": []
  },
  {
   "cell_type": "code",
   "execution_count": null,
   "metadata": {},
   "outputs": [],
   "source": []
  },
  {
   "cell_type": "code",
   "execution_count": null,
   "metadata": {},
   "outputs": [],
   "source": []
  },
  {
   "cell_type": "code",
   "execution_count": null,
   "metadata": {},
   "outputs": [],
   "source": []
  },
  {
   "cell_type": "code",
   "execution_count": null,
   "metadata": {},
   "outputs": [],
   "source": []
  },
  {
   "cell_type": "code",
   "execution_count": null,
   "metadata": {},
   "outputs": [],
   "source": []
  },
  {
   "cell_type": "code",
   "execution_count": null,
   "metadata": {},
   "outputs": [],
   "source": []
  },
  {
   "cell_type": "code",
   "execution_count": null,
   "metadata": {},
   "outputs": [],
   "source": []
  },
  {
   "cell_type": "code",
   "execution_count": null,
   "metadata": {},
   "outputs": [],
   "source": []
  },
  {
   "cell_type": "code",
   "execution_count": null,
   "metadata": {},
   "outputs": [],
   "source": []
  },
  {
   "cell_type": "code",
   "execution_count": null,
   "metadata": {},
   "outputs": [],
   "source": []
  },
  {
   "cell_type": "code",
   "execution_count": null,
   "metadata": {},
   "outputs": [],
   "source": []
  },
  {
   "cell_type": "code",
   "execution_count": null,
   "metadata": {},
   "outputs": [],
   "source": []
  },
  {
   "cell_type": "code",
   "execution_count": null,
   "metadata": {},
   "outputs": [],
   "source": []
  },
  {
   "cell_type": "code",
   "execution_count": null,
   "metadata": {},
   "outputs": [],
   "source": []
  },
  {
   "cell_type": "code",
   "execution_count": null,
   "metadata": {},
   "outputs": [],
   "source": []
  },
  {
   "cell_type": "code",
   "execution_count": null,
   "metadata": {},
   "outputs": [],
   "source": []
  },
  {
   "cell_type": "code",
   "execution_count": null,
   "metadata": {},
   "outputs": [],
   "source": []
  },
  {
   "cell_type": "code",
   "execution_count": null,
   "metadata": {},
   "outputs": [],
   "source": []
  },
  {
   "cell_type": "code",
   "execution_count": null,
   "metadata": {},
   "outputs": [],
   "source": []
  },
  {
   "cell_type": "code",
   "execution_count": null,
   "metadata": {},
   "outputs": [],
   "source": []
  },
  {
   "cell_type": "code",
   "execution_count": null,
   "metadata": {},
   "outputs": [],
   "source": []
  },
  {
   "cell_type": "code",
   "execution_count": null,
   "metadata": {},
   "outputs": [],
   "source": []
  },
  {
   "cell_type": "code",
   "execution_count": null,
   "metadata": {},
   "outputs": [],
   "source": []
  },
  {
   "cell_type": "code",
   "execution_count": null,
   "metadata": {},
   "outputs": [],
   "source": []
  },
  {
   "cell_type": "code",
   "execution_count": null,
   "metadata": {},
   "outputs": [],
   "source": []
  },
  {
   "cell_type": "code",
   "execution_count": null,
   "metadata": {},
   "outputs": [],
   "source": []
  },
  {
   "cell_type": "code",
   "execution_count": null,
   "metadata": {},
   "outputs": [],
   "source": []
  },
  {
   "cell_type": "code",
   "execution_count": null,
   "metadata": {},
   "outputs": [],
   "source": []
  },
  {
   "cell_type": "code",
   "execution_count": null,
   "metadata": {},
   "outputs": [],
   "source": []
  },
  {
   "cell_type": "code",
   "execution_count": null,
   "metadata": {},
   "outputs": [],
   "source": []
  },
  {
   "cell_type": "code",
   "execution_count": null,
   "metadata": {},
   "outputs": [],
   "source": []
  },
  {
   "cell_type": "code",
   "execution_count": null,
   "metadata": {},
   "outputs": [],
   "source": []
  },
  {
   "cell_type": "code",
   "execution_count": null,
   "metadata": {},
   "outputs": [],
   "source": []
  },
  {
   "cell_type": "code",
   "execution_count": null,
   "metadata": {},
   "outputs": [],
   "source": []
  },
  {
   "cell_type": "code",
   "execution_count": null,
   "metadata": {},
   "outputs": [],
   "source": []
  },
  {
   "cell_type": "code",
   "execution_count": null,
   "metadata": {},
   "outputs": [],
   "source": []
  },
  {
   "cell_type": "code",
   "execution_count": null,
   "metadata": {},
   "outputs": [],
   "source": []
  },
  {
   "cell_type": "code",
   "execution_count": null,
   "metadata": {},
   "outputs": [],
   "source": []
  },
  {
   "cell_type": "code",
   "execution_count": null,
   "metadata": {},
   "outputs": [],
   "source": []
  },
  {
   "cell_type": "code",
   "execution_count": null,
   "metadata": {},
   "outputs": [],
   "source": []
  },
  {
   "cell_type": "code",
   "execution_count": null,
   "metadata": {},
   "outputs": [],
   "source": []
  },
  {
   "cell_type": "code",
   "execution_count": null,
   "metadata": {},
   "outputs": [],
   "source": []
  },
  {
   "cell_type": "code",
   "execution_count": null,
   "metadata": {},
   "outputs": [],
   "source": []
  },
  {
   "cell_type": "code",
   "execution_count": null,
   "metadata": {},
   "outputs": [],
   "source": []
  }
 ],
 "metadata": {
  "kernelspec": {
   "display_name": "Python 3",
   "language": "python",
   "name": "python3"
  },
  "language_info": {
   "codemirror_mode": {
    "name": "ipython",
    "version": 3
   },
   "file_extension": ".py",
   "mimetype": "text/x-python",
   "name": "python",
   "nbconvert_exporter": "python",
   "pygments_lexer": "ipython3",
   "version": "3.6.9"
  }
 },
 "nbformat": 4,
 "nbformat_minor": 4
}
