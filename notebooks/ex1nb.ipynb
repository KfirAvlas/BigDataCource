{
 "cells": [
  {
   "cell_type": "code",
   "execution_count": 571,
   "metadata": {},
   "outputs": [],
   "source": [
    "# Big Data Ex1 Avlas Kfir 060519071\n",
    "#---------------------------------------\n",
    "\n",
    "# import needed libraries\n",
    "\n",
    "from pyspark.sql import SparkSession, DataFrame\n",
    "import matplotlib.pyplot as plt\n",
    "from matplotlib.dates import DateFormatter\n",
    "import pandas as pn # For visualization\n",
    "import seaborn as sns"
   ]
  },
  {
   "cell_type": "code",
   "execution_count": 572,
   "metadata": {},
   "outputs": [],
   "source": [
    "# Print dataFrame details\n",
    "\n",
    "def print_information(p_data: DataFrame):\n",
    "    print(\"Schema :\")\n",
    "    p_data.printSchema()\n",
    "    print(\"Number of rows: \" + str(p_data.count()))\n",
    "    print(\"Example row :\")\n",
    "    p_data.show(1)"
   ]
  },
  {
   "cell_type": "code",
   "execution_count": 573,
   "metadata": {},
   "outputs": [],
   "source": [
    "# Read csv file using spark sql API\n",
    "\n",
    "def read_file(p_path: str):\n",
    "    return spark.read.csv(p_path, inferSchema=True, header=True)"
   ]
  },
  {
   "cell_type": "code",
   "execution_count": 575,
   "metadata": {},
   "outputs": [],
   "source": [
    "# Query by sql command, create new temp view and return a new dataFrame \n",
    "\n",
    "def query_data(p_sql: str, p_view_name: str):\n",
    "    df = spark.sql(p_sql)\n",
    "    df.createOrReplaceTempView(p_view_name)\n",
    "    \n",
    "    return df"
   ]
  },
  {
   "cell_type": "code",
   "execution_count": 576,
   "metadata": {},
   "outputs": [],
   "source": [
    "# Create covid19 main dataFrame and initial view\n",
    "\n",
    "def read_covid19_data():\n",
    "    data = read_file(\"/home/spark-vm/PycharmProjects/BigDataCource/covid19.csv\")\n",
    "    data.createOrReplaceTempView(\"xx_covid19_init_v\")\n",
    "    \n",
    "    return data"
   ]
  },
  {
   "cell_type": "code",
   "execution_count": 577,
   "metadata": {},
   "outputs": [],
   "source": [
    "# Create stock (s&p500) main dataFrame and initial view\n",
    "\n",
    "def read_stock_data():\n",
    "    data = read_file(\"/home/spark-vm/PycharmProjects/BigDataCource/stock.csv\")\n",
    "    data.createOrReplaceTempView(\"xx_stock_init_v\")\n",
    "    \n",
    "    return data"
   ]
  },
  {
   "cell_type": "code",
   "execution_count": 578,
   "metadata": {},
   "outputs": [],
   "source": [
    "# Create Influenza main dataFrame and initial view\n",
    "\n",
    "def read_influenza_data():\n",
    "    data = read_file(\"/home/spark-vm/PycharmProjects/BigDataCource/influenza.csv\")\n",
    "    data.createOrReplaceTempView(\"xx_influenza_init_v\")\n",
    "    \n",
    "    return data"
   ]
  },
  {
   "cell_type": "code",
   "execution_count": 579,
   "metadata": {},
   "outputs": [],
   "source": [
    "# Generating visualizations with pyplot.\n",
    "#---------------------------------------\n",
    "\n",
    "# 1. Show x,y and z dataFrames values distribution plot\n",
    "\n",
    "def distribution(x: pn.DataFrame, xname: str, y: pn.DataFrame, yname: str,  \n",
    "                 z: pn.DataFrame = None, zname: str = \"\", p_title: str = \"\", p_format_date: bool = True):\n",
    "    plt.style.use(\"seaborn\")\n",
    "    plt.plot(x, y)\n",
    "    if z is not None:\n",
    "        if not z.empty:\n",
    "            plt.plot(x, z)\n",
    "    if p_format_date:\n",
    "        plt.gcf().axes[0].xaxis.set_major_formatter(DateFormatter('%d-%m'))\n",
    "    plt.title(p_title)\n",
    "    plt.legend([yname, zname], loc = \"upper left\")\n",
    "    plt.xlabel(xname)\n",
    "    plt.ylabel(yname + \"/\" + zname)"
   ]
  },
  {
   "cell_type": "code",
   "execution_count": 581,
   "metadata": {},
   "outputs": [],
   "source": [
    "# 2. Show a dataFrame value box plot\n",
    "\n",
    "def box_plot(x1: pn.DataFrame, x1name: str, x2: pn.DataFrame = None, x2name: str = \"\", p_title: str = \"\", p_desc: str = \"\"):\n",
    "    fig, ax = plt.subplots(1, 1, sharex = True, sharey = True)\n",
    "    arr = []\n",
    "    arr.append(x1)\n",
    "    if x2 != None:\n",
    "        arr.append(x2)\n",
    "    bp = ax.boxplot(arr)\n",
    "    ax.set_xticklabels([x1name, x2name])\n",
    "    plt.ylabel(p_desc)\n",
    "    plt.title(p_title)"
   ]
  },
  {
   "cell_type": "code",
   "execution_count": 582,
   "metadata": {},
   "outputs": [],
   "source": [
    "# 3. Show a dataFrame density estimation plot\n",
    "\n",
    "def density(x :pn.DataFrame, xname: str, title: str):\n",
    "    sns.kdeplot(x, shade = True, legend = False).set(title = \"Kernel Density Estimation(KDE)\" + \" \" + title, xlabel = xname)\n",
    "    "
   ]
  },
  {
   "cell_type": "code",
   "execution_count": 583,
   "metadata": {},
   "outputs": [],
   "source": [
    "# 4. Show scatter plot - up to 5 variables\n",
    "\n",
    "def scatter(x1: pn.DataFrame = None, x1name: str = \"\", \n",
    "            x2: pn.DataFrame = None, x2name: str = \"\",\n",
    "            x3: pn.DataFrame = None, x3name: str = \"\",\n",
    "            x4: pn.DataFrame = None, x4name: str = \"\",\n",
    "            x5: pn.DataFrame = None, x5name: str = \"\",\n",
    "            y1: pn.DataFrame = None, y1name: str = \"\", \n",
    "            y2: pn.DataFrame = None, y2name: str = \"\",\n",
    "            y3: pn.DataFrame = None, y3name: str = \"\",\n",
    "            y4: pn.DataFrame = None, y4name: str = \"\",\n",
    "            y5: pn.DataFrame = None, y5name: str = \"\",\n",
    "            xlabel: str = \"\",\n",
    "            ylabel: str = \"\",\n",
    "            title: str = \"\"):\n",
    "    plt.plot(x1, y1, 'r.')\n",
    "    plt.plot(x2, y2, 'b.')\n",
    "    plt.plot(x3, y3, 'g.')\n",
    "    plt.plot(x4, y4, 'y.')\n",
    "    plt.plot(x5, y5, 'c.')\n",
    "    plt.legend([y1name, y2name, y3name, y4name, y5name], loc = \"upper left\")\n",
    "    plt.title(title)\n",
    "    plt.gcf().axes[0].xaxis.set_major_formatter(DateFormatter('%d-%m'))\n",
    "    plt.xlabel(xlabel)\n",
    "    plt.ylabel(ylabel)"
   ]
  },
  {
   "cell_type": "code",
   "execution_count": 584,
   "metadata": {},
   "outputs": [],
   "source": [
    "# Read main covid19 data\n",
    "\n",
    "df1 = read_covid19_data()"
   ]
  },
  {
   "cell_type": "code",
   "execution_count": 600,
   "metadata": {},
   "outputs": [
    {
     "name": "stdout",
     "output_type": "stream",
     "text": [
      "Schema :\n",
      "root\n",
      " |-- continent: string (nullable = true)\n",
      " |-- country_id: string (nullable = true)\n",
      " |-- country: string (nullable = true)\n",
      " |-- date: date (nullable = true)\n",
      " |-- day: integer (nullable = true)\n",
      " |-- month: integer (nullable = true)\n",
      " |-- year: integer (nullable = true)\n",
      " |-- cases: integer (nullable = true)\n",
      " |-- deaths: integer (nullable = true)\n",
      " |-- deaths_percent: double (nullable = true)\n",
      "\n",
      "Number of rows: 12801\n",
      "Example row :\n",
      "+---------+----------+-------+----------+---+-----+----+-----+------+--------------+\n",
      "|continent|country_id|country|      date|day|month|year|cases|deaths|deaths_percent|\n",
      "+---------+----------+-------+----------+---+-----+----+-----+------+--------------+\n",
      "|   Africa|        AO| Angola|2020-03-22| 22|    3|2020|    2|     0|           0.0|\n",
      "+---------+----------+-------+----------+---+-----+----+-----+------+--------------+\n",
      "only showing top 1 row\n",
      "\n"
     ]
    }
   ],
   "source": [
    "# Prepare some covid19 dataFrames with manipulation and aggregation\n",
    "#------------------------------------------------------------------\n",
    "\n",
    "# 1. Create the basic view with covid19 data\n",
    "\n",
    "sql1 = (\n",
    "        \"SELECT continentExp as continent, \"\n",
    "                \"geoId as country_id, \"\n",
    "                \"countriesAndTerritories as country, \"\n",
    "                \"to_date(dateRep, 'dd-MM-yy') as date, \"\n",
    "                \"day, \"\n",
    "                \"month, \"\n",
    "                \"year, \"\n",
    "                \"cases, \"\n",
    "                \"deaths ,\"\n",
    "                \"((deaths / cases) * 100) as deaths_percent \"\n",
    "           \"FROM xx_covid19_init_v \"\n",
    "          \"ORDER BY continent, country_id,date ASC\"    )\n",
    "\n",
    "df1 = query_data(p_sql = sql1, p_view_name = \"xx_covid19_v\")\n",
    "\n",
    "print_information(df1)\n",
    "\n",
    "# Every dataFrame will be saved as Pandas dataFrame just for visualization\n",
    "df1 = df1.toPandas()"
   ]
  },
  {
   "cell_type": "code",
   "execution_count": 586,
   "metadata": {},
   "outputs": [
    {
     "name": "stdout",
     "output_type": "stream",
     "text": [
      "Schema :\n",
      "root\n",
      " |-- country_id: string (nullable = true)\n",
      " |-- declaration_of_emergency_date: date (nullable = true)\n",
      " |-- first_case_date: date (nullable = true)\n",
      " |-- days_from_declaration: integer (nullable = true)\n",
      " |-- total_cases: long (nullable = true)\n",
      " |-- total_deaths: long (nullable = true)\n",
      " |-- deaths_percent: double (nullable = true)\n",
      "\n",
      "Number of rows: 206\n",
      "Example row :\n",
      "+----------+-----------------------------+---------------+---------------------+-----------+------------+--------------+\n",
      "|country_id|declaration_of_emergency_date|first_case_date|days_from_declaration|total_cases|total_deaths|deaths_percent|\n",
      "+----------+-----------------------------+---------------+---------------------+-----------+------------+--------------+\n",
      "|        TC|                   2020-01-30|     2020-03-25|                   55|         11|           0|           0.0|\n",
      "+----------+-----------------------------+---------------+---------------------+-----------+------------+--------------+\n",
      "only showing top 1 row\n",
      "\n"
     ]
    }
   ],
   "source": [
    "# Aggregration by country\n",
    "\n",
    "# In this section I also tried to check what was the time passed (in days) between 30.1.20 which is\n",
    "# the date the \"World Health Organization\" warnned about the Covid19 epidemic and the date of the first case \n",
    "# discovered in each country means, country preparation time\n",
    "# I did'nt find a signal corolletion beteen this parameter and number of cases and deaths in each country\n",
    "\n",
    "sql2 = (\n",
    "    \"SELECT country_id ,\"\n",
    "                 \" to_date('30-01-2020', 'dd-MM-yyyy') declaration_of_emergency_date, \"\n",
    "                 \" MIN(date) as first_case_date, \"\n",
    "                 \" DATEDIFF(MIN(date), to_date('30-01-2020', 'dd-MM-yyyy')) as days_from_declaration, \"\n",
    "                 \" SUM(cases) as total_cases ,\"\n",
    "                 \" SUM(deaths) as total_deaths, \"\n",
    "                 \" (SUM(deaths) / SUM(cases) * 100) as deaths_percent \"\n",
    "             \"FROM xx_covid19_v \"\n",
    "           \"WHERE cases > 0 \"\n",
    "           \"GROUP BY country_id \"\n",
    "           \"ORDER BY deaths_percent\"\n",
    ")\n",
    "df2 = query_data(p_sql = sql2, p_view_name = \"xx_covid19_country_agr_v\")\n",
    "\n",
    "print_information(df2)\n",
    "\n",
    "df2 = df2.toPandas()"
   ]
  },
  {
   "cell_type": "code",
   "execution_count": 587,
   "metadata": {},
   "outputs": [
    {
     "name": "stdout",
     "output_type": "stream",
     "text": [
      "Schema :\n",
      "root\n",
      " |-- total_cases: long (nullable = true)\n",
      " |-- total_deaths: long (nullable = true)\n",
      " |-- deaths_percent: double (nullable = true)\n",
      " |-- avg_days_from_declaration: double (nullable = true)\n",
      "\n",
      "Number of rows: 1\n",
      "Example row :\n",
      "+-----------+------------+-----------------+-------------------------+\n",
      "|total_cases|total_deaths|   deaths_percent|avg_days_from_declaration|\n",
      "+-----------+------------+-----------------+-------------------------+\n",
      "|    2668144|      190104|7.124952776162006|       35.922330097087375|\n",
      "+-----------+------------+-----------------+-------------------------+\n",
      "\n"
     ]
    }
   ],
   "source": [
    "# Aggregation by all rows ( All world cases and deaths)\n",
    "\n",
    "# In addition - avarage preparation time (in days) : \n",
    "# Days between the date the \"World Health Organization\" warnned about the Covid19 epidemic \n",
    "# and the date of the first case discovered   \n",
    "\n",
    "sql3 = (\n",
    "    \"SELECT SUM(total_cases) as total_cases,\"\n",
    "          \" SUM(total_deaths) as total_deaths, \"\n",
    "          \" (SUM(total_deaths) / SUM(total_cases) * 100) as deaths_percent, \"\n",
    "          \" AVG(days_from_declaration) as avg_days_from_declaration \"\n",
    "          \"FROM xx_covid19_country_agr_v \"\n",
    ")\n",
    "df3 = query_data(p_sql = sql3, p_view_name = \"xx_covid19_world_agr_v\")\n",
    "\n",
    "print_information(df3)\n",
    "\n",
    "df3 = df3.toPandas()"
   ]
  },
  {
   "cell_type": "code",
   "execution_count": 588,
   "metadata": {},
   "outputs": [
    {
     "name": "stdout",
     "output_type": "stream",
     "text": [
      "Schema :\n",
      "root\n",
      " |-- date: date (nullable = true)\n",
      " |-- total_cases: long (nullable = true)\n",
      " |-- total_deaths: long (nullable = true)\n",
      " |-- deaths_percent: double (nullable = true)\n",
      "\n",
      "Number of rows: 116\n",
      "Example row :\n",
      "+----------+-----------+------------+--------------+\n",
      "|      date|total_cases|total_deaths|deaths_percent|\n",
      "+----------+-----------+------------+--------------+\n",
      "|2019-12-31|         27|           0|           0.0|\n",
      "+----------+-----------+------------+--------------+\n",
      "only showing top 1 row\n",
      "\n"
     ]
    }
   ],
   "source": [
    "# Aggregation by dates\n",
    "\n",
    "sql4 = (\n",
    "    \"SELECT date, \"\n",
    "          \" SUM(cases) as total_cases,\"\n",
    "          \" SUM(deaths) as total_deaths, \"\n",
    "          \" (SUM(deaths) / SUM(cases) * 100) as deaths_percent \"\n",
    "          \"FROM xx_covid19_v \"\n",
    "          \"GROUP BY date \"\n",
    "          \"ORDER BY date\"\n",
    ")\n",
    "\n",
    "df4 = query_data(p_sql = sql4, p_view_name = \"xx_covid19_date_agr_v\")\n",
    "\n",
    "print_information(df4)\n",
    "\n",
    "df4 = df4.toPandas()"
   ]
  },
  {
   "cell_type": "code",
   "execution_count": 589,
   "metadata": {},
   "outputs": [
    {
     "name": "stdout",
     "output_type": "stream",
     "text": [
      "Schema :\n",
      "root\n",
      " |-- date: date (nullable = true)\n",
      " |-- total_cases: long (nullable = true)\n",
      " |-- comsum_cases: long (nullable = true)\n",
      " |-- total_deaths: long (nullable = true)\n",
      " |-- comsum_deaths: long (nullable = true)\n",
      "\n",
      "Number of rows: 116\n",
      "Example row :\n",
      "+----------+-----------+------------+------------+-------------+\n",
      "|      date|total_cases|comsum_cases|total_deaths|comsum_deaths|\n",
      "+----------+-----------+------------+------------+-------------+\n",
      "|2019-12-31|         27|          27|           0|            0|\n",
      "+----------+-----------+------------+------------+-------------+\n",
      "only showing top 1 row\n",
      "\n"
     ]
    }
   ],
   "source": [
    "# Aggregation by dates - Comulative sum\n",
    "\n",
    "sql5 = (\n",
    "    \"SELECT date, \"\n",
    "          \" total_cases, \"\n",
    "          \" SUM(total_cases)  OVER (ORDER BY date) as comsum_cases, \"\n",
    "          \" total_deaths, \"\n",
    "          \" SUM(total_deaths) OVER (ORDER BY date) as comsum_deaths \"\n",
    "    \"FROM xx_covid19_date_agr_v \"\n",
    "          \"ORDER BY date\"\n",
    ")\n",
    "\n",
    "df5 = query_data(p_sql = sql5, p_view_name = \"xx_covid19_date_comsum_v\")\n",
    "\n",
    "print_information(df5)\n",
    "\n",
    "df5 = df5.toPandas()"
   ]
  },
  {
   "cell_type": "code",
   "execution_count": 590,
   "metadata": {},
   "outputs": [
    {
     "name": "stdout",
     "output_type": "stream",
     "text": [
      "Schema :\n",
      "root\n",
      " |-- date: date (nullable = true)\n",
      " |-- continent: string (nullable = true)\n",
      " |-- total_cases: long (nullable = true)\n",
      " |-- total_deaths: long (nullable = true)\n",
      " |-- deaths_percent: double (nullable = true)\n",
      "\n",
      "Number of rows: 407\n",
      "Example row :\n",
      "+----------+---------+-----------+------------+------------------+\n",
      "|      date|continent|total_cases|total_deaths|    deaths_percent|\n",
      "+----------+---------+-----------+------------+------------------+\n",
      "|2020-04-22|   Africa|       1350|          34|2.5185185185185186|\n",
      "+----------+---------+-----------+------------+------------------+\n",
      "only showing top 1 row\n",
      "\n"
     ]
    }
   ],
   "source": [
    "# Aggregation by date and continent\n",
    "\n",
    "sql6 = (\n",
    "    \"SELECT date, continent, \"\n",
    "          \" SUM(cases) as total_cases,\"\n",
    "          \" SUM(deaths) as total_deaths, \"\n",
    "          \" (SUM(deaths) / SUM(cases) * 100) as deaths_percent \"\n",
    "          \"FROM xx_covid19_v \"\n",
    "        \"WHERE cases > 0 \"\n",
    "          \"GROUP BY date, continent \"\n",
    "          \"ORDER BY continent\"\n",
    ")\n",
    "\n",
    "df6 = query_data(p_sql = sql6, p_view_name = \"xx_covid19_continent_agr_v\")\n",
    "\n",
    "print_information(df6)\n",
    "\n",
    "df6 = df6.toPandas()"
   ]
  },
  {
   "cell_type": "code",
   "execution_count": 17,
   "metadata": {},
   "outputs": [
    {
     "data": {
      "image/png": "[encoded data removed]",
      "text/plain": [
       "<Figure size 576x396 with 1 Axes>"
      ]
     },
     "metadata": {},
     "output_type": "display_data"
    }
   ],
   "source": [
    "# Show data distribution\n",
    "\n",
    "# Comulative summary - cases and deaths \n",
    "\n",
    "title = \"World total covid19 cases and deaths - Comulative sum\"\n",
    "distribution(x = df5.date, xname = \"Date\", y = df5.comsum_cases, yname = \"Cases - Comulative\", \n",
    "             z = df5.comsum_deaths, zname = \"Deaths - Comulative\", p_title = title)"
   ]
  },
  {
   "cell_type": "code",
   "execution_count": 18,
   "metadata": {},
   "outputs": [
    {
     "data": {
      "image/png": "[encoded data removed]",
      "text/plain": [
       "<Figure size 576x396 with 1 Axes>"
      ]
     },
     "metadata": {},
     "output_type": "display_data"
    }
   ],
   "source": [
    "# Avarage time (in days) between the date the \"World Health Organization\" warnned about the Covid19 epidemic \n",
    "# and the date of the first case discovered\n",
    "\n",
    "# There are also negative values which means that at the time of the WHO announcement, there were already \n",
    "# covid19 cases in the country. \n",
    "\n",
    "title = \"Days between WHO declaration date and first case date\"\n",
    "desc = \"Days between\"\n",
    "box_plot(x1 = df2.days_from_declaration, x1name = \"\", p_title = title, p_desc = desc)"
   ]
  },
  {
   "cell_type": "code",
   "execution_count": 19,
   "metadata": {},
   "outputs": [
    {
     "data": {
      "image/png": "[encoded data removed]",
      "text/plain": [
       "<Figure size 576x396 with 1 Axes>"
      ]
     },
     "metadata": {},
     "output_type": "display_data"
    }
   ],
   "source": [
    "# Percent of deaths of total cases \n",
    "\n",
    "title = \"Deaths rate (%)\"\n",
    "desc = \"Rate (%)\"\n",
    "box_plot(x1 = df2.deaths_percent, x1name = \"\", p_title = title, p_desc = desc)"
   ]
  },
  {
   "cell_type": "code",
   "execution_count": 672,
   "metadata": {},
   "outputs": [
    {
     "data": {
      "image/png": "[encoded data removed]",
      "text/plain": [
       "<Figure size 576x396 with 1 Axes>"
      ]
     },
     "metadata": {},
     "output_type": "display_data"
    }
   ],
   "source": [
    "title = \"% Deaths per day\"\n",
    "density(x = df4.total_cases, xname = \"Total Cases\", title = title)"
   ]
  },
  {
   "cell_type": "code",
   "execution_count": null,
   "metadata": {},
   "outputs": [],
   "source": []
  },
  {
   "cell_type": "code",
   "execution_count": 594,
   "metadata": {},
   "outputs": [
    {
     "data": {
      "image/png": "[encoded data removed]",
      "text/plain": [
       "<Figure size 576x396 with 1 Axes>"
      ]
     },
     "metadata": {},
     "output_type": "display_data"
    }
   ],
   "source": [
    "# Cvoid 19 outbreak in the world - Total cases\n",
    "\n",
    "title = \"Total cases by continent\"\n",
    "\n",
    "am  = df6[(df6.continent == \"America\")]\n",
    "eur = df6[(df6.continent == \"Europe\")]\n",
    "asi = df6[(df6.continent == \"Asia\")]\n",
    "oc  = df6[(df6.continent == \"Oceania\")]\n",
    "af  = df6[(df6.continent == \"Africa\")]\n",
    "\n",
    "scatter(x1 = am.date,  x1name = \"\",\n",
    "        x2 = eur.date, x2name = \"\",\n",
    "        x3 = asi.date, x3name = \"\",\n",
    "        x4 = oc.date,  x4name = \"\",\n",
    "        x5 = af.date,  x5name = \"\",\n",
    "        y1 = am.total_cases,  y1name = \"America\",\n",
    "        y2 = eur.total_cases, y2name = \"Europe\",\n",
    "        y3 = asi.total_cases, y3name = \"Asia\",\n",
    "        y4 = oc.total_cases , y4name = \"Oceania\",\n",
    "        y5 = af.total_cases , y5name = \"Africa\",\n",
    "        xlabel = \"Date\",\n",
    "        ylabel = \"Total cases\",\n",
    "        title = title)"
   ]
  },
  {
   "cell_type": "code",
   "execution_count": 595,
   "metadata": {},
   "outputs": [
    {
     "data": {
      "image/png": "[encoded data removed]",
      "text/plain": [
       "<Figure size 576x396 with 1 Axes>"
      ]
     },
     "metadata": {},
     "output_type": "display_data"
    }
   ],
   "source": [
    "# Cvoid 19 outbreak in the world - Total deaths\n",
    "\n",
    "# When comparing to the scatter above we can see that America has less deaths related to Europe \n",
    "# despite the fact that the number of cases in America is bigger\n",
    "\n",
    "title = \"Total deaths by continent\"\n",
    "scatter(x1 = am.date,  x1name = \"\",\n",
    "        x2 = eur.date, x2name = \"\",\n",
    "        x3 = asi.date, x3name = \"\",\n",
    "        x4 = oc.date,  x4name = \"\",\n",
    "        x5 = af.date,  x5name = \"\",\n",
    "        y1 = am.total_deaths,  y1name = \"America\",\n",
    "        y2 = eur.total_deaths, y2name = \"Europe\",\n",
    "        y3 = asi.total_deaths, y3name = \"Asia\",\n",
    "        y4 = oc.total_deaths , y4name = \"Oceania\",\n",
    "        y5 = af.total_deaths , y5name = \"Africa\",\n",
    "        xlabel = \"Date\",\n",
    "        ylabel = \"Total deaths\",\n",
    "        title = title)"
   ]
  },
  {
   "cell_type": "code",
   "execution_count": 601,
   "metadata": {},
   "outputs": [],
   "source": [
    "# Read stock data - s&p500 index\n",
    "\n",
    "t1 = read_stock_data()"
   ]
  },
  {
   "cell_type": "code",
   "execution_count": 604,
   "metadata": {},
   "outputs": [],
   "source": [
    "# Prepare some stock dataFrames with manipulation and aggregation\n",
    "#------------------------------------------------------------------\n",
    "\n",
    "# 1. Create the basic view with stock data\n",
    "# 2. Calculate rate daily change and delta between high and low rate \n",
    "# 3. Aggregate the avarge volume  \n",
    "\n",
    "t2_sql = (\"SELECT date , open, close , high, low, volume, \"\n",
    "          \" ((close - open ) / open) * 100 as change_percent, \"\n",
    "          \" high - low as delta, \"\n",
    "          \" AVG(volume) OVER (order by date) as vol_avg \"\n",
    "               \" FROM xx_stock_init_v\")"
   ]
  },
  {
   "cell_type": "code",
   "execution_count": 605,
   "metadata": {},
   "outputs": [
    {
     "name": "stdout",
     "output_type": "stream",
     "text": [
      "Schema :\n",
      "root\n",
      " |-- date: timestamp (nullable = true)\n",
      " |-- open: double (nullable = true)\n",
      " |-- close: double (nullable = true)\n",
      " |-- high: double (nullable = true)\n",
      " |-- low: double (nullable = true)\n",
      " |-- volume: long (nullable = true)\n",
      " |-- change_percent: double (nullable = true)\n",
      " |-- delta: double (nullable = true)\n",
      " |-- vol_avg: double (nullable = true)\n",
      "\n",
      "Number of rows: 84\n",
      "Example row :\n",
      "+-------------------+-----------+-----------+-----------+-----------+----------+-------------------+------------------+---------+\n",
      "|               date|       open|      close|       high|        low|    volume|     change_percent|             delta|  vol_avg|\n",
      "+-------------------+-----------+-----------+-----------+-----------+----------+-------------------+------------------+---------+\n",
      "|2020-01-02 00:00:00|3244.669922|3257.850098|3258.139893|3235.530029|3458250000|0.40621007118886365|22.609864000000016|3.45825E9|\n",
      "+-------------------+-----------+-----------+-----------+-----------+----------+-------------------+------------------+---------+\n",
      "only showing top 1 row\n",
      "\n"
     ]
    }
   ],
   "source": [
    "t2 = query_data(p_sql = t2_sql, p_view_name = \"xx_stock_v\")\n",
    "\n",
    "print_information(t2)\n",
    "\n",
    "t2 = t2.toPandas()"
   ]
  },
  {
   "cell_type": "code",
   "execution_count": 606,
   "metadata": {},
   "outputs": [
    {
     "data": {
      "image/png": "[encoded data removed]",
      "text/plain": [
       "<Figure size 576x396 with 1 Axes>"
      ]
     },
     "metadata": {},
     "output_type": "display_data"
    }
   ],
   "source": [
    "# S&p500low and high rates\n",
    "\n",
    "title = \"S&p500 low-high\"\n",
    "distribution(x = t2.date, xname = \"Date\", y = t2.low, yname = \"Low\", z = t2.high, zname = \"High\", p_title = title)"
   ]
  },
  {
   "cell_type": "code",
   "execution_count": 607,
   "metadata": {},
   "outputs": [
    {
     "data": {
      "image/png": "[encoded data removed]",
      "text/plain": [
       "<Figure size 576x396 with 1 Axes>"
      ]
     },
     "metadata": {},
     "output_type": "display_data"
    }
   ],
   "source": [
    "# S&p500 volatility \n",
    "\n",
    "title = \"S&p500 volatility\"\n",
    "distribution(x = t2.date, xname = \"Date\", y = t2.change_percent, yname = \"%Daily Change\",  p_title = title)"
   ]
  },
  {
   "cell_type": "code",
   "execution_count": 609,
   "metadata": {},
   "outputs": [
    {
     "data": {
      "image/png": "[encoded data removed]",
      "text/plain": [
       "<Figure size 576x396 with 1 Axes>"
      ]
     },
     "metadata": {},
     "output_type": "display_data"
    }
   ],
   "source": [
    "# Show a density estimation plot of rate daily change\n",
    "\n",
    "# We can see we got a normal distibution around Zero. The explanation might be the fact that\n",
    "# the market is recovering after declines\n",
    "\n",
    "title = \"s&p500 % Daily change\"\n",
    "density(x = t2.change_percent, xname = \"%Change\", title = title)"
   ]
  },
  {
   "cell_type": "code",
   "execution_count": 611,
   "metadata": {},
   "outputs": [],
   "source": [
    "# Read Influenza data file\n",
    "\n",
    "inf = read_influenza_data()"
   ]
  },
  {
   "cell_type": "code",
   "execution_count": 613,
   "metadata": {},
   "outputs": [
    {
     "name": "stdout",
     "output_type": "stream",
     "text": [
      "Schema :\n",
      "root\n",
      " |-- state: string (nullable = true)\n",
      " |-- year_week: integer (nullable = true)\n",
      " |-- deaths_pneumonia_influenza: integer (nullable = false)\n",
      " |-- all_deaths: integer (nullable = true)\n",
      "\n",
      "Number of rows: 24388\n",
      "Example row :\n",
      "+-------+---------+--------------------------+----------+\n",
      "|  state|year_week|deaths_pneumonia_influenza|all_deaths|\n",
      "+-------+---------+--------------------------+----------+\n",
      "|Alabama|   201001|                        89|      1031|\n",
      "+-------+---------+--------------------------+----------+\n",
      "only showing top 1 row\n",
      "\n"
     ]
    }
   ],
   "source": [
    "# Prepare some Influenza dataFrames with manipulation and aggregation\n",
    "#------------------------------------------------------------------\n",
    "\n",
    "# 1. Create the basic view with influenza and pneumonia data\n",
    "# 2. Drop 2009 and 2019 details which are  partial\n",
    "\n",
    "t3_sql = (\"SELECT state, year_week, \"\n",
    "          \" NVL(deaths_pneumonia_influenza, 0) as deaths_pneumonia_influenza, all_deaths \"\n",
    "          \"FROM xx_influenza_init_v \" \n",
    "          \"WHERE geoid = 'State' \"\n",
    "          \" AND substr(year_week, 1, 4) NOT IN ('2009', '2019')\"\n",
    "          \" ORDER BY year_week, state\")\n",
    "\n",
    "t3 = query_data(p_sql = t3_sql, p_view_name = \"xx_influenza_v\")\n",
    "\n",
    "print_information(t3)\n",
    "\n",
    "t3 = t3.toPandas()"
   ]
  },
  {
   "cell_type": "code",
   "execution_count": 615,
   "metadata": {},
   "outputs": [
    {
     "name": "stdout",
     "output_type": "stream",
     "text": [
      "Schema :\n",
      "root\n",
      " |-- year_week: integer (nullable = true)\n",
      " |-- _year_week: string (nullable = true)\n",
      " |-- deaths_pneumonia_influenza: long (nullable = true)\n",
      " |-- all_deaths: long (nullable = true)\n",
      " |-- deaths_pneumonia_influenza_percent: double (nullable = true)\n",
      "\n",
      "Number of rows: 469\n",
      "Example row :\n",
      "+---------+----------+--------------------------+----------+----------------------------------+\n",
      "|year_week|_year_week|deaths_pneumonia_influenza|all_deaths|deaths_pneumonia_influenza_percent|\n",
      "+---------+----------+--------------------------+----------+----------------------------------+\n",
      "|   201001|   01-2010|                      4465|     51018|                  8.75181308557764|\n",
      "+---------+----------+--------------------------+----------+----------------------------------+\n",
      "only showing top 1 row\n",
      "\n"
     ]
    }
   ],
   "source": [
    "# Aggregration by week/year\n",
    "\n",
    "t4_sql = (\"SELECT year_week, concat(substr(year_week, 5, 2), '-', substr(year_week, 1, 4)) as _year_week,  \"\n",
    "          \"SUM(deaths_pneumonia_influenza) as deaths_pneumonia_influenza, \"\n",
    "          \"SUM(all_deaths) as all_deaths, \"\n",
    "          \"SUM(deaths_pneumonia_influenza) / SUM(all_deaths) * 100 as deaths_pneumonia_influenza_percent \"\n",
    "          \" FROM xx_influenza_v \"     \n",
    "          \" GROUP BY year_week\" \n",
    "          \" ORDER BY year_week\")\n",
    "\n",
    "t4 = query_data(p_sql = t4_sql, p_view_name = \"xx_influenza_agr_v\")\n",
    "\n",
    "print_information(t4)\n",
    "\n",
    "t4=t4.toPandas()"
   ]
  },
  {
   "cell_type": "code",
   "execution_count": 619,
   "metadata": {},
   "outputs": [
    {
     "data": {
      "image/png": "[encoded data removed]",
      "text/plain": [
       "<Figure size 576x396 with 1 Axes>"
      ]
     },
     "metadata": {},
     "output_type": "display_data"
    }
   ],
   "source": [
    "# Show deaths from Pneumonia and Influenza disribution over the years\n",
    "\n",
    "title = \"Deaths from Pneumonia and Influenza per week\"\n",
    "distribution(x = t4._year_week, xname = \"Time\", y = t4.deaths_pneumonia_influenza, yname = \"Deaths from pneumonia and influenza\", z = None, zname = \"\", p_title = title, p_format_date = False)"
   ]
  },
  {
   "cell_type": "code",
   "execution_count": 620,
   "metadata": {},
   "outputs": [
    {
     "name": "stdout",
     "output_type": "stream",
     "text": [
      "Schema :\n",
      "root\n",
      " |-- year: string (nullable = true)\n",
      " |-- deaths_pneumonia_influenza: long (nullable = true)\n",
      " |-- all_deaths: long (nullable = true)\n",
      " |-- deaths_pneumonia_influenza_percent: double (nullable = true)\n",
      "\n",
      "Number of rows: 9\n",
      "Example row :\n",
      "+----+--------------------------+----------+----------------------------------+\n",
      "|year|deaths_pneumonia_influenza|all_deaths|deaths_pneumonia_influenza_percent|\n",
      "+----+--------------------------+----------+----------------------------------+\n",
      "|2010|                    188453|   2457230|                 7.669326843641009|\n",
      "+----+--------------------------+----------+----------------------------------+\n",
      "only showing top 1 row\n",
      "\n"
     ]
    }
   ],
   "source": [
    "# Aggregration by year\n",
    "\n",
    "t5_sql = (\"SELECT substr(year_week, 1, 4) as year, \"\n",
    "       \"SUM(deaths_pneumonia_influenza) as  deaths_pneumonia_influenza, \"\n",
    "       \"SUM(all_deaths) as all_deaths, \"\n",
    "        \"SUM(deaths_pneumonia_influenza) / SUM(all_deaths) * 100 as deaths_pneumonia_influenza_percent \"\n",
    "        \"FROM xx_influenza_agr_v \"\n",
    "        \"GROUP BY substr(year_week, 1, 4) \"\n",
    "        \"ORDER BY year\")\n",
    "\n",
    "t5 = query_data(p_sql = t5_sql, p_view_name = \"xx_influenza__year_agr_v\")\n",
    "\n",
    "print_information(t5)\n",
    "\n",
    "t5 = t5.toPandas()"
   ]
  },
  {
   "cell_type": "code",
   "execution_count": 621,
   "metadata": {},
   "outputs": [
    {
     "data": {
      "image/png": "[encoded data removed]",
      "text/plain": [
       "<Figure size 576x396 with 1 Axes>"
      ]
     },
     "metadata": {},
     "output_type": "display_data"
    }
   ],
   "source": [
    "# Percent of deaths from Pneumonia and Influenza of all deaths\n",
    "\n",
    "title = \"% Deaths from Pneumonia and Influenza per week\"\n",
    "distribution(x = t4._year_week, xname = \"Time\", y = t4.deaths_pneumonia_influenza_percent, yname = \"% Deaths from pneumonia and influenza\", z = None, zname = \"\", p_title = title, p_format_date = False)"
   ]
  },
  {
   "cell_type": "code",
   "execution_count": 623,
   "metadata": {},
   "outputs": [
    {
     "data": {
      "image/png": "[encoded data removed]",
      "text/plain": [
       "<Figure size 576x396 with 1 Axes>"
      ]
     },
     "metadata": {},
     "output_type": "display_data"
    }
   ],
   "source": [
    "# Percent of deaths from Pneumonia and Influenza of all deaths\n",
    "\n",
    "title = \"% Deaths from Pneumonia and Influenza\"\n",
    "desc = \"% Deaths\"\n",
    "box_plot(x1 = t4.deaths_pneumonia_influenza_percent, x1name = \"\", p_title = title, p_desc =  desc)"
   ]
  },
  {
   "cell_type": "code",
   "execution_count": 624,
   "metadata": {},
   "outputs": [
    {
     "data": {
      "image/png": "[encoded data removed]",
      "text/plain": [
       "<Figure size 576x396 with 1 Axes>"
      ]
     },
     "metadata": {},
     "output_type": "display_data"
    }
   ],
   "source": [
    "# Lets try to find interesting correlation between Covid19 outbreak and s&p500 index\n",
    "\n",
    "title = \"World total covid19 cases and deaths\"\n",
    "distribution(x = df5.date, xname = \"Date\", y = df5.total_cases, yname = \"Cases\", \n",
    "             z = df5.total_deaths, zname = \"Deaths\", p_title = title)"
   ]
  },
  {
   "cell_type": "code",
   "execution_count": 625,
   "metadata": {},
   "outputs": [
    {
     "data": {
      "image/png": "[encoded data removed]",
      "text/plain": [
       "<Figure size 576x396 with 1 Axes>"
      ]
     },
     "metadata": {},
     "output_type": "display_data"
    }
   ],
   "source": [
    "title = \"S&p500 rate\"\n",
    "distribution(x = t2.date, xname = \"Date\", y = t2.open, yname = \"Rate\", p_title = title)"
   ]
  },
  {
   "cell_type": "code",
   "execution_count": null,
   "metadata": {},
   "outputs": [],
   "source": [
    "# We can see that between 1.3.20 and 1.4.20 which is the peak of the Covid19 outbreak, \n",
    "# The s&p500 rate declined \n",
    "\n",
    "# We can also see in te next plot that between those dates, also the trading volume increased very much"
   ]
  },
  {
   "cell_type": "code",
   "execution_count": 626,
   "metadata": {},
   "outputs": [
    {
     "data": {
      "image/png": "[encoded data removed]",
      "text/plain": [
       "<Figure size 576x396 with 1 Axes>"
      ]
     },
     "metadata": {},
     "output_type": "display_data"
    }
   ],
   "source": [
    "title = \"S&p500 Daily volume\"\n",
    "distribution(x = t2.date, xname = \"Date\", y = t2.volume, yname = \"Volume\", p_title = title)"
   ]
  },
  {
   "cell_type": "code",
   "execution_count": 628,
   "metadata": {},
   "outputs": [],
   "source": [
    "# We can also see in the next plot that between those dates, also the delta between low and high rate increased\n",
    "# related to normal days . This is the \"Nervousness Index\" of the market"
   ]
  },
  {
   "cell_type": "code",
   "execution_count": 629,
   "metadata": {},
   "outputs": [
    {
     "data": {
      "image/png": "[encoded data removed]",
      "text/plain": [
       "<Figure size 576x396 with 1 Axes>"
      ]
     },
     "metadata": {},
     "output_type": "display_data"
    }
   ],
   "source": [
    "title = \"S&p500 Delta between low and high rates\"\n",
    "distribution(x = t2.date, xname = \"Date\", y = t2.delta, yname = \"Delta\", p_title = title)"
   ]
  },
  {
   "cell_type": "code",
   "execution_count": 640,
   "metadata": {},
   "outputs": [
    {
     "name": "stdout",
     "output_type": "stream",
     "text": [
      "Schema :\n",
      "root\n",
      " |-- covid19_cases: long (nullable = true)\n",
      " |-- sp_500rate: double (nullable = true)\n",
      "\n",
      "Number of rows: 62\n",
      "Example row :\n",
      "+-------------+-----------+\n",
      "|covid19_cases| sp_500rate|\n",
      "+-------------+-----------+\n",
      "|            0|3244.669922|\n",
      "+-------------+-----------+\n",
      "only showing top 1 row\n",
      "\n"
     ]
    }
   ],
   "source": [
    "# Let's build a new table and try to visualize the correlation between Covid19 outbreask and market rate\n",
    "\n",
    "a1_sql = (\"SELECT total_cases as covid19_cases,  xx_stock_v.open as sp_500rate\"\n",
    "          \" FROM xx_covid19_date_comsum_v \"\n",
    "              \"   INNER JOIN xx_stock_v  \"\n",
    "          \"ON xx_covid19_date_comsum_v.date = xx_stock_v.date \"\n",
    "          \"WHERE xx_covid19_date_comsum_v.date < TO_DATE('01-04-2020', 'dd-MM-yyyy') \"\n",
    "          \" ORDER BY xx_covid19_date_comsum_v.date\"\n",
    "         )\n",
    "\n",
    "a1 = query_data(p_sql = a1_sql, p_view_name = \"xx_model_v\")\n",
    "\n",
    "print_information(a1)\n",
    "\n",
    "m = a1 #Model\n",
    "\n",
    "a1 = a1.toPandas()"
   ]
  },
  {
   "cell_type": "code",
   "execution_count": null,
   "metadata": {},
   "outputs": [],
   "source": [
    "# We can see in the next plot that the s&p500 rate was decreased \n",
    "#  as far as the number of Covid19 cases around the world was increased "
   ]
  },
  {
   "cell_type": "code",
   "execution_count": 642,
   "metadata": {},
   "outputs": [
    {
     "data": {
      "image/png": "[encoded data removed]",
      "text/plain": [
       "<Figure size 576x396 with 1 Axes>"
      ]
     },
     "metadata": {},
     "output_type": "display_data"
    }
   ],
   "source": [
    "title = \"Model : S&p500 rate / Covid19 cases\"\n",
    "distribution(x = a1.covid19_cases, xname = \"Cases\", y = a1.sp_500rate, yname = \"Rate\", p_title = title, p_format_date = False)"
   ]
  },
  {
   "cell_type": "code",
   "execution_count": null,
   "metadata": {},
   "outputs": [],
   "source": [
    "#Lets try to run a Linear regression on those fields"
   ]
  },
  {
   "cell_type": "code",
   "execution_count": 636,
   "metadata": {},
   "outputs": [],
   "source": [
    "from pyspark.mllib.linalg import Vectors, Vector\n",
    "from pyspark.mllib.linalg import Matrices"
   ]
  },
  {
   "cell_type": "code",
   "execution_count": 643,
   "metadata": {},
   "outputs": [],
   "source": [
    "# Convert DataFrame to RDD object\n",
    "m = m.rdd"
   ]
  },
  {
   "cell_type": "code",
   "execution_count": 644,
   "metadata": {},
   "outputs": [
    {
     "data": {
      "text/plain": [
       "[Row(covid19_cases=0, sp_500rate=3244.669922),\n",
       " Row(covid19_cases=17, sp_500rate=3226.360107),\n",
       " Row(covid19_cases=0, sp_500rate=3217.550049),\n",
       " Row(covid19_cases=0, sp_500rate=3241.860107),\n",
       " Row(covid19_cases=0, sp_500rate=3238.590088),\n",
       " Row(covid19_cases=0, sp_500rate=3266.030029),\n",
       " Row(covid19_cases=0, sp_500rate=3281.810059),\n",
       " Row(covid19_cases=1, sp_500rate=3271.129883),\n",
       " Row(covid19_cases=0, sp_500rate=3285.350098),\n",
       " Row(covid19_cases=1, sp_500rate=3282.27002),\n",
       " Row(covid19_cases=0, sp_500rate=3302.969971),\n",
       " Row(covid19_cases=5, sp_500rate=3323.659912),\n",
       " Row(covid19_cases=153, sp_500rate=3321.030029),\n",
       " Row(covid19_cases=142, sp_500rate=3330.02002),\n",
       " Row(covid19_cases=97, sp_500rate=3315.77002),\n",
       " Row(covid19_cases=266, sp_500rate=3333.100098),\n",
       " Row(covid19_cases=797, sp_500rate=3247.159912),\n",
       " Row(covid19_cases=1767, sp_500rate=3255.350098),\n",
       " Row(covid19_cases=1480, sp_500rate=3289.459961),\n",
       " Row(covid19_cases=1756, sp_500rate=3256.449951)]"
      ]
     },
     "execution_count": 644,
     "metadata": {},
     "output_type": "execute_result"
    }
   ],
   "source": [
    "m.take(20)"
   ]
  },
  {
   "cell_type": "code",
   "execution_count": 645,
   "metadata": {},
   "outputs": [],
   "source": [
    "# Convert list to array\n",
    "import numpy as np\n",
    "m = m.map(lambda x: np.array(x))"
   ]
  },
  {
   "cell_type": "code",
   "execution_count": 646,
   "metadata": {},
   "outputs": [
    {
     "data": {
      "text/plain": [
       "[array([   0.      , 3244.669922]),\n",
       " array([  17.      , 3226.360107]),\n",
       " array([   0.      , 3217.550049]),\n",
       " array([   0.      , 3241.860107]),\n",
       " array([   0.      , 3238.590088]),\n",
       " array([   0.      , 3266.030029]),\n",
       " array([   0.      , 3281.810059]),\n",
       " array([1.00000000e+00, 3.27112988e+03]),\n",
       " array([   0.      , 3285.350098]),\n",
       " array([1.00000000e+00, 3.28227002e+03]),\n",
       " array([   0.      , 3302.969971]),\n",
       " array([   5.      , 3323.659912]),\n",
       " array([ 153.      , 3321.030029]),\n",
       " array([ 142.     , 3330.02002]),\n",
       " array([  97.     , 3315.77002]),\n",
       " array([ 266.      , 3333.100098]),\n",
       " array([ 797.      , 3247.159912]),\n",
       " array([1767.      , 3255.350098]),\n",
       " array([1480.      , 3289.459961]),\n",
       " array([1756.      , 3256.449951])]"
      ]
     },
     "execution_count": 646,
     "metadata": {},
     "output_type": "execute_result"
    }
   ],
   "source": [
    "m.take(20)"
   ]
  },
  {
   "cell_type": "code",
   "execution_count": 647,
   "metadata": {},
   "outputs": [
    {
     "data": {
      "text/plain": [
       "[DenseVector([0.0, 3244.6699]), DenseVector([17.0, 3226.3601])]"
      ]
     },
     "execution_count": 647,
     "metadata": {},
     "output_type": "execute_result"
    }
   ],
   "source": [
    "#Create dense vectors\n",
    "Vals = m.map(lambda x: Vectors.dense([float(v) for v in x]))\n",
    "Vals.take(2)"
   ]
  },
  {
   "cell_type": "code",
   "execution_count": null,
   "metadata": {},
   "outputs": [],
   "source": [
    "## Analyzing data distribution\n",
    "## We will use the RowMatrix objec to calculate its multivariance statistics"
   ]
  },
  {
   "cell_type": "code",
   "execution_count": 648,
   "metadata": {},
   "outputs": [
    {
     "name": "stdout",
     "output_type": "stream",
     "text": [
      "<pyspark.mllib.linalg.distributed.RowMatrix object at 0x7f0d01ec0908>\n"
     ]
    }
   ],
   "source": [
    "from pyspark.mllib.linalg.distributed import RowMatrix\n",
    "Mat = RowMatrix(Vals)\n",
    "print(Mat)"
   ]
  },
  {
   "cell_type": "code",
   "execution_count": 649,
   "metadata": {},
   "outputs": [
    {
     "data": {
      "text/plain": [
       "array([2.51310646e+08, 1.19235500e+05])"
      ]
     },
     "execution_count": 649,
     "metadata": {},
     "output_type": "execute_result"
    }
   ],
   "source": [
    "from pyspark.mllib.stat._statistics import Statistics\n",
    "Stats = Statistics.colStats(Vals)\n",
    "Stats.variance()"
   ]
  },
  {
   "cell_type": "code",
   "execution_count": 651,
   "metadata": {},
   "outputs": [
    {
     "name": "stdout",
     "output_type": "stream",
     "text": [
      "[141052.88618812  24230.99365301]\n"
     ]
    },
    {
     "data": {
      "text/plain": [
       "<pyspark.mllib.stat._statistics.MultivariateStatisticalSummary at 0x7f0d01eb0208>"
      ]
     },
     "execution_count": 651,
     "metadata": {},
     "output_type": "execute_result"
    }
   ],
   "source": [
    "Stats.normL1() \n",
    "print(Stats.normL2())\n",
    "Stats"
   ]
  },
  {
   "cell_type": "code",
   "execution_count": 653,
   "metadata": {},
   "outputs": [],
   "source": [
    "# Determide label point\n",
    "\n",
    "from pyspark.mllib.regression import LabeledPoint\n",
    "\n",
    "def toLabeledPoint(x):\n",
    "    a = x.toArray()\n",
    "    return LabeledPoint(a[-1], Vectors.dense(a[0:-1]))"
   ]
  },
  {
   "cell_type": "code",
   "execution_count": 654,
   "metadata": {},
   "outputs": [],
   "source": [
    "Data = Vals.map(toLabeledPoint)"
   ]
  },
  {
   "cell_type": "code",
   "execution_count": 656,
   "metadata": {},
   "outputs": [],
   "source": [
    "# Splits the data to train and test (80/20 ratio) \n",
    "\n",
    "sets = Data.randomSplit([0.8, 0.2])\n",
    "Train = sets[0]\n",
    "Valid = sets[1]"
   ]
  },
  {
   "cell_type": "code",
   "execution_count": 657,
   "metadata": {},
   "outputs": [
    {
     "name": "stdout",
     "output_type": "stream",
     "text": [
      "43\n",
      "19\n"
     ]
    }
   ],
   "source": [
    "print(Train.count())\n",
    "print(Valid.count())"
   ]
  },
  {
   "cell_type": "code",
   "execution_count": 658,
   "metadata": {},
   "outputs": [
    {
     "data": {
      "text/plain": [
       "[LabeledPoint(3266.030029, [0.0]),\n",
       " LabeledPoint(3281.810059, [0.0]),\n",
       " LabeledPoint(3271.129883, [1.0]),\n",
       " LabeledPoint(3302.969971, [0.0]),\n",
       " LabeledPoint(3330.02002, [142.0]),\n",
       " LabeledPoint(3247.159912, [797.0]),\n",
       " LabeledPoint(3289.459961, [1480.0]),\n",
       " LabeledPoint(3235.659912, [2818.0]),\n",
       " LabeledPoint(3280.610107, [3243.0]),\n",
       " LabeledPoint(3318.280029, [2988.0])]"
      ]
     },
     "execution_count": 658,
     "metadata": {},
     "output_type": "execute_result"
    }
   ],
   "source": [
    "Valid.take(10)"
   ]
  },
  {
   "cell_type": "code",
   "execution_count": 659,
   "metadata": {},
   "outputs": [
    {
     "data": {
      "text/plain": [
       "[LabeledPoint(3244.669922, [0.0]),\n",
       " LabeledPoint(3226.360107, [17.0]),\n",
       " LabeledPoint(3217.550049, [0.0]),\n",
       " LabeledPoint(3241.860107, [0.0]),\n",
       " LabeledPoint(3238.590088, [0.0]),\n",
       " LabeledPoint(3285.350098, [0.0]),\n",
       " LabeledPoint(3282.27002, [1.0]),\n",
       " LabeledPoint(3323.659912, [5.0]),\n",
       " LabeledPoint(3321.030029, [153.0]),\n",
       " LabeledPoint(3315.77002, [97.0])]"
      ]
     },
     "execution_count": 659,
     "metadata": {},
     "output_type": "execute_result"
    }
   ],
   "source": [
    "Train.take(10)"
   ]
  },
  {
   "cell_type": "code",
   "execution_count": 660,
   "metadata": {},
   "outputs": [],
   "source": [
    "# Normalization of the data\n",
    "\n",
    "from pyspark.mllib.feature import StandardScaler\n",
    "scaler = StandardScaler(True, True).fit(Train.map(lambda x: x.features))"
   ]
  },
  {
   "cell_type": "code",
   "execution_count": 661,
   "metadata": {},
   "outputs": [],
   "source": [
    "trainLabel = Train.map(lambda x: x.label)\n",
    "trainFeatures = Train.map(lambda x: x.features)\n",
    "validLabel = Valid.map(lambda x: x.label)\n",
    "validFeatures = Valid.map(lambda x: x.features)"
   ]
  },
  {
   "cell_type": "code",
   "execution_count": 662,
   "metadata": {},
   "outputs": [
    {
     "data": {
      "text/plain": [
       "[DenseVector([-0.551]), DenseVector([-0.55])]"
      ]
     },
     "execution_count": 662,
     "metadata": {},
     "output_type": "execute_result"
    }
   ],
   "source": [
    "scaler.transform(trainFeatures).take(2)"
   ]
  },
  {
   "cell_type": "code",
   "execution_count": 663,
   "metadata": {},
   "outputs": [
    {
     "data": {
      "text/plain": [
       "[(3244.669922, DenseVector([-0.551])), (3226.360107, DenseVector([-0.55]))]"
      ]
     },
     "execution_count": 663,
     "metadata": {},
     "output_type": "execute_result"
    }
   ],
   "source": [
    "trainLabel.zip(scaler.transform(trainFeatures)).take(2)"
   ]
  },
  {
   "cell_type": "code",
   "execution_count": 664,
   "metadata": {},
   "outputs": [],
   "source": [
    "#The zip function is used to combine two RDDs into the RDD of the Key / Value form.\n",
    "\n",
    "trainScaled = trainLabel.zip(scaler.transform(trainFeatures)).map(lambda x: LabeledPoint(x[0], x[1]))\n",
    "validScaled = validLabel.zip(scaler.transform(validFeatures)).map(lambda x: LabeledPoint(x[0], x[1]))"
   ]
  },
  {
   "cell_type": "code",
   "execution_count": 665,
   "metadata": {},
   "outputs": [],
   "source": [
    "# Run the machine learning.\n",
    "# We will cashe the train and value sets because the algorithm will use it by 200 iterations\n",
    "\n",
    "from pyspark.mllib.regression import LinearRegressionWithSGD\n",
    "alg = LinearRegressionWithSGD()\n",
    "trainScaled.cache()\n",
    "validScaled.cache()\n",
    "\n",
    "#Lets train the model \n",
    "model = alg.train(trainScaled, iterations=200, intercept=True)"
   ]
  },
  {
   "cell_type": "code",
   "execution_count": 666,
   "metadata": {},
   "outputs": [
    {
     "data": {
      "text/plain": [
       "[(3146.776406091112, 3266.030029),\n",
       " (3146.776406091112, 3281.810059),\n",
       " (3146.763426121136, 3271.129883),\n",
       " (3146.776406091112, 3302.969971),\n",
       " (3144.9332503544774, 3330.02002),\n",
       " (3136.4313700200005, 3247.159912),\n",
       " (3127.5660505261867, 3289.459961),\n",
       " (3110.198850697896, 3235.659912),\n",
       " (3104.682363457968, 3280.610107),\n",
       " (3107.992255801925, 3318.280029),\n",
       " (3113.4827831019, 3365.870117),\n",
       " (3119.8819083002168, 3370.5),\n",
       " (3133.8483559947163, 3360.5),\n",
       " (3139.9359619136017, 3257.610107),\n",
       " (3135.5746920015645, 3139.899902),\n",
       " (3117.714253314174, 3075.699951),\n",
       " (2718.4633568131317, 2290.709961),\n",
       " (2631.121138842602, 2344.439941),\n",
       " (2641.6089545834534, 2457.77002)]"
      ]
     },
     "execution_count": 666,
     "metadata": {},
     "output_type": "execute_result"
    }
   ],
   "source": [
    "validPredicts = validScaled.map(lambda x: (float(model.predict(x.features)), x.label))\n",
    "validPredicts.collect()"
   ]
  },
  {
   "cell_type": "code",
   "execution_count": 670,
   "metadata": {},
   "outputs": [],
   "source": [
    "# Lets check the root mean square error\n",
    "\n",
    "import math\n",
    "RSME = math.sqrt(validPredicts.map(lambda p: pow(p[0]-p[1], 2)).mean())"
   ]
  },
  {
   "cell_type": "code",
   "execution_count": 671,
   "metadata": {},
   "outputs": [
    {
     "data": {
      "text/plain": [
       "195.80135239037264"
      ]
     },
     "execution_count": 671,
     "metadata": {},
     "output_type": "execute_result"
    }
   ],
   "source": [
    "RSME"
   ]
  },
  {
   "cell_type": "code",
   "execution_count": null,
   "metadata": {},
   "outputs": [],
   "source": []
  },
  {
   "cell_type": "code",
   "execution_count": null,
   "metadata": {},
   "outputs": [],
   "source": []
  },
  {
   "cell_type": "code",
   "execution_count": null,
   "metadata": {},
   "outputs": [],
   "source": []
  },
  {
   "cell_type": "code",
   "execution_count": null,
   "metadata": {},
   "outputs": [],
   "source": []
  },
  {
   "cell_type": "code",
   "execution_count": null,
   "metadata": {},
   "outputs": [],
   "source": []
  },
  {
   "cell_type": "code",
   "execution_count": null,
   "metadata": {},
   "outputs": [],
   "source": []
  },
  {
   "cell_type": "code",
   "execution_count": null,
   "metadata": {},
   "outputs": [],
   "source": []
  },
  {
   "cell_type": "code",
   "execution_count": null,
   "metadata": {},
   "outputs": [],
   "source": []
  },
  {
   "cell_type": "code",
   "execution_count": null,
   "metadata": {},
   "outputs": [],
   "source": []
  },
  {
   "cell_type": "code",
   "execution_count": null,
   "metadata": {},
   "outputs": [],
   "source": []
  },
  {
   "cell_type": "code",
   "execution_count": null,
   "metadata": {},
   "outputs": [],
   "source": []
  },
  {
   "cell_type": "code",
   "execution_count": null,
   "metadata": {},
   "outputs": [],
   "source": []
  },
  {
   "cell_type": "code",
   "execution_count": null,
   "metadata": {},
   "outputs": [],
   "source": []
  },
  {
   "cell_type": "code",
   "execution_count": null,
   "metadata": {},
   "outputs": [],
   "source": []
  },
  {
   "cell_type": "code",
   "execution_count": null,
   "metadata": {},
   "outputs": [],
   "source": []
  },
  {
   "cell_type": "code",
   "execution_count": null,
   "metadata": {},
   "outputs": [],
   "source": []
  },
  {
   "cell_type": "code",
   "execution_count": null,
   "metadata": {},
   "outputs": [],
   "source": []
  },
  {
   "cell_type": "code",
   "execution_count": null,
   "metadata": {},
   "outputs": [],
   "source": []
  },
  {
   "cell_type": "code",
   "execution_count": null,
   "metadata": {},
   "outputs": [],
   "source": []
  },
  {
   "cell_type": "code",
   "execution_count": null,
   "metadata": {},
   "outputs": [],
   "source": []
  },
  {
   "cell_type": "code",
   "execution_count": null,
   "metadata": {},
   "outputs": [],
   "source": []
  },
  {
   "cell_type": "code",
   "execution_count": null,
   "metadata": {},
   "outputs": [],
   "source": []
  },
  {
   "cell_type": "code",
   "execution_count": null,
   "metadata": {},
   "outputs": [],
   "source": []
  },
  {
   "cell_type": "code",
   "execution_count": null,
   "metadata": {},
   "outputs": [],
   "source": []
  },
  {
   "cell_type": "code",
   "execution_count": null,
   "metadata": {},
   "outputs": [],
   "source": []
  },
  {
   "cell_type": "code",
   "execution_count": null,
   "metadata": {},
   "outputs": [],
   "source": []
  },
  {
   "cell_type": "code",
   "execution_count": null,
   "metadata": {},
   "outputs": [],
   "source": []
  },
  {
   "cell_type": "code",
   "execution_count": null,
   "metadata": {},
   "outputs": [],
   "source": []
  },
  {
   "cell_type": "code",
   "execution_count": null,
   "metadata": {},
   "outputs": [],
   "source": []
  },
  {
   "cell_type": "code",
   "execution_count": null,
   "metadata": {},
   "outputs": [],
   "source": []
  },
  {
   "cell_type": "code",
   "execution_count": null,
   "metadata": {},
   "outputs": [],
   "source": []
  },
  {
   "cell_type": "code",
   "execution_count": 479,
   "metadata": {},
   "outputs": [],
   "source": []
  },
  {
   "cell_type": "code",
   "execution_count": 563,
   "metadata": {},
   "outputs": [],
   "source": []
  },
  {
   "cell_type": "code",
   "execution_count": null,
   "metadata": {},
   "outputs": [],
   "source": []
  },
  {
   "cell_type": "code",
   "execution_count": null,
   "metadata": {},
   "outputs": [],
   "source": []
  },
  {
   "cell_type": "code",
   "execution_count": 564,
   "metadata": {},
   "outputs": [],
   "source": []
  },
  {
   "cell_type": "code",
   "execution_count": null,
   "metadata": {},
   "outputs": [],
   "source": []
  },
  {
   "cell_type": "code",
   "execution_count": null,
   "metadata": {},
   "outputs": [],
   "source": []
  },
  {
   "cell_type": "code",
   "execution_count": null,
   "metadata": {},
   "outputs": [],
   "source": []
  },
  {
   "cell_type": "code",
   "execution_count": null,
   "metadata": {},
   "outputs": [],
   "source": []
  },
  {
   "cell_type": "code",
   "execution_count": null,
   "metadata": {},
   "outputs": [],
   "source": []
  },
  {
   "cell_type": "code",
   "execution_count": null,
   "metadata": {},
   "outputs": [],
   "source": []
  },
  {
   "cell_type": "code",
   "execution_count": null,
   "metadata": {},
   "outputs": [],
   "source": []
  },
  {
   "cell_type": "code",
   "execution_count": 567,
   "metadata": {},
   "outputs": [],
   "source": []
  },
  {
   "cell_type": "code",
   "execution_count": null,
   "metadata": {},
   "outputs": [],
   "source": []
  },
  {
   "cell_type": "code",
   "execution_count": null,
   "metadata": {},
   "outputs": [],
   "source": []
  },
  {
   "cell_type": "code",
   "execution_count": 568,
   "metadata": {},
   "outputs": [],
   "source": []
  },
  {
   "cell_type": "code",
   "execution_count": null,
   "metadata": {},
   "outputs": [],
   "source": []
  },
  {
   "cell_type": "code",
   "execution_count": null,
   "metadata": {},
   "outputs": [],
   "source": []
  },
  {
   "cell_type": "code",
   "execution_count": null,
   "metadata": {},
   "outputs": [],
   "source": []
  },
  {
   "cell_type": "code",
   "execution_count": null,
   "metadata": {},
   "outputs": [],
   "source": []
  },
  {
   "cell_type": "code",
   "execution_count": null,
   "metadata": {},
   "outputs": [],
   "source": []
  },
  {
   "cell_type": "code",
   "execution_count": null,
   "metadata": {},
   "outputs": [],
   "source": []
  },
  {
   "cell_type": "code",
   "execution_count": null,
   "metadata": {},
   "outputs": [],
   "source": []
  },
  {
   "cell_type": "code",
   "execution_count": null,
   "metadata": {},
   "outputs": [],
   "source": []
  },
  {
   "cell_type": "code",
   "execution_count": null,
   "metadata": {},
   "outputs": [],
   "source": []
  },
  {
   "cell_type": "code",
   "execution_count": null,
   "metadata": {},
   "outputs": [],
   "source": []
  },
  {
   "cell_type": "code",
   "execution_count": null,
   "metadata": {},
   "outputs": [],
   "source": []
  },
  {
   "cell_type": "code",
   "execution_count": null,
   "metadata": {},
   "outputs": [],
   "source": []
  },
  {
   "cell_type": "code",
   "execution_count": null,
   "metadata": {},
   "outputs": [],
   "source": []
  },
  {
   "cell_type": "code",
   "execution_count": null,
   "metadata": {},
   "outputs": [],
   "source": []
  },
  {
   "cell_type": "code",
   "execution_count": null,
   "metadata": {},
   "outputs": [],
   "source": []
  },
  {
   "cell_type": "code",
   "execution_count": null,
   "metadata": {},
   "outputs": [],
   "source": []
  },
  {
   "cell_type": "code",
   "execution_count": null,
   "metadata": {},
   "outputs": [],
   "source": []
  },
  {
   "cell_type": "code",
   "execution_count": null,
   "metadata": {},
   "outputs": [],
   "source": []
  },
  {
   "cell_type": "code",
   "execution_count": null,
   "metadata": {},
   "outputs": [],
   "source": []
  },
  {
   "cell_type": "code",
   "execution_count": null,
   "metadata": {},
   "outputs": [],
   "source": []
  },
  {
   "cell_type": "code",
   "execution_count": null,
   "metadata": {},
   "outputs": [],
   "source": []
  },
  {
   "cell_type": "code",
   "execution_count": null,
   "metadata": {},
   "outputs": [],
   "source": []
  },
  {
   "cell_type": "code",
   "execution_count": null,
   "metadata": {},
   "outputs": [],
   "source": []
  },
  {
   "cell_type": "code",
   "execution_count": null,
   "metadata": {},
   "outputs": [],
   "source": []
  },
  {
   "cell_type": "code",
   "execution_count": null,
   "metadata": {},
   "outputs": [],
   "source": []
  },
  {
   "cell_type": "code",
   "execution_count": null,
   "metadata": {},
   "outputs": [],
   "source": []
  },
  {
   "cell_type": "code",
   "execution_count": null,
   "metadata": {},
   "outputs": [],
   "source": []
  },
  {
   "cell_type": "code",
   "execution_count": null,
   "metadata": {},
   "outputs": [],
   "source": []
  },
  {
   "cell_type": "code",
   "execution_count": null,
   "metadata": {},
   "outputs": [],
   "source": []
  },
  {
   "cell_type": "code",
   "execution_count": null,
   "metadata": {},
   "outputs": [],
   "source": []
  },
  {
   "cell_type": "code",
   "execution_count": null,
   "metadata": {},
   "outputs": [],
   "source": []
  },
  {
   "cell_type": "code",
   "execution_count": null,
   "metadata": {},
   "outputs": [],
   "source": []
  },
  {
   "cell_type": "code",
   "execution_count": null,
   "metadata": {},
   "outputs": [],
   "source": []
  },
  {
   "cell_type": "code",
   "execution_count": null,
   "metadata": {},
   "outputs": [],
   "source": []
  },
  {
   "cell_type": "code",
   "execution_count": null,
   "metadata": {},
   "outputs": [],
   "source": []
  },
  {
   "cell_type": "code",
   "execution_count": null,
   "metadata": {},
   "outputs": [],
   "source": []
  },
  {
   "cell_type": "code",
   "execution_count": null,
   "metadata": {},
   "outputs": [],
   "source": []
  },
  {
   "cell_type": "code",
   "execution_count": null,
   "metadata": {},
   "outputs": [],
   "source": []
  },
  {
   "cell_type": "code",
   "execution_count": null,
   "metadata": {},
   "outputs": [],
   "source": []
  },
  {
   "cell_type": "code",
   "execution_count": null,
   "metadata": {},
   "outputs": [],
   "source": []
  },
  {
   "cell_type": "code",
   "execution_count": null,
   "metadata": {},
   "outputs": [],
   "source": []
  },
  {
   "cell_type": "code",
   "execution_count": null,
   "metadata": {},
   "outputs": [],
   "source": []
  },
  {
   "cell_type": "code",
   "execution_count": null,
   "metadata": {},
   "outputs": [],
   "source": []
  },
  {
   "cell_type": "code",
   "execution_count": null,
   "metadata": {},
   "outputs": [],
   "source": []
  },
  {
   "cell_type": "code",
   "execution_count": null,
   "metadata": {},
   "outputs": [],
   "source": []
  },
  {
   "cell_type": "code",
   "execution_count": null,
   "metadata": {},
   "outputs": [],
   "source": []
  },
  {
   "cell_type": "code",
   "execution_count": null,
   "metadata": {},
   "outputs": [],
   "source": []
  },
  {
   "cell_type": "code",
   "execution_count": null,
   "metadata": {},
   "outputs": [],
   "source": []
  },
  {
   "cell_type": "code",
   "execution_count": null,
   "metadata": {},
   "outputs": [],
   "source": []
  },
  {
   "cell_type": "code",
   "execution_count": null,
   "metadata": {},
   "outputs": [],
   "source": []
  },
  {
   "cell_type": "code",
   "execution_count": null,
   "metadata": {},
   "outputs": [],
   "source": []
  },
  {
   "cell_type": "code",
   "execution_count": null,
   "metadata": {},
   "outputs": [],
   "source": []
  },
  {
   "cell_type": "code",
   "execution_count": null,
   "metadata": {},
   "outputs": [],
   "source": []
  },
  {
   "cell_type": "code",
   "execution_count": null,
   "metadata": {},
   "outputs": [],
   "source": []
  },
  {
   "cell_type": "code",
   "execution_count": null,
   "metadata": {},
   "outputs": [],
   "source": []
  },
  {
   "cell_type": "code",
   "execution_count": null,
   "metadata": {},
   "outputs": [],
   "source": []
  },
  {
   "cell_type": "code",
   "execution_count": null,
   "metadata": {},
   "outputs": [],
   "source": []
  },
  {
   "cell_type": "code",
   "execution_count": null,
   "metadata": {},
   "outputs": [],
   "source": []
  },
  {
   "cell_type": "code",
   "execution_count": null,
   "metadata": {},
   "outputs": [],
   "source": []
  },
  {
   "cell_type": "code",
   "execution_count": null,
   "metadata": {},
   "outputs": [],
   "source": []
  },
  {
   "cell_type": "code",
   "execution_count": null,
   "metadata": {},
   "outputs": [],
   "source": []
  },
  {
   "cell_type": "code",
   "execution_count": null,
   "metadata": {},
   "outputs": [],
   "source": []
  },
  {
   "cell_type": "code",
   "execution_count": null,
   "metadata": {},
   "outputs": [],
   "source": []
  },
  {
   "cell_type": "code",
   "execution_count": null,
   "metadata": {},
   "outputs": [],
   "source": []
  },
  {
   "cell_type": "code",
   "execution_count": null,
   "metadata": {},
   "outputs": [],
   "source": []
  },
  {
   "cell_type": "code",
   "execution_count": null,
   "metadata": {},
   "outputs": [],
   "source": []
  },
  {
   "cell_type": "code",
   "execution_count": null,
   "metadata": {},
   "outputs": [],
   "source": []
  },
  {
   "cell_type": "code",
   "execution_count": null,
   "metadata": {},
   "outputs": [],
   "source": []
  },
  {
   "cell_type": "code",
   "execution_count": null,
   "metadata": {},
   "outputs": [],
   "source": []
  },
  {
   "cell_type": "code",
   "execution_count": null,
   "metadata": {},
   "outputs": [],
   "source": []
  },
  {
   "cell_type": "code",
   "execution_count": null,
   "metadata": {},
   "outputs": [],
   "source": []
  },
  {
   "cell_type": "code",
   "execution_count": null,
   "metadata": {},
   "outputs": [],
   "source": []
  },
  {
   "cell_type": "code",
   "execution_count": null,
   "metadata": {},
   "outputs": [],
   "source": []
  },
  {
   "cell_type": "code",
   "execution_count": null,
   "metadata": {},
   "outputs": [],
   "source": []
  },
  {
   "cell_type": "code",
   "execution_count": null,
   "metadata": {},
   "outputs": [],
   "source": []
  },
  {
   "cell_type": "code",
   "execution_count": null,
   "metadata": {},
   "outputs": [],
   "source": []
  },
  {
   "cell_type": "code",
   "execution_count": null,
   "metadata": {},
   "outputs": [],
   "source": []
  },
  {
   "cell_type": "code",
   "execution_count": null,
   "metadata": {},
   "outputs": [],
   "source": []
  },
  {
   "cell_type": "code",
   "execution_count": null,
   "metadata": {},
   "outputs": [],
   "source": []
  },
  {
   "cell_type": "code",
   "execution_count": null,
   "metadata": {},
   "outputs": [],
   "source": []
  },
  {
   "cell_type": "code",
   "execution_count": null,
   "metadata": {},
   "outputs": [],
   "source": []
  },
  {
   "cell_type": "code",
   "execution_count": null,
   "metadata": {},
   "outputs": [],
   "source": []
  },
  {
   "cell_type": "code",
   "execution_count": null,
   "metadata": {},
   "outputs": [],
   "source": []
  },
  {
   "cell_type": "code",
   "execution_count": null,
   "metadata": {},
   "outputs": [],
   "source": []
  },
  {
   "cell_type": "code",
   "execution_count": null,
   "metadata": {},
   "outputs": [],
   "source": []
  },
  {
   "cell_type": "code",
   "execution_count": null,
   "metadata": {},
   "outputs": [],
   "source": []
  },
  {
   "cell_type": "code",
   "execution_count": null,
   "metadata": {},
   "outputs": [],
   "source": []
  },
  {
   "cell_type": "code",
   "execution_count": null,
   "metadata": {},
   "outputs": [],
   "source": []
  },
  {
   "cell_type": "code",
   "execution_count": null,
   "metadata": {},
   "outputs": [],
   "source": []
  },
  {
   "cell_type": "code",
   "execution_count": null,
   "metadata": {},
   "outputs": [],
   "source": []
  },
  {
   "cell_type": "code",
   "execution_count": null,
   "metadata": {},
   "outputs": [],
   "source": []
  },
  {
   "cell_type": "code",
   "execution_count": null,
   "metadata": {},
   "outputs": [],
   "source": []
  },
  {
   "cell_type": "code",
   "execution_count": null,
   "metadata": {},
   "outputs": [],
   "source": []
  },
  {
   "cell_type": "code",
   "execution_count": null,
   "metadata": {},
   "outputs": [],
   "source": []
  },
  {
   "cell_type": "code",
   "execution_count": null,
   "metadata": {},
   "outputs": [],
   "source": []
  },
  {
   "cell_type": "code",
   "execution_count": null,
   "metadata": {},
   "outputs": [],
   "source": []
  },
  {
   "cell_type": "code",
   "execution_count": null,
   "metadata": {},
   "outputs": [],
   "source": []
  },
  {
   "cell_type": "code",
   "execution_count": null,
   "metadata": {},
   "outputs": [],
   "source": []
  },
  {
   "cell_type": "code",
   "execution_count": null,
   "metadata": {},
   "outputs": [],
   "source": []
  },
  {
   "cell_type": "code",
   "execution_count": null,
   "metadata": {},
   "outputs": [],
   "source": []
  },
  {
   "cell_type": "code",
   "execution_count": null,
   "metadata": {},
   "outputs": [],
   "source": []
  },
  {
   "cell_type": "code",
   "execution_count": null,
   "metadata": {},
   "outputs": [],
   "source": []
  },
  {
   "cell_type": "code",
   "execution_count": null,
   "metadata": {},
   "outputs": [],
   "source": []
  },
  {
   "cell_type": "code",
   "execution_count": null,
   "metadata": {},
   "outputs": [],
   "source": []
  },
  {
   "cell_type": "code",
   "execution_count": null,
   "metadata": {},
   "outputs": [],
   "source": []
  },
  {
   "cell_type": "code",
   "execution_count": null,
   "metadata": {},
   "outputs": [],
   "source": [
    "\n"
   ]
  },
  {
   "cell_type": "code",
   "execution_count": null,
   "metadata": {},
   "outputs": [],
   "source": []
  },
  {
   "cell_type": "code",
   "execution_count": null,
   "metadata": {},
   "outputs": [],
   "source": []
  },
  {
   "cell_type": "code",
   "execution_count": null,
   "metadata": {},
   "outputs": [],
   "source": []
  },
  {
   "cell_type": "code",
   "execution_count": null,
   "metadata": {},
   "outputs": [],
   "source": []
  },
  {
   "cell_type": "code",
   "execution_count": null,
   "metadata": {},
   "outputs": [],
   "source": []
  },
  {
   "cell_type": "code",
   "execution_count": null,
   "metadata": {},
   "outputs": [],
   "source": []
  },
  {
   "cell_type": "code",
   "execution_count": null,
   "metadata": {},
   "outputs": [],
   "source": []
  },
  {
   "cell_type": "code",
   "execution_count": null,
   "metadata": {},
   "outputs": [],
   "source": []
  },
  {
   "cell_type": "code",
   "execution_count": null,
   "metadata": {},
   "outputs": [],
   "source": []
  },
  {
   "cell_type": "code",
   "execution_count": null,
   "metadata": {},
   "outputs": [],
   "source": []
  },
  {
   "cell_type": "code",
   "execution_count": null,
   "metadata": {},
   "outputs": [],
   "source": []
  },
  {
   "cell_type": "code",
   "execution_count": null,
   "metadata": {},
   "outputs": [],
   "source": []
  },
  {
   "cell_type": "code",
   "execution_count": null,
   "metadata": {},
   "outputs": [],
   "source": []
  },
  {
   "cell_type": "code",
   "execution_count": null,
   "metadata": {},
   "outputs": [],
   "source": []
  },
  {
   "cell_type": "code",
   "execution_count": null,
   "metadata": {},
   "outputs": [],
   "source": []
  },
  {
   "cell_type": "code",
   "execution_count": null,
   "metadata": {},
   "outputs": [],
   "source": []
  },
  {
   "cell_type": "code",
   "execution_count": null,
   "metadata": {},
   "outputs": [],
   "source": []
  },
  {
   "cell_type": "code",
   "execution_count": null,
   "metadata": {},
   "outputs": [],
   "source": []
  },
  {
   "cell_type": "code",
   "execution_count": null,
   "metadata": {},
   "outputs": [],
   "source": []
  },
  {
   "cell_type": "code",
   "execution_count": null,
   "metadata": {},
   "outputs": [],
   "source": []
  },
  {
   "cell_type": "code",
   "execution_count": null,
   "metadata": {},
   "outputs": [],
   "source": []
  },
  {
   "cell_type": "code",
   "execution_count": null,
   "metadata": {},
   "outputs": [],
   "source": []
  },
  {
   "cell_type": "code",
   "execution_count": null,
   "metadata": {},
   "outputs": [],
   "source": []
  },
  {
   "cell_type": "code",
   "execution_count": null,
   "metadata": {},
   "outputs": [],
   "source": []
  },
  {
   "cell_type": "code",
   "execution_count": null,
   "metadata": {},
   "outputs": [],
   "source": []
  },
  {
   "cell_type": "code",
   "execution_count": null,
   "metadata": {},
   "outputs": [],
   "source": []
  },
  {
   "cell_type": "code",
   "execution_count": null,
   "metadata": {},
   "outputs": [],
   "source": []
  },
  {
   "cell_type": "code",
   "execution_count": null,
   "metadata": {},
   "outputs": [],
   "source": []
  },
  {
   "cell_type": "code",
   "execution_count": null,
   "metadata": {},
   "outputs": [],
   "source": []
  },
  {
   "cell_type": "code",
   "execution_count": null,
   "metadata": {},
   "outputs": [],
   "source": []
  },
  {
   "cell_type": "code",
   "execution_count": null,
   "metadata": {},
   "outputs": [],
   "source": []
  },
  {
   "cell_type": "code",
   "execution_count": null,
   "metadata": {},
   "outputs": [],
   "source": []
  },
  {
   "cell_type": "code",
   "execution_count": null,
   "metadata": {},
   "outputs": [],
   "source": []
  },
  {
   "cell_type": "code",
   "execution_count": null,
   "metadata": {},
   "outputs": [],
   "source": []
  },
  {
   "cell_type": "code",
   "execution_count": null,
   "metadata": {},
   "outputs": [],
   "source": []
  },
  {
   "cell_type": "code",
   "execution_count": null,
   "metadata": {},
   "outputs": [],
   "source": []
  },
  {
   "cell_type": "code",
   "execution_count": null,
   "metadata": {},
   "outputs": [],
   "source": []
  },
  {
   "cell_type": "code",
   "execution_count": null,
   "metadata": {},
   "outputs": [],
   "source": []
  },
  {
   "cell_type": "code",
   "execution_count": null,
   "metadata": {},
   "outputs": [],
   "source": []
  },
  {
   "cell_type": "code",
   "execution_count": null,
   "metadata": {},
   "outputs": [],
   "source": []
  },
  {
   "cell_type": "code",
   "execution_count": null,
   "metadata": {},
   "outputs": [],
   "source": []
  },
  {
   "cell_type": "code",
   "execution_count": null,
   "metadata": {},
   "outputs": [],
   "source": []
  },
  {
   "cell_type": "code",
   "execution_count": null,
   "metadata": {},
   "outputs": [],
   "source": []
  },
  {
   "cell_type": "code",
   "execution_count": null,
   "metadata": {},
   "outputs": [],
   "source": []
  },
  {
   "cell_type": "code",
   "execution_count": null,
   "metadata": {},
   "outputs": [],
   "source": []
  },
  {
   "cell_type": "code",
   "execution_count": null,
   "metadata": {},
   "outputs": [],
   "source": []
  },
  {
   "cell_type": "code",
   "execution_count": null,
   "metadata": {},
   "outputs": [],
   "source": []
  },
  {
   "cell_type": "code",
   "execution_count": null,
   "metadata": {},
   "outputs": [],
   "source": []
  },
  {
   "cell_type": "code",
   "execution_count": null,
   "metadata": {},
   "outputs": [],
   "source": []
  },
  {
   "cell_type": "code",
   "execution_count": null,
   "metadata": {},
   "outputs": [],
   "source": []
  },
  {
   "cell_type": "code",
   "execution_count": null,
   "metadata": {},
   "outputs": [],
   "source": []
  },
  {
   "cell_type": "code",
   "execution_count": null,
   "metadata": {},
   "outputs": [],
   "source": []
  },
  {
   "cell_type": "code",
   "execution_count": null,
   "metadata": {},
   "outputs": [],
   "source": []
  },
  {
   "cell_type": "code",
   "execution_count": null,
   "metadata": {},
   "outputs": [],
   "source": []
  },
  {
   "cell_type": "code",
   "execution_count": null,
   "metadata": {},
   "outputs": [],
   "source": []
  },
  {
   "cell_type": "code",
   "execution_count": null,
   "metadata": {},
   "outputs": [],
   "source": []
  },
  {
   "cell_type": "code",
   "execution_count": null,
   "metadata": {},
   "outputs": [],
   "source": []
  },
  {
   "cell_type": "code",
   "execution_count": null,
   "metadata": {},
   "outputs": [],
   "source": []
  },
  {
   "cell_type": "code",
   "execution_count": null,
   "metadata": {},
   "outputs": [],
   "source": []
  },
  {
   "cell_type": "code",
   "execution_count": null,
   "metadata": {},
   "outputs": [],
   "source": []
  },
  {
   "cell_type": "code",
   "execution_count": null,
   "metadata": {},
   "outputs": [],
   "source": []
  },
  {
   "cell_type": "code",
   "execution_count": null,
   "metadata": {},
   "outputs": [],
   "source": []
  },
  {
   "cell_type": "code",
   "execution_count": null,
   "metadata": {},
   "outputs": [],
   "source": []
  },
  {
   "cell_type": "code",
   "execution_count": null,
   "metadata": {},
   "outputs": [],
   "source": []
  },
  {
   "cell_type": "code",
   "execution_count": null,
   "metadata": {},
   "outputs": [],
   "source": []
  },
  {
   "cell_type": "code",
   "execution_count": null,
   "metadata": {},
   "outputs": [],
   "source": []
  },
  {
   "cell_type": "code",
   "execution_count": null,
   "metadata": {},
   "outputs": [],
   "source": []
  },
  {
   "cell_type": "code",
   "execution_count": null,
   "metadata": {},
   "outputs": [],
   "source": []
  },
  {
   "cell_type": "code",
   "execution_count": null,
   "metadata": {},
   "outputs": [],
   "source": []
  },
  {
   "cell_type": "code",
   "execution_count": null,
   "metadata": {},
   "outputs": [],
   "source": []
  },
  {
   "cell_type": "code",
   "execution_count": null,
   "metadata": {},
   "outputs": [],
   "source": []
  },
  {
   "cell_type": "code",
   "execution_count": null,
   "metadata": {},
   "outputs": [],
   "source": []
  },
  {
   "cell_type": "code",
   "execution_count": null,
   "metadata": {},
   "outputs": [],
   "source": []
  },
  {
   "cell_type": "code",
   "execution_count": null,
   "metadata": {},
   "outputs": [],
   "source": []
  },
  {
   "cell_type": "code",
   "execution_count": null,
   "metadata": {},
   "outputs": [],
   "source": []
  },
  {
   "cell_type": "code",
   "execution_count": null,
   "metadata": {},
   "outputs": [],
   "source": []
  },
  {
   "cell_type": "code",
   "execution_count": null,
   "metadata": {},
   "outputs": [],
   "source": []
  },
  {
   "cell_type": "code",
   "execution_count": null,
   "metadata": {},
   "outputs": [],
   "source": []
  },
  {
   "cell_type": "code",
   "execution_count": null,
   "metadata": {},
   "outputs": [],
   "source": []
  },
  {
   "cell_type": "code",
   "execution_count": null,
   "metadata": {},
   "outputs": [],
   "source": []
  },
  {
   "cell_type": "code",
   "execution_count": null,
   "metadata": {},
   "outputs": [],
   "source": []
  },
  {
   "cell_type": "code",
   "execution_count": null,
   "metadata": {},
   "outputs": [],
   "source": []
  },
  {
   "cell_type": "code",
   "execution_count": null,
   "metadata": {},
   "outputs": [],
   "source": []
  },
  {
   "cell_type": "code",
   "execution_count": null,
   "metadata": {},
   "outputs": [],
   "source": []
  },
  {
   "cell_type": "code",
   "execution_count": null,
   "metadata": {},
   "outputs": [],
   "source": []
  },
  {
   "cell_type": "code",
   "execution_count": null,
   "metadata": {},
   "outputs": [],
   "source": []
  },
  {
   "cell_type": "code",
   "execution_count": null,
   "metadata": {},
   "outputs": [],
   "source": []
  },
  {
   "cell_type": "code",
   "execution_count": null,
   "metadata": {},
   "outputs": [],
   "source": []
  },
  {
   "cell_type": "code",
   "execution_count": null,
   "metadata": {},
   "outputs": [],
   "source": []
  },
  {
   "cell_type": "code",
   "execution_count": null,
   "metadata": {},
   "outputs": [],
   "source": []
  },
  {
   "cell_type": "code",
   "execution_count": null,
   "metadata": {},
   "outputs": [],
   "source": []
  },
  {
   "cell_type": "code",
   "execution_count": null,
   "metadata": {},
   "outputs": [],
   "source": []
  },
  {
   "cell_type": "code",
   "execution_count": null,
   "metadata": {},
   "outputs": [],
   "source": []
  },
  {
   "cell_type": "code",
   "execution_count": null,
   "metadata": {},
   "outputs": [],
   "source": []
  },
  {
   "cell_type": "code",
   "execution_count": null,
   "metadata": {},
   "outputs": [],
   "source": []
  },
  {
   "cell_type": "code",
   "execution_count": null,
   "metadata": {},
   "outputs": [],
   "source": []
  },
  {
   "cell_type": "code",
   "execution_count": null,
   "metadata": {},
   "outputs": [],
   "source": []
  },
  {
   "cell_type": "code",
   "execution_count": null,
   "metadata": {},
   "outputs": [],
   "source": []
  },
  {
   "cell_type": "code",
   "execution_count": null,
   "metadata": {},
   "outputs": [],
   "source": []
  },
  {
   "cell_type": "code",
   "execution_count": null,
   "metadata": {},
   "outputs": [],
   "source": []
  },
  {
   "cell_type": "code",
   "execution_count": null,
   "metadata": {},
   "outputs": [],
   "source": []
  },
  {
   "cell_type": "code",
   "execution_count": null,
   "metadata": {},
   "outputs": [],
   "source": []
  },
  {
   "cell_type": "code",
   "execution_count": null,
   "metadata": {},
   "outputs": [],
   "source": []
  },
  {
   "cell_type": "code",
   "execution_count": null,
   "metadata": {},
   "outputs": [],
   "source": []
  },
  {
   "cell_type": "code",
   "execution_count": null,
   "metadata": {},
   "outputs": [],
   "source": []
  },
  {
   "cell_type": "code",
   "execution_count": null,
   "metadata": {},
   "outputs": [],
   "source": []
  },
  {
   "cell_type": "code",
   "execution_count": null,
   "metadata": {},
   "outputs": [],
   "source": []
  },
  {
   "cell_type": "code",
   "execution_count": null,
   "metadata": {},
   "outputs": [],
   "source": []
  },
  {
   "cell_type": "code",
   "execution_count": null,
   "metadata": {},
   "outputs": [],
   "source": []
  },
  {
   "cell_type": "code",
   "execution_count": null,
   "metadata": {},
   "outputs": [],
   "source": []
  },
  {
   "cell_type": "code",
   "execution_count": null,
   "metadata": {},
   "outputs": [],
   "source": []
  },
  {
   "cell_type": "code",
   "execution_count": null,
   "metadata": {},
   "outputs": [],
   "source": []
  },
  {
   "cell_type": "code",
   "execution_count": null,
   "metadata": {},
   "outputs": [],
   "source": []
  },
  {
   "cell_type": "code",
   "execution_count": null,
   "metadata": {},
   "outputs": [],
   "source": []
  },
  {
   "cell_type": "code",
   "execution_count": null,
   "metadata": {},
   "outputs": [],
   "source": []
  },
  {
   "cell_type": "code",
   "execution_count": null,
   "metadata": {},
   "outputs": [],
   "source": []
  },
  {
   "cell_type": "code",
   "execution_count": null,
   "metadata": {},
   "outputs": [],
   "source": []
  },
  {
   "cell_type": "code",
   "execution_count": null,
   "metadata": {},
   "outputs": [],
   "source": []
  },
  {
   "cell_type": "code",
   "execution_count": null,
   "metadata": {},
   "outputs": [],
   "source": []
  },
  {
   "cell_type": "code",
   "execution_count": null,
   "metadata": {},
   "outputs": [],
   "source": []
  },
  {
   "cell_type": "code",
   "execution_count": null,
   "metadata": {},
   "outputs": [],
   "source": []
  },
  {
   "cell_type": "code",
   "execution_count": null,
   "metadata": {},
   "outputs": [],
   "source": []
  },
  {
   "cell_type": "code",
   "execution_count": null,
   "metadata": {},
   "outputs": [],
   "source": []
  },
  {
   "cell_type": "code",
   "execution_count": null,
   "metadata": {},
   "outputs": [],
   "source": []
  },
  {
   "cell_type": "code",
   "execution_count": null,
   "metadata": {},
   "outputs": [],
   "source": []
  },
  {
   "cell_type": "code",
   "execution_count": null,
   "metadata": {},
   "outputs": [],
   "source": []
  },
  {
   "cell_type": "code",
   "execution_count": null,
   "metadata": {},
   "outputs": [],
   "source": []
  },
  {
   "cell_type": "code",
   "execution_count": null,
   "metadata": {},
   "outputs": [],
   "source": []
  },
  {
   "cell_type": "code",
   "execution_count": null,
   "metadata": {},
   "outputs": [],
   "source": []
  },
  {
   "cell_type": "code",
   "execution_count": null,
   "metadata": {},
   "outputs": [],
   "source": []
  },
  {
   "cell_type": "code",
   "execution_count": null,
   "metadata": {},
   "outputs": [],
   "source": []
  },
  {
   "cell_type": "code",
   "execution_count": null,
   "metadata": {},
   "outputs": [],
   "source": []
  },
  {
   "cell_type": "code",
   "execution_count": null,
   "metadata": {},
   "outputs": [],
   "source": []
  },
  {
   "cell_type": "code",
   "execution_count": null,
   "metadata": {},
   "outputs": [],
   "source": []
  },
  {
   "cell_type": "code",
   "execution_count": null,
   "metadata": {},
   "outputs": [],
   "source": []
  },
  {
   "cell_type": "code",
   "execution_count": null,
   "metadata": {},
   "outputs": [],
   "source": []
  },
  {
   "cell_type": "code",
   "execution_count": null,
   "metadata": {},
   "outputs": [],
   "source": []
  },
  {
   "cell_type": "code",
   "execution_count": null,
   "metadata": {},
   "outputs": [],
   "source": []
  },
  {
   "cell_type": "code",
   "execution_count": null,
   "metadata": {},
   "outputs": [],
   "source": []
  },
  {
   "cell_type": "code",
   "execution_count": null,
   "metadata": {},
   "outputs": [],
   "source": []
  },
  {
   "cell_type": "code",
   "execution_count": null,
   "metadata": {},
   "outputs": [],
   "source": []
  },
  {
   "cell_type": "code",
   "execution_count": null,
   "metadata": {},
   "outputs": [],
   "source": []
  },
  {
   "cell_type": "code",
   "execution_count": null,
   "metadata": {},
   "outputs": [],
   "source": []
  },
  {
   "cell_type": "code",
   "execution_count": null,
   "metadata": {},
   "outputs": [],
   "source": []
  },
  {
   "cell_type": "code",
   "execution_count": null,
   "metadata": {},
   "outputs": [],
   "source": []
  },
  {
   "cell_type": "code",
   "execution_count": null,
   "metadata": {},
   "outputs": [],
   "source": []
  },
  {
   "cell_type": "code",
   "execution_count": null,
   "metadata": {},
   "outputs": [],
   "source": []
  },
  {
   "cell_type": "code",
   "execution_count": null,
   "metadata": {},
   "outputs": [],
   "source": []
  },
  {
   "cell_type": "code",
   "execution_count": null,
   "metadata": {},
   "outputs": [],
   "source": []
  },
  {
   "cell_type": "code",
   "execution_count": null,
   "metadata": {},
   "outputs": [],
   "source": []
  },
  {
   "cell_type": "code",
   "execution_count": null,
   "metadata": {},
   "outputs": [],
   "source": []
  },
  {
   "cell_type": "code",
   "execution_count": null,
   "metadata": {},
   "outputs": [],
   "source": []
  },
  {
   "cell_type": "code",
   "execution_count": null,
   "metadata": {},
   "outputs": [],
   "source": []
  },
  {
   "cell_type": "code",
   "execution_count": null,
   "metadata": {},
   "outputs": [],
   "source": []
  },
  {
   "cell_type": "code",
   "execution_count": null,
   "metadata": {},
   "outputs": [],
   "source": []
  },
  {
   "cell_type": "code",
   "execution_count": null,
   "metadata": {},
   "outputs": [],
   "source": []
  },
  {
   "cell_type": "code",
   "execution_count": null,
   "metadata": {},
   "outputs": [],
   "source": []
  },
  {
   "cell_type": "code",
   "execution_count": null,
   "metadata": {},
   "outputs": [],
   "source": []
  },
  {
   "cell_type": "code",
   "execution_count": null,
   "metadata": {},
   "outputs": [],
   "source": []
  },
  {
   "cell_type": "code",
   "execution_count": null,
   "metadata": {},
   "outputs": [],
   "source": []
  },
  {
   "cell_type": "code",
   "execution_count": null,
   "metadata": {},
   "outputs": [],
   "source": []
  },
  {
   "cell_type": "code",
   "execution_count": null,
   "metadata": {},
   "outputs": [],
   "source": []
  },
  {
   "cell_type": "code",
   "execution_count": null,
   "metadata": {},
   "outputs": [],
   "source": []
  },
  {
   "cell_type": "code",
   "execution_count": null,
   "metadata": {},
   "outputs": [],
   "source": []
  },
  {
   "cell_type": "code",
   "execution_count": null,
   "metadata": {},
   "outputs": [],
   "source": []
  },
  {
   "cell_type": "code",
   "execution_count": null,
   "metadata": {},
   "outputs": [],
   "source": []
  },
  {
   "cell_type": "code",
   "execution_count": null,
   "metadata": {},
   "outputs": [],
   "source": []
  },
  {
   "cell_type": "code",
   "execution_count": null,
   "metadata": {},
   "outputs": [],
   "source": []
  },
  {
   "cell_type": "code",
   "execution_count": null,
   "metadata": {},
   "outputs": [],
   "source": []
  },
  {
   "cell_type": "code",
   "execution_count": null,
   "metadata": {},
   "outputs": [],
   "source": []
  },
  {
   "cell_type": "code",
   "execution_count": null,
   "metadata": {},
   "outputs": [],
   "source": []
  },
  {
   "cell_type": "code",
   "execution_count": null,
   "metadata": {},
   "outputs": [],
   "source": []
  },
  {
   "cell_type": "code",
   "execution_count": null,
   "metadata": {},
   "outputs": [],
   "source": []
  },
  {
   "cell_type": "code",
   "execution_count": null,
   "metadata": {},
   "outputs": [],
   "source": []
  },
  {
   "cell_type": "code",
   "execution_count": null,
   "metadata": {},
   "outputs": [],
   "source": []
  },
  {
   "cell_type": "code",
   "execution_count": null,
   "metadata": {},
   "outputs": [],
   "source": []
  },
  {
   "cell_type": "code",
   "execution_count": null,
   "metadata": {},
   "outputs": [],
   "source": []
  },
  {
   "cell_type": "code",
   "execution_count": null,
   "metadata": {},
   "outputs": [],
   "source": []
  },
  {
   "cell_type": "code",
   "execution_count": null,
   "metadata": {},
   "outputs": [],
   "source": []
  },
  {
   "cell_type": "code",
   "execution_count": null,
   "metadata": {},
   "outputs": [],
   "source": []
  },
  {
   "cell_type": "code",
   "execution_count": null,
   "metadata": {},
   "outputs": [],
   "source": []
  },
  {
   "cell_type": "code",
   "execution_count": null,
   "metadata": {},
   "outputs": [],
   "source": []
  },
  {
   "cell_type": "code",
   "execution_count": null,
   "metadata": {},
   "outputs": [],
   "source": []
  },
  {
   "cell_type": "code",
   "execution_count": null,
   "metadata": {},
   "outputs": [],
   "source": []
  },
  {
   "cell_type": "code",
   "execution_count": null,
   "metadata": {},
   "outputs": [],
   "source": []
  },
  {
   "cell_type": "code",
   "execution_count": null,
   "metadata": {},
   "outputs": [],
   "source": []
  },
  {
   "cell_type": "code",
   "execution_count": null,
   "metadata": {},
   "outputs": [],
   "source": []
  },
  {
   "cell_type": "code",
   "execution_count": null,
   "metadata": {},
   "outputs": [],
   "source": []
  },
  {
   "cell_type": "code",
   "execution_count": null,
   "metadata": {},
   "outputs": [],
   "source": []
  },
  {
   "cell_type": "code",
   "execution_count": null,
   "metadata": {},
   "outputs": [],
   "source": []
  },
  {
   "cell_type": "code",
   "execution_count": null,
   "metadata": {},
   "outputs": [],
   "source": []
  },
  {
   "cell_type": "code",
   "execution_count": null,
   "metadata": {},
   "outputs": [],
   "source": []
  },
  {
   "cell_type": "code",
   "execution_count": null,
   "metadata": {},
   "outputs": [],
   "source": []
  },
  {
   "cell_type": "code",
   "execution_count": null,
   "metadata": {},
   "outputs": [],
   "source": []
  },
  {
   "cell_type": "code",
   "execution_count": null,
   "metadata": {},
   "outputs": [],
   "source": []
  },
  {
   "cell_type": "code",
   "execution_count": null,
   "metadata": {},
   "outputs": [],
   "source": []
  },
  {
   "cell_type": "code",
   "execution_count": null,
   "metadata": {},
   "outputs": [],
   "source": []
  },
  {
   "cell_type": "code",
   "execution_count": null,
   "metadata": {},
   "outputs": [],
   "source": []
  },
  {
   "cell_type": "code",
   "execution_count": null,
   "metadata": {},
   "outputs": [],
   "source": []
  },
  {
   "cell_type": "code",
   "execution_count": null,
   "metadata": {},
   "outputs": [],
   "source": []
  },
  {
   "cell_type": "code",
   "execution_count": null,
   "metadata": {},
   "outputs": [],
   "source": []
  },
  {
   "cell_type": "code",
   "execution_count": null,
   "metadata": {},
   "outputs": [],
   "source": []
  },
  {
   "cell_type": "code",
   "execution_count": null,
   "metadata": {},
   "outputs": [],
   "source": []
  },
  {
   "cell_type": "code",
   "execution_count": null,
   "metadata": {},
   "outputs": [],
   "source": []
  },
  {
   "cell_type": "code",
   "execution_count": null,
   "metadata": {},
   "outputs": [],
   "source": []
  },
  {
   "cell_type": "code",
   "execution_count": null,
   "metadata": {},
   "outputs": [],
   "source": []
  },
  {
   "cell_type": "code",
   "execution_count": null,
   "metadata": {},
   "outputs": [],
   "source": []
  },
  {
   "cell_type": "code",
   "execution_count": null,
   "metadata": {},
   "outputs": [],
   "source": []
  },
  {
   "cell_type": "code",
   "execution_count": null,
   "metadata": {},
   "outputs": [],
   "source": []
  },
  {
   "cell_type": "code",
   "execution_count": null,
   "metadata": {},
   "outputs": [],
   "source": []
  },
  {
   "cell_type": "code",
   "execution_count": null,
   "metadata": {},
   "outputs": [],
   "source": []
  },
  {
   "cell_type": "code",
   "execution_count": null,
   "metadata": {},
   "outputs": [],
   "source": []
  },
  {
   "cell_type": "code",
   "execution_count": null,
   "metadata": {},
   "outputs": [],
   "source": []
  },
  {
   "cell_type": "code",
   "execution_count": null,
   "metadata": {},
   "outputs": [],
   "source": []
  },
  {
   "cell_type": "code",
   "execution_count": null,
   "metadata": {},
   "outputs": [],
   "source": []
  },
  {
   "cell_type": "code",
   "execution_count": null,
   "metadata": {},
   "outputs": [],
   "source": []
  },
  {
   "cell_type": "code",
   "execution_count": null,
   "metadata": {},
   "outputs": [],
   "source": []
  },
  {
   "cell_type": "code",
   "execution_count": null,
   "metadata": {},
   "outputs": [],
   "source": []
  },
  {
   "cell_type": "code",
   "execution_count": null,
   "metadata": {},
   "outputs": [],
   "source": []
  },
  {
   "cell_type": "code",
   "execution_count": null,
   "metadata": {},
   "outputs": [],
   "source": []
  },
  {
   "cell_type": "code",
   "execution_count": null,
   "metadata": {},
   "outputs": [],
   "source": []
  },
  {
   "cell_type": "code",
   "execution_count": null,
   "metadata": {},
   "outputs": [],
   "source": []
  },
  {
   "cell_type": "code",
   "execution_count": null,
   "metadata": {},
   "outputs": [],
   "source": []
  },
  {
   "cell_type": "code",
   "execution_count": null,
   "metadata": {},
   "outputs": [],
   "source": []
  },
  {
   "cell_type": "code",
   "execution_count": null,
   "metadata": {},
   "outputs": [],
   "source": []
  },
  {
   "cell_type": "code",
   "execution_count": null,
   "metadata": {},
   "outputs": [],
   "source": []
  },
  {
   "cell_type": "code",
   "execution_count": null,
   "metadata": {},
   "outputs": [],
   "source": []
  },
  {
   "cell_type": "code",
   "execution_count": null,
   "metadata": {},
   "outputs": [],
   "source": []
  },
  {
   "cell_type": "code",
   "execution_count": null,
   "metadata": {},
   "outputs": [],
   "source": []
  },
  {
   "cell_type": "code",
   "execution_count": null,
   "metadata": {},
   "outputs": [],
   "source": []
  },
  {
   "cell_type": "code",
   "execution_count": null,
   "metadata": {},
   "outputs": [],
   "source": []
  },
  {
   "cell_type": "code",
   "execution_count": null,
   "metadata": {},
   "outputs": [],
   "source": []
  },
  {
   "cell_type": "code",
   "execution_count": null,
   "metadata": {},
   "outputs": [],
   "source": []
  },
  {
   "cell_type": "code",
   "execution_count": null,
   "metadata": {},
   "outputs": [],
   "source": []
  },
  {
   "cell_type": "code",
   "execution_count": null,
   "metadata": {},
   "outputs": [],
   "source": []
  },
  {
   "cell_type": "code",
   "execution_count": null,
   "metadata": {},
   "outputs": [],
   "source": []
  },
  {
   "cell_type": "code",
   "execution_count": null,
   "metadata": {},
   "outputs": [],
   "source": []
  },
  {
   "cell_type": "code",
   "execution_count": null,
   "metadata": {},
   "outputs": [],
   "source": []
  },
  {
   "cell_type": "code",
   "execution_count": null,
   "metadata": {},
   "outputs": [],
   "source": []
  },
  {
   "cell_type": "code",
   "execution_count": null,
   "metadata": {},
   "outputs": [],
   "source": []
  },
  {
   "cell_type": "code",
   "execution_count": null,
   "metadata": {},
   "outputs": [],
   "source": []
  },
  {
   "cell_type": "code",
   "execution_count": null,
   "metadata": {},
   "outputs": [],
   "source": []
  },
  {
   "cell_type": "code",
   "execution_count": null,
   "metadata": {},
   "outputs": [],
   "source": []
  },
  {
   "cell_type": "code",
   "execution_count": null,
   "metadata": {},
   "outputs": [],
   "source": []
  },
  {
   "cell_type": "code",
   "execution_count": null,
   "metadata": {},
   "outputs": [],
   "source": []
  },
  {
   "cell_type": "code",
   "execution_count": null,
   "metadata": {},
   "outputs": [],
   "source": []
  },
  {
   "cell_type": "code",
   "execution_count": null,
   "metadata": {},
   "outputs": [],
   "source": []
  },
  {
   "cell_type": "code",
   "execution_count": null,
   "metadata": {},
   "outputs": [],
   "source": []
  },
  {
   "cell_type": "code",
   "execution_count": null,
   "metadata": {},
   "outputs": [],
   "source": []
  },
  {
   "cell_type": "code",
   "execution_count": null,
   "metadata": {},
   "outputs": [],
   "source": []
  },
  {
   "cell_type": "code",
   "execution_count": null,
   "metadata": {},
   "outputs": [],
   "source": []
  },
  {
   "cell_type": "code",
   "execution_count": null,
   "metadata": {},
   "outputs": [],
   "source": []
  },
  {
   "cell_type": "code",
   "execution_count": null,
   "metadata": {},
   "outputs": [],
   "source": []
  },
  {
   "cell_type": "code",
   "execution_count": null,
   "metadata": {},
   "outputs": [],
   "source": []
  },
  {
   "cell_type": "code",
   "execution_count": null,
   "metadata": {},
   "outputs": [],
   "source": []
  },
  {
   "cell_type": "code",
   "execution_count": null,
   "metadata": {},
   "outputs": [],
   "source": []
  },
  {
   "cell_type": "code",
   "execution_count": null,
   "metadata": {},
   "outputs": [],
   "source": []
  },
  {
   "cell_type": "code",
   "execution_count": null,
   "metadata": {},
   "outputs": [],
   "source": []
  },
  {
   "cell_type": "code",
   "execution_count": null,
   "metadata": {},
   "outputs": [],
   "source": []
  },
  {
   "cell_type": "code",
   "execution_count": null,
   "metadata": {},
   "outputs": [],
   "source": []
  },
  {
   "cell_type": "code",
   "execution_count": null,
   "metadata": {},
   "outputs": [],
   "source": []
  },
  {
   "cell_type": "code",
   "execution_count": null,
   "metadata": {},
   "outputs": [],
   "source": []
  },
  {
   "cell_type": "code",
   "execution_count": null,
   "metadata": {},
   "outputs": [],
   "source": []
  },
  {
   "cell_type": "code",
   "execution_count": null,
   "metadata": {},
   "outputs": [],
   "source": []
  },
  {
   "cell_type": "code",
   "execution_count": null,
   "metadata": {},
   "outputs": [],
   "source": []
  },
  {
   "cell_type": "code",
   "execution_count": null,
   "metadata": {},
   "outputs": [],
   "source": []
  },
  {
   "cell_type": "code",
   "execution_count": null,
   "metadata": {},
   "outputs": [],
   "source": []
  },
  {
   "cell_type": "code",
   "execution_count": null,
   "metadata": {},
   "outputs": [],
   "source": []
  },
  {
   "cell_type": "code",
   "execution_count": null,
   "metadata": {},
   "outputs": [],
   "source": []
  },
  {
   "cell_type": "code",
   "execution_count": null,
   "metadata": {},
   "outputs": [],
   "source": []
  },
  {
   "cell_type": "code",
   "execution_count": null,
   "metadata": {},
   "outputs": [],
   "source": []
  },
  {
   "cell_type": "code",
   "execution_count": null,
   "metadata": {},
   "outputs": [],
   "source": []
  },
  {
   "cell_type": "code",
   "execution_count": null,
   "metadata": {},
   "outputs": [],
   "source": []
  },
  {
   "cell_type": "code",
   "execution_count": null,
   "metadata": {},
   "outputs": [],
   "source": []
  },
  {
   "cell_type": "code",
   "execution_count": null,
   "metadata": {},
   "outputs": [],
   "source": []
  },
  {
   "cell_type": "code",
   "execution_count": null,
   "metadata": {},
   "outputs": [],
   "source": []
  },
  {
   "cell_type": "code",
   "execution_count": null,
   "metadata": {},
   "outputs": [],
   "source": []
  },
  {
   "cell_type": "code",
   "execution_count": null,
   "metadata": {},
   "outputs": [],
   "source": []
  },
  {
   "cell_type": "code",
   "execution_count": null,
   "metadata": {},
   "outputs": [],
   "source": []
  },
  {
   "cell_type": "code",
   "execution_count": null,
   "metadata": {},
   "outputs": [],
   "source": []
  },
  {
   "cell_type": "code",
   "execution_count": null,
   "metadata": {},
   "outputs": [],
   "source": []
  },
  {
   "cell_type": "code",
   "execution_count": null,
   "metadata": {},
   "outputs": [],
   "source": []
  },
  {
   "cell_type": "code",
   "execution_count": null,
   "metadata": {},
   "outputs": [],
   "source": []
  },
  {
   "cell_type": "code",
   "execution_count": null,
   "metadata": {},
   "outputs": [],
   "source": []
  },
  {
   "cell_type": "code",
   "execution_count": null,
   "metadata": {},
   "outputs": [],
   "source": []
  },
  {
   "cell_type": "code",
   "execution_count": null,
   "metadata": {},
   "outputs": [],
   "source": []
  },
  {
   "cell_type": "code",
   "execution_count": null,
   "metadata": {},
   "outputs": [],
   "source": []
  },
  {
   "cell_type": "code",
   "execution_count": null,
   "metadata": {},
   "outputs": [],
   "source": []
  },
  {
   "cell_type": "code",
   "execution_count": null,
   "metadata": {},
   "outputs": [],
   "source": []
  },
  {
   "cell_type": "code",
   "execution_count": null,
   "metadata": {},
   "outputs": [],
   "source": []
  },
  {
   "cell_type": "code",
   "execution_count": null,
   "metadata": {},
   "outputs": [],
   "source": []
  },
  {
   "cell_type": "code",
   "execution_count": null,
   "metadata": {},
   "outputs": [],
   "source": []
  },
  {
   "cell_type": "code",
   "execution_count": null,
   "metadata": {},
   "outputs": [],
   "source": []
  },
  {
   "cell_type": "code",
   "execution_count": null,
   "metadata": {},
   "outputs": [],
   "source": []
  },
  {
   "cell_type": "code",
   "execution_count": null,
   "metadata": {},
   "outputs": [],
   "source": []
  },
  {
   "cell_type": "code",
   "execution_count": null,
   "metadata": {},
   "outputs": [],
   "source": []
  },
  {
   "cell_type": "code",
   "execution_count": null,
   "metadata": {},
   "outputs": [],
   "source": []
  }
 ],
 "metadata": {
  "kernelspec": {
   "display_name": "Python 3",
   "language": "python",
   "name": "python3"
  },
  "language_info": {
   "codemirror_mode": {
    "name": "ipython",
    "version": 3
   },
   "file_extension": ".py",
   "mimetype": "text/x-python",
   "name": "python",
   "nbconvert_exporter": "python",
   "pygments_lexer": "ipython3",
   "version": "3.6.9"
  }
 },
 "nbformat": 4,
 "nbformat_minor": 4
}
